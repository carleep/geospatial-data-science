{
  "nbformat": 4,
  "nbformat_minor": 0,
  "metadata": {
    "colab": {
      "name": "lab7_Submission.ipynb",
      "provenance": [],
      "collapsed_sections": [],
      "authorship_tag": "ABX9TyOrRBSwt6Lf6sZmnAc7lvHl",
      "include_colab_link": true
    },
    "kernelspec": {
      "name": "python3",
      "display_name": "Python 3"
    },
    "language_info": {
      "name": "python"
    }
  },
  "cells": [
    {
      "cell_type": "markdown",
      "metadata": {
        "id": "view-in-github",
        "colab_type": "text"
      },
      "source": [
        "<a href=\"https://colab.research.google.com/github/carleep/geospatial-data-science/blob/master/lab7_Submission.ipynb\" target=\"_parent\"><img src=\"https://colab.research.google.com/assets/colab-badge.svg\" alt=\"Open In Colab\"/></a>"
      ]
    },
    {
      "cell_type": "code",
      "execution_count": 1,
      "metadata": {
        "colab": {
          "base_uri": "https://localhost:8080/",
          "height": 0
        },
        "id": "QPnp9PUtY5wg",
        "outputId": "8f03d696-5501-4d3e-c493-ec79481e136a"
      },
      "outputs": [
        {
          "output_type": "stream",
          "name": "stdout",
          "text": [
            "Collecting selenium\n",
            "  Downloading selenium-4.1.0-py3-none-any.whl (958 kB)\n",
            "\u001b[K     |████████████████████████████████| 958 kB 4.6 MB/s \n",
            "\u001b[?25hRequirement already satisfied: pandas in /usr/local/lib/python3.7/dist-packages (1.3.5)\n",
            "Collecting geopandas\n",
            "  Downloading geopandas-0.10.2-py2.py3-none-any.whl (1.0 MB)\n",
            "\u001b[K     |████████████████████████████████| 1.0 MB 4.7 MB/s \n",
            "\u001b[?25hCollecting trio-websocket~=0.9\n",
            "  Downloading trio_websocket-0.9.2-py3-none-any.whl (16 kB)\n",
            "Collecting trio~=0.17\n",
            "  Downloading trio-0.20.0-py3-none-any.whl (359 kB)\n",
            "\u001b[K     |████████████████████████████████| 359 kB 26.5 MB/s \n",
            "\u001b[?25hCollecting urllib3[secure]~=1.26\n",
            "  Downloading urllib3-1.26.8-py2.py3-none-any.whl (138 kB)\n",
            "\u001b[K     |████████████████████████████████| 138 kB 18.2 MB/s \n",
            "\u001b[?25hCollecting outcome\n",
            "  Downloading outcome-1.1.0-py2.py3-none-any.whl (9.7 kB)\n",
            "Requirement already satisfied: attrs>=19.2.0 in /usr/local/lib/python3.7/dist-packages (from trio~=0.17->selenium) (21.4.0)\n",
            "Collecting sniffio\n",
            "  Downloading sniffio-1.2.0-py3-none-any.whl (10 kB)\n",
            "Requirement already satisfied: idna in /usr/local/lib/python3.7/dist-packages (from trio~=0.17->selenium) (2.10)\n",
            "Collecting async-generator>=1.9\n",
            "  Downloading async_generator-1.10-py3-none-any.whl (18 kB)\n",
            "Requirement already satisfied: sortedcontainers in /usr/local/lib/python3.7/dist-packages (from trio~=0.17->selenium) (2.4.0)\n",
            "Collecting wsproto>=0.14\n",
            "  Downloading wsproto-1.0.0-py3-none-any.whl (24 kB)\n",
            "Collecting pyOpenSSL>=0.14\n",
            "  Downloading pyOpenSSL-22.0.0-py2.py3-none-any.whl (55 kB)\n",
            "\u001b[K     |████████████████████████████████| 55 kB 3.0 MB/s \n",
            "\u001b[?25hCollecting cryptography>=1.3.4\n",
            "  Downloading cryptography-36.0.1-cp36-abi3-manylinux_2_24_x86_64.whl (3.6 MB)\n",
            "\u001b[K     |████████████████████████████████| 3.6 MB 40.4 MB/s \n",
            "\u001b[?25hRequirement already satisfied: certifi in /usr/local/lib/python3.7/dist-packages (from urllib3[secure]~=1.26->selenium) (2021.10.8)\n",
            "Requirement already satisfied: cffi>=1.12 in /usr/local/lib/python3.7/dist-packages (from cryptography>=1.3.4->urllib3[secure]~=1.26->selenium) (1.15.0)\n",
            "Requirement already satisfied: pycparser in /usr/local/lib/python3.7/dist-packages (from cffi>=1.12->cryptography>=1.3.4->urllib3[secure]~=1.26->selenium) (2.21)\n",
            "Collecting h11<1,>=0.9.0\n",
            "  Downloading h11-0.13.0-py3-none-any.whl (58 kB)\n",
            "\u001b[K     |████████████████████████████████| 58 kB 4.7 MB/s \n",
            "\u001b[?25hRequirement already satisfied: typing-extensions in /usr/local/lib/python3.7/dist-packages (from h11<1,>=0.9.0->wsproto>=0.14->trio-websocket~=0.9->selenium) (3.10.0.2)\n",
            "Requirement already satisfied: pytz>=2017.3 in /usr/local/lib/python3.7/dist-packages (from pandas) (2018.9)\n",
            "Requirement already satisfied: numpy>=1.17.3 in /usr/local/lib/python3.7/dist-packages (from pandas) (1.21.5)\n",
            "Requirement already satisfied: python-dateutil>=2.7.3 in /usr/local/lib/python3.7/dist-packages (from pandas) (2.8.2)\n",
            "Requirement already satisfied: six>=1.5 in /usr/local/lib/python3.7/dist-packages (from python-dateutil>=2.7.3->pandas) (1.15.0)\n",
            "Requirement already satisfied: shapely>=1.6 in /usr/local/lib/python3.7/dist-packages (from geopandas) (1.8.1)\n",
            "Collecting fiona>=1.8\n",
            "  Downloading Fiona-1.8.21-cp37-cp37m-manylinux2014_x86_64.whl (16.7 MB)\n",
            "\u001b[K     |████████████████████████████████| 16.7 MB 310 kB/s \n",
            "\u001b[?25hCollecting pyproj>=2.2.0\n",
            "  Downloading pyproj-3.2.1-cp37-cp37m-manylinux2010_x86_64.whl (6.3 MB)\n",
            "\u001b[K     |████████████████████████████████| 6.3 MB 35.3 MB/s \n",
            "\u001b[?25hCollecting cligj>=0.5\n",
            "  Downloading cligj-0.7.2-py3-none-any.whl (7.1 kB)\n",
            "Collecting munch\n",
            "  Downloading munch-2.5.0-py2.py3-none-any.whl (10 kB)\n",
            "Requirement already satisfied: setuptools in /usr/local/lib/python3.7/dist-packages (from fiona>=1.8->geopandas) (57.4.0)\n",
            "Requirement already satisfied: click>=4.0 in /usr/local/lib/python3.7/dist-packages (from fiona>=1.8->geopandas) (7.1.2)\n",
            "Collecting click-plugins>=1.0\n",
            "  Downloading click_plugins-1.1.1-py2.py3-none-any.whl (7.5 kB)\n",
            "Installing collected packages: sniffio, outcome, h11, cryptography, async-generator, wsproto, urllib3, trio, pyOpenSSL, munch, cligj, click-plugins, trio-websocket, pyproj, fiona, selenium, geopandas\n",
            "  Attempting uninstall: urllib3\n",
            "    Found existing installation: urllib3 1.24.3\n",
            "    Uninstalling urllib3-1.24.3:\n",
            "      Successfully uninstalled urllib3-1.24.3\n",
            "\u001b[31mERROR: pip's dependency resolver does not currently take into account all the packages that are installed. This behaviour is the source of the following dependency conflicts.\n",
            "requests 2.23.0 requires urllib3!=1.25.0,!=1.25.1,<1.26,>=1.21.1, but you have urllib3 1.26.8 which is incompatible.\n",
            "datascience 0.10.6 requires folium==0.2.1, but you have folium 0.8.3 which is incompatible.\u001b[0m\n",
            "Successfully installed async-generator-1.10 click-plugins-1.1.1 cligj-0.7.2 cryptography-36.0.1 fiona-1.8.21 geopandas-0.10.2 h11-0.13.0 munch-2.5.0 outcome-1.1.0 pyOpenSSL-22.0.0 pyproj-3.2.1 selenium-4.1.0 sniffio-1.2.0 trio-0.20.0 trio-websocket-0.9.2 urllib3-1.26.8 wsproto-1.0.0\n"
          ]
        }
      ],
      "source": [
        "!pip install -U selenium pandas geopandas"
      ]
    },
    {
      "cell_type": "code",
      "source": [
        "# Install package for obtaining USGS streamflow data\n",
        "!pip install -U dataretrieval"
      ],
      "metadata": {
        "colab": {
          "base_uri": "https://localhost:8080/",
          "height": 0
        },
        "id": "SvuGP9oSZdVt",
        "outputId": "5c09f818-874e-489a-d88a-564e823b5e4c"
      },
      "execution_count": 2,
      "outputs": [
        {
          "output_type": "stream",
          "name": "stdout",
          "text": [
            "Collecting dataretrieval\n",
            "  Downloading dataretrieval-0.7-py3-none-any.whl (16 kB)\n",
            "Requirement already satisfied: requests in /usr/local/lib/python3.7/dist-packages (from dataretrieval) (2.23.0)\n",
            "Requirement already satisfied: pandas in /usr/local/lib/python3.7/dist-packages (from dataretrieval) (1.3.5)\n",
            "Requirement already satisfied: python-dateutil>=2.7.3 in /usr/local/lib/python3.7/dist-packages (from pandas->dataretrieval) (2.8.2)\n",
            "Requirement already satisfied: numpy>=1.17.3 in /usr/local/lib/python3.7/dist-packages (from pandas->dataretrieval) (1.21.5)\n",
            "Requirement already satisfied: pytz>=2017.3 in /usr/local/lib/python3.7/dist-packages (from pandas->dataretrieval) (2018.9)\n",
            "Requirement already satisfied: six>=1.5 in /usr/local/lib/python3.7/dist-packages (from python-dateutil>=2.7.3->pandas->dataretrieval) (1.15.0)\n",
            "Requirement already satisfied: certifi>=2017.4.17 in /usr/local/lib/python3.7/dist-packages (from requests->dataretrieval) (2021.10.8)\n",
            "Collecting urllib3!=1.25.0,!=1.25.1,<1.26,>=1.21.1\n",
            "  Downloading urllib3-1.25.11-py2.py3-none-any.whl (127 kB)\n",
            "\u001b[K     |████████████████████████████████| 127 kB 5.2 MB/s \n",
            "\u001b[?25hRequirement already satisfied: chardet<4,>=3.0.2 in /usr/local/lib/python3.7/dist-packages (from requests->dataretrieval) (3.0.4)\n",
            "Requirement already satisfied: idna<3,>=2.5 in /usr/local/lib/python3.7/dist-packages (from requests->dataretrieval) (2.10)\n",
            "Installing collected packages: urllib3, dataretrieval\n",
            "  Attempting uninstall: urllib3\n",
            "    Found existing installation: urllib3 1.26.8\n",
            "    Uninstalling urllib3-1.26.8:\n",
            "      Successfully uninstalled urllib3-1.26.8\n",
            "\u001b[31mERROR: pip's dependency resolver does not currently take into account all the packages that are installed. This behaviour is the source of the following dependency conflicts.\n",
            "selenium 4.1.0 requires urllib3[secure]~=1.26, but you have urllib3 1.25.11 which is incompatible.\n",
            "datascience 0.10.6 requires folium==0.2.1, but you have folium 0.8.3 which is incompatible.\u001b[0m\n",
            "Successfully installed dataretrieval-0.7 urllib3-1.25.11\n"
          ]
        }
      ]
    },
    {
      "cell_type": "code",
      "source": [
        "!pip install -U selenium pandas geopandas folium\n",
        "!pip install -U dataretrieval\n",
        "!apt install chromium-chromedriver"
      ],
      "metadata": {
        "colab": {
          "base_uri": "https://localhost:8080/",
          "height": 0
        },
        "id": "fXddwqsiZkOU",
        "outputId": "11e4aa27-3b9b-422d-eb68-71cd1a90e82c"
      },
      "execution_count": 3,
      "outputs": [
        {
          "output_type": "stream",
          "name": "stdout",
          "text": [
            "Requirement already satisfied: selenium in /usr/local/lib/python3.7/dist-packages (4.1.0)\n",
            "Requirement already satisfied: pandas in /usr/local/lib/python3.7/dist-packages (1.3.5)\n",
            "Requirement already satisfied: geopandas in /usr/local/lib/python3.7/dist-packages (0.10.2)\n",
            "Requirement already satisfied: folium in /usr/local/lib/python3.7/dist-packages (0.8.3)\n",
            "Collecting folium\n",
            "  Downloading folium-0.12.1.post1-py2.py3-none-any.whl (95 kB)\n",
            "\u001b[K     |████████████████████████████████| 95 kB 1.8 MB/s \n",
            "\u001b[?25hCollecting urllib3[secure]~=1.26\n",
            "  Using cached urllib3-1.26.8-py2.py3-none-any.whl (138 kB)\n",
            "Requirement already satisfied: trio-websocket~=0.9 in /usr/local/lib/python3.7/dist-packages (from selenium) (0.9.2)\n",
            "Requirement already satisfied: trio~=0.17 in /usr/local/lib/python3.7/dist-packages (from selenium) (0.20.0)\n",
            "Requirement already satisfied: sniffio in /usr/local/lib/python3.7/dist-packages (from trio~=0.17->selenium) (1.2.0)\n",
            "Requirement already satisfied: async-generator>=1.9 in /usr/local/lib/python3.7/dist-packages (from trio~=0.17->selenium) (1.10)\n",
            "Requirement already satisfied: idna in /usr/local/lib/python3.7/dist-packages (from trio~=0.17->selenium) (2.10)\n",
            "Requirement already satisfied: attrs>=19.2.0 in /usr/local/lib/python3.7/dist-packages (from trio~=0.17->selenium) (21.4.0)\n",
            "Requirement already satisfied: outcome in /usr/local/lib/python3.7/dist-packages (from trio~=0.17->selenium) (1.1.0)\n",
            "Requirement already satisfied: sortedcontainers in /usr/local/lib/python3.7/dist-packages (from trio~=0.17->selenium) (2.4.0)\n",
            "Requirement already satisfied: wsproto>=0.14 in /usr/local/lib/python3.7/dist-packages (from trio-websocket~=0.9->selenium) (1.0.0)\n",
            "Requirement already satisfied: pyOpenSSL>=0.14 in /usr/local/lib/python3.7/dist-packages (from urllib3[secure]~=1.26->selenium) (22.0.0)\n",
            "Requirement already satisfied: cryptography>=1.3.4 in /usr/local/lib/python3.7/dist-packages (from urllib3[secure]~=1.26->selenium) (36.0.1)\n",
            "Requirement already satisfied: certifi in /usr/local/lib/python3.7/dist-packages (from urllib3[secure]~=1.26->selenium) (2021.10.8)\n",
            "Requirement already satisfied: cffi>=1.12 in /usr/local/lib/python3.7/dist-packages (from cryptography>=1.3.4->urllib3[secure]~=1.26->selenium) (1.15.0)\n",
            "Requirement already satisfied: pycparser in /usr/local/lib/python3.7/dist-packages (from cffi>=1.12->cryptography>=1.3.4->urllib3[secure]~=1.26->selenium) (2.21)\n",
            "Requirement already satisfied: h11<1,>=0.9.0 in /usr/local/lib/python3.7/dist-packages (from wsproto>=0.14->trio-websocket~=0.9->selenium) (0.13.0)\n",
            "Requirement already satisfied: typing-extensions in /usr/local/lib/python3.7/dist-packages (from h11<1,>=0.9.0->wsproto>=0.14->trio-websocket~=0.9->selenium) (3.10.0.2)\n",
            "Requirement already satisfied: python-dateutil>=2.7.3 in /usr/local/lib/python3.7/dist-packages (from pandas) (2.8.2)\n",
            "Requirement already satisfied: pytz>=2017.3 in /usr/local/lib/python3.7/dist-packages (from pandas) (2018.9)\n",
            "Requirement already satisfied: numpy>=1.17.3 in /usr/local/lib/python3.7/dist-packages (from pandas) (1.21.5)\n",
            "Requirement already satisfied: six>=1.5 in /usr/local/lib/python3.7/dist-packages (from python-dateutil>=2.7.3->pandas) (1.15.0)\n",
            "Requirement already satisfied: fiona>=1.8 in /usr/local/lib/python3.7/dist-packages (from geopandas) (1.8.21)\n",
            "Requirement already satisfied: pyproj>=2.2.0 in /usr/local/lib/python3.7/dist-packages (from geopandas) (3.2.1)\n",
            "Requirement already satisfied: shapely>=1.6 in /usr/local/lib/python3.7/dist-packages (from geopandas) (1.8.1)\n",
            "Requirement already satisfied: cligj>=0.5 in /usr/local/lib/python3.7/dist-packages (from fiona>=1.8->geopandas) (0.7.2)\n",
            "Requirement already satisfied: click>=4.0 in /usr/local/lib/python3.7/dist-packages (from fiona>=1.8->geopandas) (7.1.2)\n",
            "Requirement already satisfied: setuptools in /usr/local/lib/python3.7/dist-packages (from fiona>=1.8->geopandas) (57.4.0)\n",
            "Requirement already satisfied: click-plugins>=1.0 in /usr/local/lib/python3.7/dist-packages (from fiona>=1.8->geopandas) (1.1.1)\n",
            "Requirement already satisfied: munch in /usr/local/lib/python3.7/dist-packages (from fiona>=1.8->geopandas) (2.5.0)\n",
            "Requirement already satisfied: jinja2>=2.9 in /usr/local/lib/python3.7/dist-packages (from folium) (2.11.3)\n",
            "Requirement already satisfied: requests in /usr/local/lib/python3.7/dist-packages (from folium) (2.23.0)\n",
            "Requirement already satisfied: branca>=0.3.0 in /usr/local/lib/python3.7/dist-packages (from folium) (0.4.2)\n",
            "Requirement already satisfied: MarkupSafe>=0.23 in /usr/local/lib/python3.7/dist-packages (from jinja2>=2.9->folium) (2.0.1)\n",
            "Collecting requests\n",
            "  Downloading requests-2.27.1-py2.py3-none-any.whl (63 kB)\n",
            "\u001b[K     |████████████████████████████████| 63 kB 1.3 MB/s \n",
            "\u001b[?25hRequirement already satisfied: charset-normalizer~=2.0.0 in /usr/local/lib/python3.7/dist-packages (from requests->folium) (2.0.12)\n",
            "Installing collected packages: urllib3, requests, folium\n",
            "  Attempting uninstall: urllib3\n",
            "    Found existing installation: urllib3 1.25.11\n",
            "    Uninstalling urllib3-1.25.11:\n",
            "      Successfully uninstalled urllib3-1.25.11\n",
            "  Attempting uninstall: requests\n",
            "    Found existing installation: requests 2.23.0\n",
            "    Uninstalling requests-2.23.0:\n",
            "      Successfully uninstalled requests-2.23.0\n",
            "  Attempting uninstall: folium\n",
            "    Found existing installation: folium 0.8.3\n",
            "    Uninstalling folium-0.8.3:\n",
            "      Successfully uninstalled folium-0.8.3\n",
            "\u001b[31mERROR: pip's dependency resolver does not currently take into account all the packages that are installed. This behaviour is the source of the following dependency conflicts.\n",
            "google-colab 1.0.0 requires requests~=2.23.0, but you have requests 2.27.1 which is incompatible.\n",
            "datascience 0.10.6 requires folium==0.2.1, but you have folium 0.12.1.post1 which is incompatible.\u001b[0m\n",
            "Successfully installed folium-0.12.1.post1 requests-2.27.1 urllib3-1.26.8\n",
            "Requirement already satisfied: dataretrieval in /usr/local/lib/python3.7/dist-packages (0.7)\n",
            "Requirement already satisfied: pandas in /usr/local/lib/python3.7/dist-packages (from dataretrieval) (1.3.5)\n",
            "Requirement already satisfied: requests in /usr/local/lib/python3.7/dist-packages (from dataretrieval) (2.27.1)\n",
            "Requirement already satisfied: pytz>=2017.3 in /usr/local/lib/python3.7/dist-packages (from pandas->dataretrieval) (2018.9)\n",
            "Requirement already satisfied: numpy>=1.17.3 in /usr/local/lib/python3.7/dist-packages (from pandas->dataretrieval) (1.21.5)\n",
            "Requirement already satisfied: python-dateutil>=2.7.3 in /usr/local/lib/python3.7/dist-packages (from pandas->dataretrieval) (2.8.2)\n",
            "Requirement already satisfied: six>=1.5 in /usr/local/lib/python3.7/dist-packages (from python-dateutil>=2.7.3->pandas->dataretrieval) (1.15.0)\n",
            "Requirement already satisfied: charset-normalizer~=2.0.0 in /usr/local/lib/python3.7/dist-packages (from requests->dataretrieval) (2.0.12)\n",
            "Requirement already satisfied: urllib3<1.27,>=1.21.1 in /usr/local/lib/python3.7/dist-packages (from requests->dataretrieval) (1.26.8)\n",
            "Requirement already satisfied: idna<4,>=2.5 in /usr/local/lib/python3.7/dist-packages (from requests->dataretrieval) (2.10)\n",
            "Requirement already satisfied: certifi>=2017.4.17 in /usr/local/lib/python3.7/dist-packages (from requests->dataretrieval) (2021.10.8)\n",
            "Reading package lists... Done\n",
            "Building dependency tree       \n",
            "Reading state information... Done\n",
            "The following package was automatically installed and is no longer required:\n",
            "  libnvidia-common-470\n",
            "Use 'apt autoremove' to remove it.\n",
            "The following additional packages will be installed:\n",
            "  chromium-browser chromium-browser-l10n chromium-codecs-ffmpeg-extra\n",
            "Suggested packages:\n",
            "  webaccounts-chromium-extension unity-chromium-extension\n",
            "The following NEW packages will be installed:\n",
            "  chromium-browser chromium-browser-l10n chromium-chromedriver\n",
            "  chromium-codecs-ffmpeg-extra\n",
            "0 upgraded, 4 newly installed, 0 to remove and 39 not upgraded.\n",
            "Need to get 95.3 MB of archives.\n",
            "After this operation, 327 MB of additional disk space will be used.\n",
            "Get:1 http://archive.ubuntu.com/ubuntu bionic-updates/universe amd64 chromium-codecs-ffmpeg-extra amd64 97.0.4692.71-0ubuntu0.18.04.1 [1,142 kB]\n",
            "Get:2 http://archive.ubuntu.com/ubuntu bionic-updates/universe amd64 chromium-browser amd64 97.0.4692.71-0ubuntu0.18.04.1 [84.7 MB]\n",
            "Get:3 http://archive.ubuntu.com/ubuntu bionic-updates/universe amd64 chromium-browser-l10n all 97.0.4692.71-0ubuntu0.18.04.1 [4,370 kB]\n",
            "Get:4 http://archive.ubuntu.com/ubuntu bionic-updates/universe amd64 chromium-chromedriver amd64 97.0.4692.71-0ubuntu0.18.04.1 [5,055 kB]\n",
            "Fetched 95.3 MB in 4s (24.1 MB/s)\n",
            "Selecting previously unselected package chromium-codecs-ffmpeg-extra.\n",
            "(Reading database ... 155320 files and directories currently installed.)\n",
            "Preparing to unpack .../chromium-codecs-ffmpeg-extra_97.0.4692.71-0ubuntu0.18.04.1_amd64.deb ...\n",
            "Unpacking chromium-codecs-ffmpeg-extra (97.0.4692.71-0ubuntu0.18.04.1) ...\n",
            "Selecting previously unselected package chromium-browser.\n",
            "Preparing to unpack .../chromium-browser_97.0.4692.71-0ubuntu0.18.04.1_amd64.deb ...\n",
            "Unpacking chromium-browser (97.0.4692.71-0ubuntu0.18.04.1) ...\n",
            "Selecting previously unselected package chromium-browser-l10n.\n",
            "Preparing to unpack .../chromium-browser-l10n_97.0.4692.71-0ubuntu0.18.04.1_all.deb ...\n",
            "Unpacking chromium-browser-l10n (97.0.4692.71-0ubuntu0.18.04.1) ...\n",
            "Selecting previously unselected package chromium-chromedriver.\n",
            "Preparing to unpack .../chromium-chromedriver_97.0.4692.71-0ubuntu0.18.04.1_amd64.deb ...\n",
            "Unpacking chromium-chromedriver (97.0.4692.71-0ubuntu0.18.04.1) ...\n",
            "Setting up chromium-codecs-ffmpeg-extra (97.0.4692.71-0ubuntu0.18.04.1) ...\n",
            "Setting up chromium-browser (97.0.4692.71-0ubuntu0.18.04.1) ...\n",
            "update-alternatives: using /usr/bin/chromium-browser to provide /usr/bin/x-www-browser (x-www-browser) in auto mode\n",
            "update-alternatives: using /usr/bin/chromium-browser to provide /usr/bin/gnome-www-browser (gnome-www-browser) in auto mode\n",
            "Setting up chromium-chromedriver (97.0.4692.71-0ubuntu0.18.04.1) ...\n",
            "Setting up chromium-browser-l10n (97.0.4692.71-0ubuntu0.18.04.1) ...\n",
            "Processing triggers for man-db (2.8.3-2ubuntu0.1) ...\n",
            "Processing triggers for hicolor-icon-theme (0.17-2) ...\n",
            "Processing triggers for mime-support (3.60ubuntu1) ...\n",
            "Processing triggers for libc-bin (2.27-3ubuntu1.3) ...\n",
            "/sbin/ldconfig.real: /usr/local/lib/python3.7/dist-packages/ideep4py/lib/libmkldnn.so.0 is not a symbolic link\n",
            "\n"
          ]
        }
      ]
    },
    {
      "cell_type": "code",
      "source": [
        "# Import the functions for downloading data from NWIS\n",
        "import dataretrieval.nwis as nwis\n",
        "\n",
        "# Specify the USGS site code\n",
        "# RED BUTTE CREEK AT FORT DOUGLAS, NEAR SLC, UT\n",
        "site = '10172200'\n",
        "\n",
        "# Get instantaneous values (iv)\n",
        "df = nwis.get_record(sites=site, service='dv', start='2020-11-01', end='2021-10-30')\n",
        "df"
      ],
      "metadata": {
        "colab": {
          "base_uri": "https://localhost:8080/",
          "height": 455
        },
        "id": "GQe_DGyFaJTz",
        "outputId": "c97d4466-9352-4a45-e3ce-f42819437ffc"
      },
      "execution_count": null,
      "outputs": [
        {
          "output_type": "execute_result",
          "data": {
            "text/html": [
              "\n",
              "  <div id=\"df-9d8780e3-9ddf-4224-a3e2-03c8590ee817\">\n",
              "    <div class=\"colab-df-container\">\n",
              "      <div>\n",
              "<style scoped>\n",
              "    .dataframe tbody tr th:only-of-type {\n",
              "        vertical-align: middle;\n",
              "    }\n",
              "\n",
              "    .dataframe tbody tr th {\n",
              "        vertical-align: top;\n",
              "    }\n",
              "\n",
              "    .dataframe thead th {\n",
              "        text-align: right;\n",
              "    }\n",
              "</style>\n",
              "<table border=\"1\" class=\"dataframe\">\n",
              "  <thead>\n",
              "    <tr style=\"text-align: right;\">\n",
              "      <th></th>\n",
              "      <th>00010_Maximum</th>\n",
              "      <th>00010_Maximum_cd</th>\n",
              "      <th>site_no</th>\n",
              "      <th>00010_Minimum</th>\n",
              "      <th>00010_Minimum_cd</th>\n",
              "      <th>00010_Mean</th>\n",
              "      <th>00010_Mean_cd</th>\n",
              "      <th>00060_Mean</th>\n",
              "      <th>00060_Mean_cd</th>\n",
              "    </tr>\n",
              "    <tr>\n",
              "      <th>datetime</th>\n",
              "      <th></th>\n",
              "      <th></th>\n",
              "      <th></th>\n",
              "      <th></th>\n",
              "      <th></th>\n",
              "      <th></th>\n",
              "      <th></th>\n",
              "      <th></th>\n",
              "      <th></th>\n",
              "    </tr>\n",
              "  </thead>\n",
              "  <tbody>\n",
              "    <tr>\n",
              "      <th>2020-11-01 00:00:00+00:00</th>\n",
              "      <td>5.7</td>\n",
              "      <td>A</td>\n",
              "      <td>10172200</td>\n",
              "      <td>2.7</td>\n",
              "      <td>A</td>\n",
              "      <td>4.0</td>\n",
              "      <td>A</td>\n",
              "      <td>1.11</td>\n",
              "      <td>A</td>\n",
              "    </tr>\n",
              "    <tr>\n",
              "      <th>2020-11-02 00:00:00+00:00</th>\n",
              "      <td>6.0</td>\n",
              "      <td>A</td>\n",
              "      <td>10172200</td>\n",
              "      <td>2.8</td>\n",
              "      <td>A</td>\n",
              "      <td>4.2</td>\n",
              "      <td>A</td>\n",
              "      <td>1.12</td>\n",
              "      <td>A</td>\n",
              "    </tr>\n",
              "    <tr>\n",
              "      <th>2020-11-03 00:00:00+00:00</th>\n",
              "      <td>7.1</td>\n",
              "      <td>A</td>\n",
              "      <td>10172200</td>\n",
              "      <td>4.1</td>\n",
              "      <td>A</td>\n",
              "      <td>5.4</td>\n",
              "      <td>A</td>\n",
              "      <td>1.11</td>\n",
              "      <td>A</td>\n",
              "    </tr>\n",
              "    <tr>\n",
              "      <th>2020-11-04 00:00:00+00:00</th>\n",
              "      <td>7.5</td>\n",
              "      <td>A</td>\n",
              "      <td>10172200</td>\n",
              "      <td>4.9</td>\n",
              "      <td>A</td>\n",
              "      <td>5.9</td>\n",
              "      <td>A</td>\n",
              "      <td>1.12</td>\n",
              "      <td>A</td>\n",
              "    </tr>\n",
              "    <tr>\n",
              "      <th>2020-11-05 00:00:00+00:00</th>\n",
              "      <td>7.0</td>\n",
              "      <td>A</td>\n",
              "      <td>10172200</td>\n",
              "      <td>4.4</td>\n",
              "      <td>A</td>\n",
              "      <td>5.5</td>\n",
              "      <td>A</td>\n",
              "      <td>1.11</td>\n",
              "      <td>A</td>\n",
              "    </tr>\n",
              "    <tr>\n",
              "      <th>...</th>\n",
              "      <td>...</td>\n",
              "      <td>...</td>\n",
              "      <td>...</td>\n",
              "      <td>...</td>\n",
              "      <td>...</td>\n",
              "      <td>...</td>\n",
              "      <td>...</td>\n",
              "      <td>...</td>\n",
              "      <td>...</td>\n",
              "    </tr>\n",
              "    <tr>\n",
              "      <th>2021-10-26 00:00:00+00:00</th>\n",
              "      <td>5.7</td>\n",
              "      <td>P</td>\n",
              "      <td>10172200</td>\n",
              "      <td>4.2</td>\n",
              "      <td>P</td>\n",
              "      <td>4.6</td>\n",
              "      <td>P</td>\n",
              "      <td>1.18</td>\n",
              "      <td>P</td>\n",
              "    </tr>\n",
              "    <tr>\n",
              "      <th>2021-10-27 00:00:00+00:00</th>\n",
              "      <td>6.4</td>\n",
              "      <td>P</td>\n",
              "      <td>10172200</td>\n",
              "      <td>3.8</td>\n",
              "      <td>P</td>\n",
              "      <td>5.0</td>\n",
              "      <td>P</td>\n",
              "      <td>0.97</td>\n",
              "      <td>P</td>\n",
              "    </tr>\n",
              "    <tr>\n",
              "      <th>2021-10-28 00:00:00+00:00</th>\n",
              "      <td>8.2</td>\n",
              "      <td>P</td>\n",
              "      <td>10172200</td>\n",
              "      <td>5.4</td>\n",
              "      <td>P</td>\n",
              "      <td>6.4</td>\n",
              "      <td>P</td>\n",
              "      <td>0.92</td>\n",
              "      <td>P</td>\n",
              "    </tr>\n",
              "    <tr>\n",
              "      <th>2021-10-29 00:00:00+00:00</th>\n",
              "      <td>7.4</td>\n",
              "      <td>P</td>\n",
              "      <td>10172200</td>\n",
              "      <td>4.4</td>\n",
              "      <td>P</td>\n",
              "      <td>5.7</td>\n",
              "      <td>P</td>\n",
              "      <td>0.91</td>\n",
              "      <td>P</td>\n",
              "    </tr>\n",
              "    <tr>\n",
              "      <th>2021-10-30 00:00:00+00:00</th>\n",
              "      <td>8.1</td>\n",
              "      <td>P</td>\n",
              "      <td>10172200</td>\n",
              "      <td>4.8</td>\n",
              "      <td>P</td>\n",
              "      <td>6.3</td>\n",
              "      <td>P</td>\n",
              "      <td>0.89</td>\n",
              "      <td>P</td>\n",
              "    </tr>\n",
              "  </tbody>\n",
              "</table>\n",
              "<p>364 rows × 9 columns</p>\n",
              "</div>\n",
              "      <button class=\"colab-df-convert\" onclick=\"convertToInteractive('df-9d8780e3-9ddf-4224-a3e2-03c8590ee817')\"\n",
              "              title=\"Convert this dataframe to an interactive table.\"\n",
              "              style=\"display:none;\">\n",
              "        \n",
              "  <svg xmlns=\"http://www.w3.org/2000/svg\" height=\"24px\"viewBox=\"0 0 24 24\"\n",
              "       width=\"24px\">\n",
              "    <path d=\"M0 0h24v24H0V0z\" fill=\"none\"/>\n",
              "    <path d=\"M18.56 5.44l.94 2.06.94-2.06 2.06-.94-2.06-.94-.94-2.06-.94 2.06-2.06.94zm-11 1L8.5 8.5l.94-2.06 2.06-.94-2.06-.94L8.5 2.5l-.94 2.06-2.06.94zm10 10l.94 2.06.94-2.06 2.06-.94-2.06-.94-.94-2.06-.94 2.06-2.06.94z\"/><path d=\"M17.41 7.96l-1.37-1.37c-.4-.4-.92-.59-1.43-.59-.52 0-1.04.2-1.43.59L10.3 9.45l-7.72 7.72c-.78.78-.78 2.05 0 2.83L4 21.41c.39.39.9.59 1.41.59.51 0 1.02-.2 1.41-.59l7.78-7.78 2.81-2.81c.8-.78.8-2.07 0-2.86zM5.41 20L4 18.59l7.72-7.72 1.47 1.35L5.41 20z\"/>\n",
              "  </svg>\n",
              "      </button>\n",
              "      \n",
              "  <style>\n",
              "    .colab-df-container {\n",
              "      display:flex;\n",
              "      flex-wrap:wrap;\n",
              "      gap: 12px;\n",
              "    }\n",
              "\n",
              "    .colab-df-convert {\n",
              "      background-color: #E8F0FE;\n",
              "      border: none;\n",
              "      border-radius: 50%;\n",
              "      cursor: pointer;\n",
              "      display: none;\n",
              "      fill: #1967D2;\n",
              "      height: 32px;\n",
              "      padding: 0 0 0 0;\n",
              "      width: 32px;\n",
              "    }\n",
              "\n",
              "    .colab-df-convert:hover {\n",
              "      background-color: #E2EBFA;\n",
              "      box-shadow: 0px 1px 2px rgba(60, 64, 67, 0.3), 0px 1px 3px 1px rgba(60, 64, 67, 0.15);\n",
              "      fill: #174EA6;\n",
              "    }\n",
              "\n",
              "    [theme=dark] .colab-df-convert {\n",
              "      background-color: #3B4455;\n",
              "      fill: #D2E3FC;\n",
              "    }\n",
              "\n",
              "    [theme=dark] .colab-df-convert:hover {\n",
              "      background-color: #434B5C;\n",
              "      box-shadow: 0px 1px 3px 1px rgba(0, 0, 0, 0.15);\n",
              "      filter: drop-shadow(0px 1px 2px rgba(0, 0, 0, 0.3));\n",
              "      fill: #FFFFFF;\n",
              "    }\n",
              "  </style>\n",
              "\n",
              "      <script>\n",
              "        const buttonEl =\n",
              "          document.querySelector('#df-9d8780e3-9ddf-4224-a3e2-03c8590ee817 button.colab-df-convert');\n",
              "        buttonEl.style.display =\n",
              "          google.colab.kernel.accessAllowed ? 'block' : 'none';\n",
              "\n",
              "        async function convertToInteractive(key) {\n",
              "          const element = document.querySelector('#df-9d8780e3-9ddf-4224-a3e2-03c8590ee817');\n",
              "          const dataTable =\n",
              "            await google.colab.kernel.invokeFunction('convertToInteractive',\n",
              "                                                     [key], {});\n",
              "          if (!dataTable) return;\n",
              "\n",
              "          const docLinkHtml = 'Like what you see? Visit the ' +\n",
              "            '<a target=\"_blank\" href=https://colab.research.google.com/notebooks/data_table.ipynb>data table notebook</a>'\n",
              "            + ' to learn more about interactive tables.';\n",
              "          element.innerHTML = '';\n",
              "          dataTable['output_type'] = 'display_data';\n",
              "          await google.colab.output.renderOutput(dataTable, element);\n",
              "          const docLink = document.createElement('div');\n",
              "          docLink.innerHTML = docLinkHtml;\n",
              "          element.appendChild(docLink);\n",
              "        }\n",
              "      </script>\n",
              "    </div>\n",
              "  </div>\n",
              "  "
            ],
            "text/plain": [
              "                           00010_Maximum  ... 00060_Mean_cd\n",
              "datetime                                  ...              \n",
              "2020-11-01 00:00:00+00:00            5.7  ...             A\n",
              "2020-11-02 00:00:00+00:00            6.0  ...             A\n",
              "2020-11-03 00:00:00+00:00            7.1  ...             A\n",
              "2020-11-04 00:00:00+00:00            7.5  ...             A\n",
              "2020-11-05 00:00:00+00:00            7.0  ...             A\n",
              "...                                  ...  ...           ...\n",
              "2021-10-26 00:00:00+00:00            5.7  ...             P\n",
              "2021-10-27 00:00:00+00:00            6.4  ...             P\n",
              "2021-10-28 00:00:00+00:00            8.2  ...             P\n",
              "2021-10-29 00:00:00+00:00            7.4  ...             P\n",
              "2021-10-30 00:00:00+00:00            8.1  ...             P\n",
              "\n",
              "[364 rows x 9 columns]"
            ]
          },
          "metadata": {},
          "execution_count": 5
        }
      ]
    },
    {
      "cell_type": "code",
      "source": [
        "# Simple plot\n",
        "df['00060_Mean'].plot()"
      ],
      "metadata": {
        "colab": {
          "base_uri": "https://localhost:8080/",
          "height": 308
        },
        "id": "J8SNz-CPaTx4",
        "outputId": "a59f2ee8-003d-4bcd-ae34-99c0dc2fc045"
      },
      "execution_count": null,
      "outputs": [
        {
          "output_type": "execute_result",
          "data": {
            "text/plain": [
              "<matplotlib.axes._subplots.AxesSubplot at 0x7f75868f5350>"
            ]
          },
          "metadata": {},
          "execution_count": 6
        },
        {
          "output_type": "display_data",
          "data": {
            "image/png": "[encoded data removed]",
            "text/plain": [
              "<Figure size 432x288 with 1 Axes>"
            ]
          },
          "metadata": {
            "needs_background": "light"
          }
        }
      ]
    },
    {
      "cell_type": "markdown",
      "source": [
        "## Question 1 (10 points)\n",
        "Make a new jupyter notebook called lab7_submission.ipynb and complete the following tasks:\n",
        "\n",
        "\n",
        "*  Download daily values (i.e. service='dv') for another station and time period of your choosing.\n",
        "*   Plot one column\n",
        "*   In a markdown cell below, describe what your plot shows\n",
        "\n",
        "\n",
        "A map of station ID numbers can be found here: https://maps.waterdata.usgs.gov/mapper/index.html\n",
        "\n",
        "A table of the parameter codes can be found here: https://help.waterdata.usgs.gov/parameter_cd?group_cd=PHY"
      ],
      "metadata": {
        "id": "A1odBfUOalIy"
      }
    },
    {
      "cell_type": "markdown",
      "source": [
        "1) The plot above shows the steam flow daily mean discharge for the Red Butte Creak in Salt Lake County, Utah. The higher peaks in the graph show more water volume within the creak. "
      ],
      "metadata": {
        "id": "5czpOOBQalXW"
      }
    },
    {
      "cell_type": "markdown",
      "source": [
        "## Question 2 (10 points)\n",
        "\n",
        "* Make an HTML table that contains the **site name**, **site number** and **mean daily discharge** between Oct 31, 2020 and Sep 30, 2021 (zero decimal places)** for **three** rivers in the US.\n",
        "\n",
        "HINT: the discharge parameter is `00060_Mean`. If the data from your site does not contain this column, try another site."
      ],
      "metadata": {
        "id": "oDzbyB29bQt0"
      }
    },
    {
      "cell_type": "code",
      "source": [
        "# Import the functions for downloading data from NWIS\n",
        "import dataretrieval.nwis as nwis\n",
        "\n",
        "# Specify the USGS site code\n",
        "# MCKENZIE RIVER BLW LEABURG DAM, NR LEABURG, OR\n",
        "site = '14163150'\n",
        "\n",
        "# Get instantaneous values (iv)\n",
        "df = nwis.get_record(sites=site, service='dv', start='2020-10-31', end='2021-09-30')\n",
        "df"
      ],
      "metadata": {
        "colab": {
          "base_uri": "https://localhost:8080/",
          "height": 693
        },
        "id": "IKwGh27AbPpa",
        "outputId": "42de1d15-4fe6-4a7c-ce54-bbfa2aa77a9d"
      },
      "execution_count": null,
      "outputs": [
        {
          "output_type": "execute_result",
          "data": {
            "text/html": [
              "\n",
              "  <div id=\"df-e590cbc6-87f0-4117-b61a-1251b670a3ac\">\n",
              "    <div class=\"colab-df-container\">\n",
              "      <div>\n",
              "<style scoped>\n",
              "    .dataframe tbody tr th:only-of-type {\n",
              "        vertical-align: middle;\n",
              "    }\n",
              "\n",
              "    .dataframe tbody tr th {\n",
              "        vertical-align: top;\n",
              "    }\n",
              "\n",
              "    .dataframe thead th {\n",
              "        text-align: right;\n",
              "    }\n",
              "</style>\n",
              "<table border=\"1\" class=\"dataframe\">\n",
              "  <thead>\n",
              "    <tr style=\"text-align: right;\">\n",
              "      <th></th>\n",
              "      <th>00010_Maximum</th>\n",
              "      <th>00010_Maximum_cd</th>\n",
              "      <th>site_no</th>\n",
              "      <th>00010_Minimum</th>\n",
              "      <th>00010_Minimum_cd</th>\n",
              "      <th>00010_Mean</th>\n",
              "      <th>00010_Mean_cd</th>\n",
              "      <th>00060_Mean</th>\n",
              "      <th>00060_Mean_cd</th>\n",
              "      <th>00095_Maximum</th>\n",
              "      <th>00095_Maximum_cd</th>\n",
              "      <th>00095_Minimum</th>\n",
              "      <th>00095_Minimum_cd</th>\n",
              "      <th>00095_Mean</th>\n",
              "      <th>00095_Mean_cd</th>\n",
              "    </tr>\n",
              "    <tr>\n",
              "      <th>datetime</th>\n",
              "      <th></th>\n",
              "      <th></th>\n",
              "      <th></th>\n",
              "      <th></th>\n",
              "      <th></th>\n",
              "      <th></th>\n",
              "      <th></th>\n",
              "      <th></th>\n",
              "      <th></th>\n",
              "      <th></th>\n",
              "      <th></th>\n",
              "      <th></th>\n",
              "      <th></th>\n",
              "      <th></th>\n",
              "      <th></th>\n",
              "    </tr>\n",
              "  </thead>\n",
              "  <tbody>\n",
              "    <tr>\n",
              "      <th>2020-10-31 00:00:00+00:00</th>\n",
              "      <td>8.9</td>\n",
              "      <td>A</td>\n",
              "      <td>14163150</td>\n",
              "      <td>8.3</td>\n",
              "      <td>A</td>\n",
              "      <td>8.7</td>\n",
              "      <td>A</td>\n",
              "      <td>2690.0</td>\n",
              "      <td>A</td>\n",
              "      <td>55.0</td>\n",
              "      <td>A</td>\n",
              "      <td>54.0</td>\n",
              "      <td>A</td>\n",
              "      <td>55.0</td>\n",
              "      <td>A</td>\n",
              "    </tr>\n",
              "    <tr>\n",
              "      <th>2020-11-01 00:00:00+00:00</th>\n",
              "      <td>8.9</td>\n",
              "      <td>A</td>\n",
              "      <td>14163150</td>\n",
              "      <td>8.0</td>\n",
              "      <td>A</td>\n",
              "      <td>8.4</td>\n",
              "      <td>A</td>\n",
              "      <td>2680.0</td>\n",
              "      <td>A</td>\n",
              "      <td>56.0</td>\n",
              "      <td>A</td>\n",
              "      <td>55.0</td>\n",
              "      <td>A</td>\n",
              "      <td>56.0</td>\n",
              "      <td>A</td>\n",
              "    </tr>\n",
              "    <tr>\n",
              "      <th>2020-11-02 00:00:00+00:00</th>\n",
              "      <td>8.9</td>\n",
              "      <td>A</td>\n",
              "      <td>14163150</td>\n",
              "      <td>8.1</td>\n",
              "      <td>A</td>\n",
              "      <td>8.5</td>\n",
              "      <td>A</td>\n",
              "      <td>2630.0</td>\n",
              "      <td>A</td>\n",
              "      <td>57.0</td>\n",
              "      <td>A</td>\n",
              "      <td>56.0</td>\n",
              "      <td>A</td>\n",
              "      <td>56.0</td>\n",
              "      <td>A</td>\n",
              "    </tr>\n",
              "    <tr>\n",
              "      <th>2020-11-03 00:00:00+00:00</th>\n",
              "      <td>9.1</td>\n",
              "      <td>A</td>\n",
              "      <td>14163150</td>\n",
              "      <td>8.1</td>\n",
              "      <td>A</td>\n",
              "      <td>8.5</td>\n",
              "      <td>A</td>\n",
              "      <td>2600.0</td>\n",
              "      <td>A</td>\n",
              "      <td>58.0</td>\n",
              "      <td>A</td>\n",
              "      <td>57.0</td>\n",
              "      <td>A</td>\n",
              "      <td>57.0</td>\n",
              "      <td>A</td>\n",
              "    </tr>\n",
              "    <tr>\n",
              "      <th>2020-11-04 00:00:00+00:00</th>\n",
              "      <td>10.0</td>\n",
              "      <td>A</td>\n",
              "      <td>14163150</td>\n",
              "      <td>9.0</td>\n",
              "      <td>A</td>\n",
              "      <td>9.4</td>\n",
              "      <td>A</td>\n",
              "      <td>2590.0</td>\n",
              "      <td>A</td>\n",
              "      <td>58.0</td>\n",
              "      <td>A</td>\n",
              "      <td>57.0</td>\n",
              "      <td>A</td>\n",
              "      <td>58.0</td>\n",
              "      <td>A</td>\n",
              "    </tr>\n",
              "    <tr>\n",
              "      <th>...</th>\n",
              "      <td>...</td>\n",
              "      <td>...</td>\n",
              "      <td>...</td>\n",
              "      <td>...</td>\n",
              "      <td>...</td>\n",
              "      <td>...</td>\n",
              "      <td>...</td>\n",
              "      <td>...</td>\n",
              "      <td>...</td>\n",
              "      <td>...</td>\n",
              "      <td>...</td>\n",
              "      <td>...</td>\n",
              "      <td>...</td>\n",
              "      <td>...</td>\n",
              "      <td>...</td>\n",
              "    </tr>\n",
              "    <tr>\n",
              "      <th>2021-09-26 00:00:00+00:00</th>\n",
              "      <td>12.3</td>\n",
              "      <td>P</td>\n",
              "      <td>14163150</td>\n",
              "      <td>10.8</td>\n",
              "      <td>P</td>\n",
              "      <td>11.6</td>\n",
              "      <td>P</td>\n",
              "      <td>2040.0</td>\n",
              "      <td>P</td>\n",
              "      <td>60.0</td>\n",
              "      <td>P</td>\n",
              "      <td>58.0</td>\n",
              "      <td>P</td>\n",
              "      <td>59.0</td>\n",
              "      <td>P</td>\n",
              "    </tr>\n",
              "    <tr>\n",
              "      <th>2021-09-27 00:00:00+00:00</th>\n",
              "      <td>12.4</td>\n",
              "      <td>P</td>\n",
              "      <td>14163150</td>\n",
              "      <td>10.8</td>\n",
              "      <td>P</td>\n",
              "      <td>11.3</td>\n",
              "      <td>P</td>\n",
              "      <td>2270.0</td>\n",
              "      <td>P</td>\n",
              "      <td>64.0</td>\n",
              "      <td>P</td>\n",
              "      <td>57.0</td>\n",
              "      <td>P</td>\n",
              "      <td>60.0</td>\n",
              "      <td>P</td>\n",
              "    </tr>\n",
              "    <tr>\n",
              "      <th>2021-09-28 00:00:00+00:00</th>\n",
              "      <td>11.0</td>\n",
              "      <td>P</td>\n",
              "      <td>14163150</td>\n",
              "      <td>10.2</td>\n",
              "      <td>P</td>\n",
              "      <td>10.6</td>\n",
              "      <td>P</td>\n",
              "      <td>3050.0</td>\n",
              "      <td>P</td>\n",
              "      <td>59.0</td>\n",
              "      <td>P</td>\n",
              "      <td>56.0</td>\n",
              "      <td>P</td>\n",
              "      <td>58.0</td>\n",
              "      <td>P</td>\n",
              "    </tr>\n",
              "    <tr>\n",
              "      <th>2021-09-29 00:00:00+00:00</th>\n",
              "      <td>11.5</td>\n",
              "      <td>P</td>\n",
              "      <td>14163150</td>\n",
              "      <td>9.8</td>\n",
              "      <td>P</td>\n",
              "      <td>10.7</td>\n",
              "      <td>P</td>\n",
              "      <td>2630.0</td>\n",
              "      <td>P</td>\n",
              "      <td>57.0</td>\n",
              "      <td>P</td>\n",
              "      <td>56.0</td>\n",
              "      <td>P</td>\n",
              "      <td>57.0</td>\n",
              "      <td>P</td>\n",
              "    </tr>\n",
              "    <tr>\n",
              "      <th>2021-09-30 00:00:00+00:00</th>\n",
              "      <td>11.8</td>\n",
              "      <td>P</td>\n",
              "      <td>14163150</td>\n",
              "      <td>9.9</td>\n",
              "      <td>P</td>\n",
              "      <td>10.7</td>\n",
              "      <td>P</td>\n",
              "      <td>2320.0</td>\n",
              "      <td>P</td>\n",
              "      <td>58.0</td>\n",
              "      <td>P</td>\n",
              "      <td>57.0</td>\n",
              "      <td>P</td>\n",
              "      <td>58.0</td>\n",
              "      <td>P</td>\n",
              "    </tr>\n",
              "  </tbody>\n",
              "</table>\n",
              "<p>335 rows × 15 columns</p>\n",
              "</div>\n",
              "      <button class=\"colab-df-convert\" onclick=\"convertToInteractive('df-e590cbc6-87f0-4117-b61a-1251b670a3ac')\"\n",
              "              title=\"Convert this dataframe to an interactive table.\"\n",
              "              style=\"display:none;\">\n",
              "        \n",
              "  <svg xmlns=\"http://www.w3.org/2000/svg\" height=\"24px\"viewBox=\"0 0 24 24\"\n",
              "       width=\"24px\">\n",
              "    <path d=\"M0 0h24v24H0V0z\" fill=\"none\"/>\n",
              "    <path d=\"M18.56 5.44l.94 2.06.94-2.06 2.06-.94-2.06-.94-.94-2.06-.94 2.06-2.06.94zm-11 1L8.5 8.5l.94-2.06 2.06-.94-2.06-.94L8.5 2.5l-.94 2.06-2.06.94zm10 10l.94 2.06.94-2.06 2.06-.94-2.06-.94-.94-2.06-.94 2.06-2.06.94z\"/><path d=\"M17.41 7.96l-1.37-1.37c-.4-.4-.92-.59-1.43-.59-.52 0-1.04.2-1.43.59L10.3 9.45l-7.72 7.72c-.78.78-.78 2.05 0 2.83L4 21.41c.39.39.9.59 1.41.59.51 0 1.02-.2 1.41-.59l7.78-7.78 2.81-2.81c.8-.78.8-2.07 0-2.86zM5.41 20L4 18.59l7.72-7.72 1.47 1.35L5.41 20z\"/>\n",
              "  </svg>\n",
              "      </button>\n",
              "      \n",
              "  <style>\n",
              "    .colab-df-container {\n",
              "      display:flex;\n",
              "      flex-wrap:wrap;\n",
              "      gap: 12px;\n",
              "    }\n",
              "\n",
              "    .colab-df-convert {\n",
              "      background-color: #E8F0FE;\n",
              "      border: none;\n",
              "      border-radius: 50%;\n",
              "      cursor: pointer;\n",
              "      display: none;\n",
              "      fill: #1967D2;\n",
              "      height: 32px;\n",
              "      padding: 0 0 0 0;\n",
              "      width: 32px;\n",
              "    }\n",
              "\n",
              "    .colab-df-convert:hover {\n",
              "      background-color: #E2EBFA;\n",
              "      box-shadow: 0px 1px 2px rgba(60, 64, 67, 0.3), 0px 1px 3px 1px rgba(60, 64, 67, 0.15);\n",
              "      fill: #174EA6;\n",
              "    }\n",
              "\n",
              "    [theme=dark] .colab-df-convert {\n",
              "      background-color: #3B4455;\n",
              "      fill: #D2E3FC;\n",
              "    }\n",
              "\n",
              "    [theme=dark] .colab-df-convert:hover {\n",
              "      background-color: #434B5C;\n",
              "      box-shadow: 0px 1px 3px 1px rgba(0, 0, 0, 0.15);\n",
              "      filter: drop-shadow(0px 1px 2px rgba(0, 0, 0, 0.3));\n",
              "      fill: #FFFFFF;\n",
              "    }\n",
              "  </style>\n",
              "\n",
              "      <script>\n",
              "        const buttonEl =\n",
              "          document.querySelector('#df-e590cbc6-87f0-4117-b61a-1251b670a3ac button.colab-df-convert');\n",
              "        buttonEl.style.display =\n",
              "          google.colab.kernel.accessAllowed ? 'block' : 'none';\n",
              "\n",
              "        async function convertToInteractive(key) {\n",
              "          const element = document.querySelector('#df-e590cbc6-87f0-4117-b61a-1251b670a3ac');\n",
              "          const dataTable =\n",
              "            await google.colab.kernel.invokeFunction('convertToInteractive',\n",
              "                                                     [key], {});\n",
              "          if (!dataTable) return;\n",
              "\n",
              "          const docLinkHtml = 'Like what you see? Visit the ' +\n",
              "            '<a target=\"_blank\" href=https://colab.research.google.com/notebooks/data_table.ipynb>data table notebook</a>'\n",
              "            + ' to learn more about interactive tables.';\n",
              "          element.innerHTML = '';\n",
              "          dataTable['output_type'] = 'display_data';\n",
              "          await google.colab.output.renderOutput(dataTable, element);\n",
              "          const docLink = document.createElement('div');\n",
              "          docLink.innerHTML = docLinkHtml;\n",
              "          element.appendChild(docLink);\n",
              "        }\n",
              "      </script>\n",
              "    </div>\n",
              "  </div>\n",
              "  "
            ],
            "text/plain": [
              "                           00010_Maximum  ... 00095_Mean_cd\n",
              "datetime                                  ...              \n",
              "2020-10-31 00:00:00+00:00            8.9  ...             A\n",
              "2020-11-01 00:00:00+00:00            8.9  ...             A\n",
              "2020-11-02 00:00:00+00:00            8.9  ...             A\n",
              "2020-11-03 00:00:00+00:00            9.1  ...             A\n",
              "2020-11-04 00:00:00+00:00           10.0  ...             A\n",
              "...                                  ...  ...           ...\n",
              "2021-09-26 00:00:00+00:00           12.3  ...             P\n",
              "2021-09-27 00:00:00+00:00           12.4  ...             P\n",
              "2021-09-28 00:00:00+00:00           11.0  ...             P\n",
              "2021-09-29 00:00:00+00:00           11.5  ...             P\n",
              "2021-09-30 00:00:00+00:00           11.8  ...             P\n",
              "\n",
              "[335 rows x 15 columns]"
            ]
          },
          "metadata": {},
          "execution_count": 7
        }
      ]
    },
    {
      "cell_type": "code",
      "source": [
        "df['00060_Mean'].mean()"
      ],
      "metadata": {
        "colab": {
          "base_uri": "https://localhost:8080/"
        },
        "id": "5vGIGzSQbbwn",
        "outputId": "2438e886-ba89-4525-c1c5-c8360664b007"
      },
      "execution_count": null,
      "outputs": [
        {
          "output_type": "execute_result",
          "data": {
            "text/plain": [
              "3880.1807228915663"
            ]
          },
          "metadata": {},
          "execution_count": 8
        }
      ]
    },
    {
      "cell_type": "code",
      "source": [
        "# Specify the USGS site code\n",
        "# MOHAWK RIVER NEAR SPRINGFIELD, OR\n",
        "site = '14165000'\n",
        "\n",
        "# Get instantaneous values (iv)\n",
        "dff = nwis.get_record(sites=site, service='dv', start='2020-10-31', end='2021-09-30')\n",
        "dff"
      ],
      "metadata": {
        "colab": {
          "base_uri": "https://localhost:8080/",
          "height": 455
        },
        "id": "GPuWryyXbhho",
        "outputId": "0eb8f469-3fa2-4fa0-ad46-411046545a82"
      },
      "execution_count": null,
      "outputs": [
        {
          "output_type": "execute_result",
          "data": {
            "text/html": [
              "\n",
              "  <div id=\"df-1ac7b4ce-049d-481f-a3f6-cd420f85ee4d\">\n",
              "    <div class=\"colab-df-container\">\n",
              "      <div>\n",
              "<style scoped>\n",
              "    .dataframe tbody tr th:only-of-type {\n",
              "        vertical-align: middle;\n",
              "    }\n",
              "\n",
              "    .dataframe tbody tr th {\n",
              "        vertical-align: top;\n",
              "    }\n",
              "\n",
              "    .dataframe thead th {\n",
              "        text-align: right;\n",
              "    }\n",
              "</style>\n",
              "<table border=\"1\" class=\"dataframe\">\n",
              "  <thead>\n",
              "    <tr style=\"text-align: right;\">\n",
              "      <th></th>\n",
              "      <th>00060_Mean</th>\n",
              "      <th>00060_Mean_cd</th>\n",
              "      <th>site_no</th>\n",
              "    </tr>\n",
              "    <tr>\n",
              "      <th>datetime</th>\n",
              "      <th></th>\n",
              "      <th></th>\n",
              "      <th></th>\n",
              "    </tr>\n",
              "  </thead>\n",
              "  <tbody>\n",
              "    <tr>\n",
              "      <th>2020-10-31 00:00:00+00:00</th>\n",
              "      <td>49.0</td>\n",
              "      <td>P</td>\n",
              "      <td>14165000</td>\n",
              "    </tr>\n",
              "    <tr>\n",
              "      <th>2020-11-01 00:00:00+00:00</th>\n",
              "      <td>48.3</td>\n",
              "      <td>P</td>\n",
              "      <td>14165000</td>\n",
              "    </tr>\n",
              "    <tr>\n",
              "      <th>2020-11-02 00:00:00+00:00</th>\n",
              "      <td>47.2</td>\n",
              "      <td>P</td>\n",
              "      <td>14165000</td>\n",
              "    </tr>\n",
              "    <tr>\n",
              "      <th>2020-11-03 00:00:00+00:00</th>\n",
              "      <td>46.5</td>\n",
              "      <td>P</td>\n",
              "      <td>14165000</td>\n",
              "    </tr>\n",
              "    <tr>\n",
              "      <th>2020-11-04 00:00:00+00:00</th>\n",
              "      <td>46.7</td>\n",
              "      <td>P</td>\n",
              "      <td>14165000</td>\n",
              "    </tr>\n",
              "    <tr>\n",
              "      <th>...</th>\n",
              "      <td>...</td>\n",
              "      <td>...</td>\n",
              "      <td>...</td>\n",
              "    </tr>\n",
              "    <tr>\n",
              "      <th>2021-09-26 00:00:00+00:00</th>\n",
              "      <td>21.1</td>\n",
              "      <td>P</td>\n",
              "      <td>14165000</td>\n",
              "    </tr>\n",
              "    <tr>\n",
              "      <th>2021-09-27 00:00:00+00:00</th>\n",
              "      <td>48.4</td>\n",
              "      <td>P</td>\n",
              "      <td>14165000</td>\n",
              "    </tr>\n",
              "    <tr>\n",
              "      <th>2021-09-28 00:00:00+00:00</th>\n",
              "      <td>125.0</td>\n",
              "      <td>P</td>\n",
              "      <td>14165000</td>\n",
              "    </tr>\n",
              "    <tr>\n",
              "      <th>2021-09-29 00:00:00+00:00</th>\n",
              "      <td>86.7</td>\n",
              "      <td>P</td>\n",
              "      <td>14165000</td>\n",
              "    </tr>\n",
              "    <tr>\n",
              "      <th>2021-09-30 00:00:00+00:00</th>\n",
              "      <td>51.1</td>\n",
              "      <td>P</td>\n",
              "      <td>14165000</td>\n",
              "    </tr>\n",
              "  </tbody>\n",
              "</table>\n",
              "<p>332 rows × 3 columns</p>\n",
              "</div>\n",
              "      <button class=\"colab-df-convert\" onclick=\"convertToInteractive('df-1ac7b4ce-049d-481f-a3f6-cd420f85ee4d')\"\n",
              "              title=\"Convert this dataframe to an interactive table.\"\n",
              "              style=\"display:none;\">\n",
              "        \n",
              "  <svg xmlns=\"http://www.w3.org/2000/svg\" height=\"24px\"viewBox=\"0 0 24 24\"\n",
              "       width=\"24px\">\n",
              "    <path d=\"M0 0h24v24H0V0z\" fill=\"none\"/>\n",
              "    <path d=\"M18.56 5.44l.94 2.06.94-2.06 2.06-.94-2.06-.94-.94-2.06-.94 2.06-2.06.94zm-11 1L8.5 8.5l.94-2.06 2.06-.94-2.06-.94L8.5 2.5l-.94 2.06-2.06.94zm10 10l.94 2.06.94-2.06 2.06-.94-2.06-.94-.94-2.06-.94 2.06-2.06.94z\"/><path d=\"M17.41 7.96l-1.37-1.37c-.4-.4-.92-.59-1.43-.59-.52 0-1.04.2-1.43.59L10.3 9.45l-7.72 7.72c-.78.78-.78 2.05 0 2.83L4 21.41c.39.39.9.59 1.41.59.51 0 1.02-.2 1.41-.59l7.78-7.78 2.81-2.81c.8-.78.8-2.07 0-2.86zM5.41 20L4 18.59l7.72-7.72 1.47 1.35L5.41 20z\"/>\n",
              "  </svg>\n",
              "      </button>\n",
              "      \n",
              "  <style>\n",
              "    .colab-df-container {\n",
              "      display:flex;\n",
              "      flex-wrap:wrap;\n",
              "      gap: 12px;\n",
              "    }\n",
              "\n",
              "    .colab-df-convert {\n",
              "      background-color: #E8F0FE;\n",
              "      border: none;\n",
              "      border-radius: 50%;\n",
              "      cursor: pointer;\n",
              "      display: none;\n",
              "      fill: #1967D2;\n",
              "      height: 32px;\n",
              "      padding: 0 0 0 0;\n",
              "      width: 32px;\n",
              "    }\n",
              "\n",
              "    .colab-df-convert:hover {\n",
              "      background-color: #E2EBFA;\n",
              "      box-shadow: 0px 1px 2px rgba(60, 64, 67, 0.3), 0px 1px 3px 1px rgba(60, 64, 67, 0.15);\n",
              "      fill: #174EA6;\n",
              "    }\n",
              "\n",
              "    [theme=dark] .colab-df-convert {\n",
              "      background-color: #3B4455;\n",
              "      fill: #D2E3FC;\n",
              "    }\n",
              "\n",
              "    [theme=dark] .colab-df-convert:hover {\n",
              "      background-color: #434B5C;\n",
              "      box-shadow: 0px 1px 3px 1px rgba(0, 0, 0, 0.15);\n",
              "      filter: drop-shadow(0px 1px 2px rgba(0, 0, 0, 0.3));\n",
              "      fill: #FFFFFF;\n",
              "    }\n",
              "  </style>\n",
              "\n",
              "      <script>\n",
              "        const buttonEl =\n",
              "          document.querySelector('#df-1ac7b4ce-049d-481f-a3f6-cd420f85ee4d button.colab-df-convert');\n",
              "        buttonEl.style.display =\n",
              "          google.colab.kernel.accessAllowed ? 'block' : 'none';\n",
              "\n",
              "        async function convertToInteractive(key) {\n",
              "          const element = document.querySelector('#df-1ac7b4ce-049d-481f-a3f6-cd420f85ee4d');\n",
              "          const dataTable =\n",
              "            await google.colab.kernel.invokeFunction('convertToInteractive',\n",
              "                                                     [key], {});\n",
              "          if (!dataTable) return;\n",
              "\n",
              "          const docLinkHtml = 'Like what you see? Visit the ' +\n",
              "            '<a target=\"_blank\" href=https://colab.research.google.com/notebooks/data_table.ipynb>data table notebook</a>'\n",
              "            + ' to learn more about interactive tables.';\n",
              "          element.innerHTML = '';\n",
              "          dataTable['output_type'] = 'display_data';\n",
              "          await google.colab.output.renderOutput(dataTable, element);\n",
              "          const docLink = document.createElement('div');\n",
              "          docLink.innerHTML = docLinkHtml;\n",
              "          element.appendChild(docLink);\n",
              "        }\n",
              "      </script>\n",
              "    </div>\n",
              "  </div>\n",
              "  "
            ],
            "text/plain": [
              "                           00060_Mean 00060_Mean_cd   site_no\n",
              "datetime                                                     \n",
              "2020-10-31 00:00:00+00:00        49.0             P  14165000\n",
              "2020-11-01 00:00:00+00:00        48.3             P  14165000\n",
              "2020-11-02 00:00:00+00:00        47.2             P  14165000\n",
              "2020-11-03 00:00:00+00:00        46.5             P  14165000\n",
              "2020-11-04 00:00:00+00:00        46.7             P  14165000\n",
              "...                               ...           ...       ...\n",
              "2021-09-26 00:00:00+00:00        21.1             P  14165000\n",
              "2021-09-27 00:00:00+00:00        48.4             P  14165000\n",
              "2021-09-28 00:00:00+00:00       125.0             P  14165000\n",
              "2021-09-29 00:00:00+00:00        86.7             P  14165000\n",
              "2021-09-30 00:00:00+00:00        51.1             P  14165000\n",
              "\n",
              "[332 rows x 3 columns]"
            ]
          },
          "metadata": {},
          "execution_count": 9
        }
      ]
    },
    {
      "cell_type": "code",
      "source": [
        "dff['00060_Mean'].mean()"
      ],
      "metadata": {
        "colab": {
          "base_uri": "https://localhost:8080/"
        },
        "id": "mASwKl6lbkPx",
        "outputId": "e099a76f-5495-4a24-99e2-ca78aca19820"
      },
      "execution_count": null,
      "outputs": [
        {
          "output_type": "execute_result",
          "data": {
            "text/plain": [
              "433.7376506024099"
            ]
          },
          "metadata": {},
          "execution_count": 10
        }
      ]
    },
    {
      "cell_type": "code",
      "source": [
        "# Specify the USGS site code\n",
        "# WILEY CREEK NEAR FOSTER, OR\n",
        "site = '14187000'\n",
        "\n",
        "# Get instantaneous values (iv)\n",
        "dfs = nwis.get_record(sites=site, service='dv', start='2020-10-31', end='2021-09-30')\n",
        "dfs"
      ],
      "metadata": {
        "colab": {
          "base_uri": "https://localhost:8080/",
          "height": 455
        },
        "id": "LM5M3QKlbmt4",
        "outputId": "70ffda2c-6740-44a0-fd8f-6a8fe4d7bda0"
      },
      "execution_count": null,
      "outputs": [
        {
          "output_type": "execute_result",
          "data": {
            "text/html": [
              "\n",
              "  <div id=\"df-0b7c45f7-bc13-4f44-bfaa-c20f01afc225\">\n",
              "    <div class=\"colab-df-container\">\n",
              "      <div>\n",
              "<style scoped>\n",
              "    .dataframe tbody tr th:only-of-type {\n",
              "        vertical-align: middle;\n",
              "    }\n",
              "\n",
              "    .dataframe tbody tr th {\n",
              "        vertical-align: top;\n",
              "    }\n",
              "\n",
              "    .dataframe thead th {\n",
              "        text-align: right;\n",
              "    }\n",
              "</style>\n",
              "<table border=\"1\" class=\"dataframe\">\n",
              "  <thead>\n",
              "    <tr style=\"text-align: right;\">\n",
              "      <th></th>\n",
              "      <th>00060_Mean</th>\n",
              "      <th>00060_Mean_cd</th>\n",
              "      <th>site_no</th>\n",
              "    </tr>\n",
              "    <tr>\n",
              "      <th>datetime</th>\n",
              "      <th></th>\n",
              "      <th></th>\n",
              "      <th></th>\n",
              "    </tr>\n",
              "  </thead>\n",
              "  <tbody>\n",
              "    <tr>\n",
              "      <th>2020-10-31 00:00:00+00:00</th>\n",
              "      <td>12.40</td>\n",
              "      <td>A</td>\n",
              "      <td>14187000</td>\n",
              "    </tr>\n",
              "    <tr>\n",
              "      <th>2020-11-01 00:00:00+00:00</th>\n",
              "      <td>11.70</td>\n",
              "      <td>A</td>\n",
              "      <td>14187000</td>\n",
              "    </tr>\n",
              "    <tr>\n",
              "      <th>2020-11-02 00:00:00+00:00</th>\n",
              "      <td>11.30</td>\n",
              "      <td>A</td>\n",
              "      <td>14187000</td>\n",
              "    </tr>\n",
              "    <tr>\n",
              "      <th>2020-11-03 00:00:00+00:00</th>\n",
              "      <td>10.90</td>\n",
              "      <td>A</td>\n",
              "      <td>14187000</td>\n",
              "    </tr>\n",
              "    <tr>\n",
              "      <th>2020-11-04 00:00:00+00:00</th>\n",
              "      <td>11.70</td>\n",
              "      <td>A</td>\n",
              "      <td>14187000</td>\n",
              "    </tr>\n",
              "    <tr>\n",
              "      <th>...</th>\n",
              "      <td>...</td>\n",
              "      <td>...</td>\n",
              "      <td>...</td>\n",
              "    </tr>\n",
              "    <tr>\n",
              "      <th>2021-09-26 00:00:00+00:00</th>\n",
              "      <td>5.59</td>\n",
              "      <td>A</td>\n",
              "      <td>14187000</td>\n",
              "    </tr>\n",
              "    <tr>\n",
              "      <th>2021-09-27 00:00:00+00:00</th>\n",
              "      <td>35.00</td>\n",
              "      <td>A</td>\n",
              "      <td>14187000</td>\n",
              "    </tr>\n",
              "    <tr>\n",
              "      <th>2021-09-28 00:00:00+00:00</th>\n",
              "      <td>54.50</td>\n",
              "      <td>A</td>\n",
              "      <td>14187000</td>\n",
              "    </tr>\n",
              "    <tr>\n",
              "      <th>2021-09-29 00:00:00+00:00</th>\n",
              "      <td>29.40</td>\n",
              "      <td>A</td>\n",
              "      <td>14187000</td>\n",
              "    </tr>\n",
              "    <tr>\n",
              "      <th>2021-09-30 00:00:00+00:00</th>\n",
              "      <td>18.90</td>\n",
              "      <td>A</td>\n",
              "      <td>14187000</td>\n",
              "    </tr>\n",
              "  </tbody>\n",
              "</table>\n",
              "<p>335 rows × 3 columns</p>\n",
              "</div>\n",
              "      <button class=\"colab-df-convert\" onclick=\"convertToInteractive('df-0b7c45f7-bc13-4f44-bfaa-c20f01afc225')\"\n",
              "              title=\"Convert this dataframe to an interactive table.\"\n",
              "              style=\"display:none;\">\n",
              "        \n",
              "  <svg xmlns=\"http://www.w3.org/2000/svg\" height=\"24px\"viewBox=\"0 0 24 24\"\n",
              "       width=\"24px\">\n",
              "    <path d=\"M0 0h24v24H0V0z\" fill=\"none\"/>\n",
              "    <path d=\"M18.56 5.44l.94 2.06.94-2.06 2.06-.94-2.06-.94-.94-2.06-.94 2.06-2.06.94zm-11 1L8.5 8.5l.94-2.06 2.06-.94-2.06-.94L8.5 2.5l-.94 2.06-2.06.94zm10 10l.94 2.06.94-2.06 2.06-.94-2.06-.94-.94-2.06-.94 2.06-2.06.94z\"/><path d=\"M17.41 7.96l-1.37-1.37c-.4-.4-.92-.59-1.43-.59-.52 0-1.04.2-1.43.59L10.3 9.45l-7.72 7.72c-.78.78-.78 2.05 0 2.83L4 21.41c.39.39.9.59 1.41.59.51 0 1.02-.2 1.41-.59l7.78-7.78 2.81-2.81c.8-.78.8-2.07 0-2.86zM5.41 20L4 18.59l7.72-7.72 1.47 1.35L5.41 20z\"/>\n",
              "  </svg>\n",
              "      </button>\n",
              "      \n",
              "  <style>\n",
              "    .colab-df-container {\n",
              "      display:flex;\n",
              "      flex-wrap:wrap;\n",
              "      gap: 12px;\n",
              "    }\n",
              "\n",
              "    .colab-df-convert {\n",
              "      background-color: #E8F0FE;\n",
              "      border: none;\n",
              "      border-radius: 50%;\n",
              "      cursor: pointer;\n",
              "      display: none;\n",
              "      fill: #1967D2;\n",
              "      height: 32px;\n",
              "      padding: 0 0 0 0;\n",
              "      width: 32px;\n",
              "    }\n",
              "\n",
              "    .colab-df-convert:hover {\n",
              "      background-color: #E2EBFA;\n",
              "      box-shadow: 0px 1px 2px rgba(60, 64, 67, 0.3), 0px 1px 3px 1px rgba(60, 64, 67, 0.15);\n",
              "      fill: #174EA6;\n",
              "    }\n",
              "\n",
              "    [theme=dark] .colab-df-convert {\n",
              "      background-color: #3B4455;\n",
              "      fill: #D2E3FC;\n",
              "    }\n",
              "\n",
              "    [theme=dark] .colab-df-convert:hover {\n",
              "      background-color: #434B5C;\n",
              "      box-shadow: 0px 1px 3px 1px rgba(0, 0, 0, 0.15);\n",
              "      filter: drop-shadow(0px 1px 2px rgba(0, 0, 0, 0.3));\n",
              "      fill: #FFFFFF;\n",
              "    }\n",
              "  </style>\n",
              "\n",
              "      <script>\n",
              "        const buttonEl =\n",
              "          document.querySelector('#df-0b7c45f7-bc13-4f44-bfaa-c20f01afc225 button.colab-df-convert');\n",
              "        buttonEl.style.display =\n",
              "          google.colab.kernel.accessAllowed ? 'block' : 'none';\n",
              "\n",
              "        async function convertToInteractive(key) {\n",
              "          const element = document.querySelector('#df-0b7c45f7-bc13-4f44-bfaa-c20f01afc225');\n",
              "          const dataTable =\n",
              "            await google.colab.kernel.invokeFunction('convertToInteractive',\n",
              "                                                     [key], {});\n",
              "          if (!dataTable) return;\n",
              "\n",
              "          const docLinkHtml = 'Like what you see? Visit the ' +\n",
              "            '<a target=\"_blank\" href=https://colab.research.google.com/notebooks/data_table.ipynb>data table notebook</a>'\n",
              "            + ' to learn more about interactive tables.';\n",
              "          element.innerHTML = '';\n",
              "          dataTable['output_type'] = 'display_data';\n",
              "          await google.colab.output.renderOutput(dataTable, element);\n",
              "          const docLink = document.createElement('div');\n",
              "          docLink.innerHTML = docLinkHtml;\n",
              "          element.appendChild(docLink);\n",
              "        }\n",
              "      </script>\n",
              "    </div>\n",
              "  </div>\n",
              "  "
            ],
            "text/plain": [
              "                           00060_Mean 00060_Mean_cd   site_no\n",
              "datetime                                                     \n",
              "2020-10-31 00:00:00+00:00       12.40             A  14187000\n",
              "2020-11-01 00:00:00+00:00       11.70             A  14187000\n",
              "2020-11-02 00:00:00+00:00       11.30             A  14187000\n",
              "2020-11-03 00:00:00+00:00       10.90             A  14187000\n",
              "2020-11-04 00:00:00+00:00       11.70             A  14187000\n",
              "...                               ...           ...       ...\n",
              "2021-09-26 00:00:00+00:00        5.59             A  14187000\n",
              "2021-09-27 00:00:00+00:00       35.00             A  14187000\n",
              "2021-09-28 00:00:00+00:00       54.50             A  14187000\n",
              "2021-09-29 00:00:00+00:00       29.40             A  14187000\n",
              "2021-09-30 00:00:00+00:00       18.90             A  14187000\n",
              "\n",
              "[335 rows x 3 columns]"
            ]
          },
          "metadata": {},
          "execution_count": 11
        }
      ]
    },
    {
      "cell_type": "code",
      "source": [
        "dfs['00060_Mean'].mean()"
      ],
      "metadata": {
        "colab": {
          "base_uri": "https://localhost:8080/"
        },
        "id": "5bGkmtwSbqC9",
        "outputId": "2ac223b2-f873-48e7-c1d4-3f23657cf401"
      },
      "execution_count": null,
      "outputs": [
        {
          "output_type": "execute_result",
          "data": {
            "text/plain": [
              "160.61886567164186"
            ]
          },
          "metadata": {},
          "execution_count": 12
        }
      ]
    },
    {
      "cell_type": "markdown",
      "source": [
        "<table>\n",
        "  <tr>\n",
        "    <th>Site Number</th>\n",
        "    <th>Site Name</th>\n",
        "    <th>Mean Daily Discharge</th>\n",
        "  </tr>\n",
        "  <tr>\n",
        "    <td>14163150</td>\n",
        "    <td>MCKENZIE RIVER BLW LEABURG DAM, NR LEABURG, OR</td>\n",
        "    <td>3880.1807228915663</td>\n",
        "  </tr>\n",
        "  <tr>\n",
        "    <td>14165000</td>\n",
        "    <td>MOHAWK RIVER NEAR SPRINGFIELD, OR</td>\n",
        "    <td>433.7376506024099</td>\n",
        "  </tr>\n",
        "  <tr>\n",
        "    <td>14187000</td>\n",
        "    <td>WILEY CREEK NEAR FOSTER, OR</td>\n",
        "    <td>160.61886567164186</td>\n",
        "  </tr>\n",
        "</table>"
      ],
      "metadata": {
        "id": "c4Tmd2K4bs5n"
      }
    },
    {
      "cell_type": "markdown",
      "source": [
        "---------------\n",
        "## Question 3 (10 points)\n",
        "\n",
        "* Make a new map of the tallest mountains in Oregon but include a popup that displays the `Isolation` data as a **float**."
      ],
      "metadata": {
        "id": "uStM9f81bw4Y"
      }
    },
    {
      "cell_type": "code",
      "source": [
        "# Import packages\n",
        "import numpy as np\n",
        "import pandas as pd\n",
        "import folium"
      ],
      "metadata": {
        "id": "x9qEZLOZb1Yb"
      },
      "execution_count": 4,
      "outputs": []
    },
    {
      "cell_type": "code",
      "source": [
        "# Read HTML table data\n",
        "mountains = pd.read_html('https://en.wikipedia.org/wiki/List_of_mountain_peaks_of_Oregon')\n",
        "mountains"
      ],
      "metadata": {
        "colab": {
          "base_uri": "https://localhost:8080/"
        },
        "id": "xPjowIsyb8GB",
        "outputId": "2809b936-d2a9-4306-8a48-d7c9fa8aba13"
      },
      "execution_count": null,
      "outputs": [
        {
          "output_type": "execute_result",
          "data": {
            "text/plain": [
              "[                                                   0\n",
              " 0  Map this section's coordinates using: OpenStre...\n",
              " 1                       Download coordinates as: KML,\n",
              "     Rank  ...                                           Location\n",
              " 0      1  ...  .mw-parser-output .geo-default,.mw-parser-outp...\n",
              " 1      2  ...    44°40′27″N 121°47′59″W﻿ / ﻿44.6743°N 121.7996°W\n",
              " 2      3  ...    44°06′13″N 121°46′09″W﻿ / ﻿44.1035°N 121.7693°W\n",
              " 3      4  ...    44°10′00″N 121°46′20″W﻿ / ﻿44.1666°N 121.7723°W\n",
              " 4      5  ...    44°08′54″N 121°47′02″W﻿ / ﻿44.1483°N 121.7840°W\n",
              " 5      6  ...    45°14′42″N 117°17′34″W﻿ / ﻿45.2450°N 117.2929°W\n",
              " 6      7  ...    42°38′11″N 118°34′36″W﻿ / ﻿42.6364°N 118.5767°W\n",
              " 7      8  ...    45°12′11″N 117°10′30″W﻿ / ﻿45.2030°N 117.1750°W\n",
              " 8      9  ...    45°18′17″N 117°20′43″W﻿ / ﻿45.3046°N 117.3452°W\n",
              " 9     10  ...    45°03′52″N 117°14′46″W﻿ / ﻿45.0644°N 117.2460°W\n",
              " 10    11  ...    42°26′40″N 122°18′56″W﻿ / ﻿42.4445°N 122.3156°W\n",
              " 11    12  ...    45°13′20″N 117°23′48″W﻿ / ﻿45.2223°N 117.3968°W\n",
              " 12    13  ...    43°09′10″N 122°03′59″W﻿ / ﻿43.1528°N 122.0665°W\n",
              " 13    14  ...    44°04′59″N 121°41′58″W﻿ / ﻿44.0830°N 121.6994°W\n",
              " 14    15  ...    44°49′00″N 118°06′14″W﻿ / ﻿44.8168°N 118.1039°W\n",
              " 15    16  ...    43°58′46″N 121°41′19″W﻿ / ﻿43.9794°N 121.6885°W\n",
              " 16    17  ...    44°18′44″N 118°43′00″W﻿ / ﻿44.3123°N 118.7166°W\n",
              " 17    18  ...    42°55′22″N 122°00′58″W﻿ / ﻿42.9229°N 122.0162°W\n",
              " 18    19  ...    43°31′15″N 122°08′59″W﻿ / ﻿43.5207°N 122.1496°W\n",
              " 19    20  ...    42°05′58″N 118°39′02″W﻿ / ﻿42.0995°N 118.6506°W\n",
              " 20    21  ...    42°03′46″N 120°14′27″W﻿ / ﻿42.0628°N 120.2408°W\n",
              " 21    22  ...    42°18′00″N 120°07′26″W﻿ / ﻿42.3001°N 120.1238°W\n",
              " 22    23  ...    43°09′18″N 122°13′12″W﻿ / ﻿43.1551°N 122.2200°W\n",
              " 23    24  ...    42°29′46″N 120°52′38″W﻿ / ﻿42.4960°N 120.8773°W\n",
              " 24    25  ...    42°18′56″N 122°05′15″W﻿ / ﻿42.3155°N 122.0876°W\n",
              " 25    26  ...    42°55′50″N 121°21′39″W﻿ / ﻿42.9306°N 121.3607°W\n",
              " 26    27  ...    44°42′50″N 118°33′42″W﻿ / ﻿44.7138°N 118.5617°W\n",
              " 27    28  ...    42°30′48″N 122°08′43″W﻿ / ﻿42.5134°N 122.1453°W\n",
              " 28    29  ...    44°17′20″N 118°29′43″W﻿ / ﻿44.2889°N 118.4954°W\n",
              " 29    30  ...    42°27′35″N 119°44′29″W﻿ / ﻿42.4597°N 119.7414°W\n",
              " 30    31  ...    43°41′21″N 121°15′18″W﻿ / ﻿43.6892°N 121.2549°W\n",
              " \n",
              " [31 rows x 7 columns],\n",
              "                                                    0\n",
              " 0  Map this section's coordinates using: OpenStre...\n",
              " 1                       Download coordinates as: KML,\n",
              "     Rank  ...                                         Location\n",
              " 0      1  ...  45°22′25″N 121°41′45″W﻿ / ﻿45.3735°N 121.6959°W\n",
              " 1      2  ...  45°14′42″N 117°17′34″W﻿ / ﻿45.2450°N 117.2929°W\n",
              " 2      3  ...  44°40′27″N 121°47′59″W﻿ / ﻿44.6743°N 121.7996°W\n",
              " 3      4  ...  44°06′13″N 121°46′09″W﻿ / ﻿44.1035°N 121.7693°W\n",
              " 4      5  ...  44°49′00″N 118°06′14″W﻿ / ﻿44.8168°N 118.1039°W\n",
              " 5      6  ...  42°26′40″N 122°18′56″W﻿ / ﻿42.4445°N 122.3156°W\n",
              " 6      7  ...  42°38′11″N 118°34′36″W﻿ / ﻿42.6364°N 118.5767°W\n",
              " 7      8  ...  44°18′44″N 118°43′00″W﻿ / ﻿44.3123°N 118.7166°W\n",
              " 8      9  ...  42°35′51″N 123°52′49″W﻿ / ﻿42.5976°N 123.8803°W\n",
              " 9     10  ...  42°29′46″N 120°52′38″W﻿ / ﻿42.4960°N 120.8773°W\n",
              " 10    11  ...  43°09′10″N 122°03′59″W﻿ / ﻿43.1528°N 122.0665°W\n",
              " 11    12  ...  44°30′16″N 123°33′08″W﻿ / ﻿44.5045°N 123.5523°W\n",
              " 12    13  ...  43°41′21″N 121°15′18″W﻿ / ﻿43.6892°N 121.2549°W\n",
              " 13    14  ...  42°55′50″N 121°21′39″W﻿ / ﻿42.9306°N 121.3607°W\n",
              " 14    15  ...  42°04′51″N 122°43′01″W﻿ / ﻿42.0807°N 122.7169°W\n",
              " 15    16  ...  43°31′15″N 122°08′59″W﻿ / ﻿43.5207°N 122.1496°W\n",
              " 16    17  ...  44°36′32″N 117°16′42″W﻿ / ﻿44.6089°N 117.2782°W\n",
              " 17    18  ...  42°18′56″N 122°05′15″W﻿ / ﻿42.3155°N 122.0876°W\n",
              " 18    19  ...  44°23′59″N 121°38′08″W﻿ / ﻿44.3997°N 121.6355°W\n",
              " 19    20  ...  42°05′58″N 118°39′02″W﻿ / ﻿42.0995°N 118.6506°W\n",
              " 20    21  ...  45°39′54″N 123°32′53″W﻿ / ﻿45.6649°N 123.5481°W\n",
              " 21    22  ...  42°55′22″N 122°00′58″W﻿ / ﻿42.9229°N 122.0162°W\n",
              " 22    23  ...  43°09′18″N 122°13′12″W﻿ / ﻿43.1551°N 122.2200°W\n",
              " 23    24  ...  44°42′50″N 118°33′42″W﻿ / ﻿44.7138°N 118.5617°W\n",
              " 24    25  ...  44°55′24″N 123°34′24″W﻿ / ﻿44.9233°N 123.5732°W\n",
              " 25    26  ...  44°10′00″N 121°46′20″W﻿ / ﻿44.1666°N 121.7723°W\n",
              " 26    27  ...  43°58′46″N 121°41′19″W﻿ / ﻿43.9794°N 121.6885°W\n",
              " 27    28  ...  42°17′55″N 123°50′47″W﻿ / ﻿42.2987°N 123.8464°W\n",
              " 28    29  ...  43°37′36″N 121°57′53″W﻿ / ﻿43.6268°N 121.9648°W\n",
              " 29    30  ...  44°19′56″N 121°50′19″W﻿ / ﻿44.3321°N 121.8385°W\n",
              " \n",
              " [30 rows x 7 columns],\n",
              "                                                    0\n",
              " 0  Map this section's coordinates using: OpenStre...\n",
              " 1                       Download coordinates as: KML,\n",
              "     Rank  ...                                         Location\n",
              " 0      1  ...  45°14′42″N 117°17′34″W﻿ / ﻿45.2450°N 117.2929°W\n",
              " 1      2  ...  42°38′11″N 118°34′36″W﻿ / ﻿42.6364°N 118.5767°W\n",
              " 2      3  ...  42°26′40″N 122°18′56″W﻿ / ﻿42.4445°N 122.3156°W\n",
              " 3      4  ...  45°39′54″N 123°32′53″W﻿ / ﻿45.6649°N 123.5481°W\n",
              " 4      5  ...  45°22′25″N 121°41′45″W﻿ / ﻿45.3735°N 121.6959°W\n",
              " 5      6  ...  43°09′10″N 122°03′59″W﻿ / ﻿43.1528°N 122.0665°W\n",
              " 6      7  ...  44°30′16″N 123°33′08″W﻿ / ﻿44.5045°N 123.5523°W\n",
              " 7      8  ...  44°40′27″N 121°47′59″W﻿ / ﻿44.6743°N 121.7996°W\n",
              " 8      9  ...  44°18′44″N 118°43′00″W﻿ / ﻿44.3123°N 118.7166°W\n",
              " 9     10  ...  44°19′37″N 120°22′23″W﻿ / ﻿44.3270°N 120.3730°W\n",
              " 10    11  ...  42°03′46″N 120°14′27″W﻿ / ﻿42.0628°N 120.2408°W\n",
              " 11    12  ...  44°49′00″N 118°06′14″W﻿ / ﻿44.8168°N 118.1039°W\n",
              " 12    13  ...  42°29′46″N 120°52′38″W﻿ / ﻿42.4960°N 120.8773°W\n",
              " 13    14  ...  44°06′13″N 121°46′09″W﻿ / ﻿44.1035°N 121.7693°W\n",
              " 14    15  ...  42°35′51″N 123°52′49″W﻿ / ﻿42.5976°N 123.8803°W\n",
              " 15    16  ...  45°12′47″N 119°17′45″W﻿ / ﻿45.2131°N 119.2958°W\n",
              " 16    17  ...  42°55′50″N 121°21′39″W﻿ / ﻿42.9306°N 121.3607°W\n",
              " 17    18  ...  42°04′51″N 122°43′01″W﻿ / ﻿42.0807°N 122.7169°W\n",
              " 18    19  ...  43°41′21″N 121°15′18″W﻿ / ﻿43.6892°N 121.2549°W\n",
              " 19    20  ...  42°05′58″N 118°39′02″W﻿ / ﻿42.0995°N 118.6506°W\n",
              " 20    21  ...  44°55′24″N 123°34′24″W﻿ / ﻿44.9233°N 123.5732°W\n",
              " 21    22  ...  43°58′13″N 119°29′46″W﻿ / ﻿43.9704°N 119.4962°W\n",
              " 22    23  ...  43°31′15″N 122°08′59″W﻿ / ﻿43.5207°N 122.1496°W\n",
              " 23    24  ...  43°54′44″N 123°44′18″W﻿ / ﻿43.9121°N 123.7383°W\n",
              " 24    25  ...  42°27′35″N 119°44′29″W﻿ / ﻿42.4597°N 119.7414°W\n",
              " 25    26  ...  44°10′08″N 117°39′44″W﻿ / ﻿44.1688°N 117.6621°W\n",
              " 26    27  ...  45°58′09″N 123°41′07″W﻿ / ﻿45.9691°N 123.6853°W\n",
              " 27    28  ...  42°23′09″N 119°19′55″W﻿ / ﻿42.3859°N 119.3320°W\n",
              " 28    29  ...  43°16′27″N 121°21′20″W﻿ / ﻿43.2743°N 121.3555°W\n",
              " 29    30  ...  42°19′34″N 121°16′09″W﻿ / ﻿42.3262°N 121.2691°W\n",
              " \n",
              " [30 rows x 7 columns],\n",
              "    .mw-parser-output .navbar{display:inline;font-size:88%;font-weight:normal}.mw-parser-output .navbar-collapse{float:left;text-align:left}.mw-parser-output .navbar-boxtext{word-spacing:0}.mw-parser-output .navbar ul{display:inline-block;white-space:nowrap;line-height:inherit}.mw-parser-output .navbar-brackets::before{margin-right:-0.125em;content:\"[ \"}.mw-parser-output .navbar-brackets::after{margin-left:-0.125em;content:\" ]\"}.mw-parser-output .navbar li{word-spacing:-0.125em}.mw-parser-output .navbar a>span,.mw-parser-output .navbar a>abbr{text-decoration:inherit}.mw-parser-output .navbar-mini abbr{font-variant:small-caps;border-bottom:none;text-decoration:none;cursor:inherit}.mw-parser-output .navbar-ct-full{font-size:114%;margin:0 7em}.mw-parser-output .navbar-ct-mini{font-size:114%;margin:0 4em}vte State of Oregon  ... .mw-parser-output .navbar{display:inline;font-size:88%;font-weight:normal}.mw-parser-output .navbar-collapse{float:left;text-align:left}.mw-parser-output .navbar-boxtext{word-spacing:0}.mw-parser-output .navbar ul{display:inline-block;white-space:nowrap;line-height:inherit}.mw-parser-output .navbar-brackets::before{margin-right:-0.125em;content:\"[ \"}.mw-parser-output .navbar-brackets::after{margin-left:-0.125em;content:\" ]\"}.mw-parser-output .navbar li{word-spacing:-0.125em}.mw-parser-output .navbar a>span,.mw-parser-output .navbar a>abbr{text-decoration:inherit}.mw-parser-output .navbar-mini abbr{font-variant:small-caps;border-bottom:none;text-decoration:none;cursor:inherit}.mw-parser-output .navbar-ct-full{font-size:114%;margin:0 7em}.mw-parser-output .navbar-ct-mini{font-size:114%;margin:0 4em}vte State of Oregon.2\n",
              " 0                                     Salem (capital)                                                                                                                                                                                                                                                                                                                                                                                                                                                                                                                                                                                                                                                                                                                                                                                                           ...                                    Salem (capital)                                                                                                                                                                                                                                                                                                                                                                                                                                                                                                                                                                                                                                                                                                                                                                                                           \n",
              " 1                                              Topics                                                                                                                                                                                                                                                                                                                                                                                                                                                                                                                                                                                                                                                                                                                                                                                                           ...                                                NaN                                                                                                                                                                                                                                                                                                                                                                                                                                                                                                                                                                                                                                                                                                                                                                                                           \n",
              " 2                                             Society                                                                                                                                                                                                                                                                                                                                                                                                                                                                                                                                                                                                                                                                                                                                                                                                           ...                                                NaN                                                                                                                                                                                                                                                                                                                                                                                                                                                                                                                                                                                                                                                                                                                                                                                                           \n",
              " 3                                             Regions                                                                                                                                                                                                                                                                                                                                                                                                                                                                                                                                                                                                                                                                                                                                                                                                           ...                                                NaN                                                                                                                                                                                                                                                                                                                                                                                                                                                                                                                                                                                                                                                                                                                                                                                                           \n",
              " 4                                             Western                                                                                                                                                                                                                                                                                                                                                                                                                                                                                                                                                                                                                                                                                                                                                                                                           ...                                                NaN                                                                                                                                                                                                                                                                                                                                                                                                                                                                                                                                                                                                                                                                                                                                                                                                           \n",
              " 5                                             Eastern                                                                                                                                                                                                                                                                                                                                                                                                                                                                                                                                                                                                                                                                                                                                                                                                           ...                                                NaN                                                                                                                                                                                                                                                                                                                                                                                                                                                                                                                                                                                                                                                                                                                                                                                                           \n",
              " 6                                            Southern                                                                                                                                                                                                                                                                                                                                                                                                                                                                                                                                                                                                                                                                                                                                                                                                           ...                                                NaN                                                                                                                                                                                                                                                                                                                                                                                                                                                                                                                                                                                                                                                                                                                                                                                                           \n",
              " 7                                              Shared                                                                                                                                                                                                                                                                                                                                                                                                                                                                                                                                                                                                                                                                                                                                                                                                           ...                                                NaN                                                                                                                                                                                                                                                                                                                                                                                                                                                                                                                                                                                                                                                                                                                                                                                                           \n",
              " 8                                         Metro areas                                                                                                                                                                                                                                                                                                                                                                                                                                                                                                                                                                                                                                                                                                                                                                                                           ...                                                NaN                                                                                                                                                                                                                                                                                                                                                                                                                                                                                                                                                                                                                                                                                                                                                                                                           \n",
              " 9                                      Largest cities                                                                                                                                                                                                                                                                                                                                                                                                                                                                                                                                                                                                                                                                                                                                                                                                           ...                                                NaN                                                                                                                                                                                                                                                                                                                                                                                                                                                                                                                                                                                                                                                                                                                                                                                                           \n",
              " 10                                           Counties                                                                                                                                                                                                                                                                                                                                                                                                                                                                                                                                                                                                                                                                                                                                                                                                           ...                                                NaN                                                                                                                                                                                                                                                                                                                                                                                                                                                                                                                                                                                                                                                                                                                                                                                                           \n",
              " 11           Oregon portal • Pacific Northwest portal                                                                                                                                                                                                                                                                                                                                                                                                                                                                                                                                                                                                                                                                                                                                                                                                           ...           Oregon portal • Pacific Northwest portal                                                                                                                                                                                                                                                                                                                                                                                                                                                                                                                                                                                                                                                                                                                                                                                                           \n",
              " \n",
              " [12 rows x 3 columns],\n",
              "           0                                                  1\n",
              " 0   Western  Northwest Oregon Oregon Coast Portland Metro T...\n",
              " 1   Eastern  Harney Basin High Desert Palouse Treasure Vall...\n",
              " 2  Southern                                       Rogue Valley\n",
              " 3    Shared  The Cascades Columbia Gorge Columbia River Col...,\n",
              "            vteThe 24 highest major summits of Oregon        vteThe 24 highest major summits of Oregon.1\n",
              " 0  .mw-parser-output .div-col{margin-top:0.3em;co...  .mw-parser-output .div-col{margin-top:0.3em;co...,\n",
              "   vteThe 104 highest major summits of the United States of America vteThe 104 highest major summits of the United States of America.1\n",
              " 0  Denali Mount Saint Elias Mount Foraker Mount B...                Denali Mount Saint Elias Mount Foraker Mount B...                ,\n",
              "   vteThe 126 most prominent summits of the United States of America vteThe 126 most prominent summits of the United States of America.1\n",
              " 0  Denali Mauna Kea Mount Rainier Mount Fairweath...                 Denali Mauna Kea Mount Rainier Mount Fairweath...                 ,\n",
              "   vteThe 113 most isolated major summits of the United States of America vteThe 113 most isolated major summits of the United States of America.1\n",
              " 0  Denali Mauna Kea Mount Whitney Mount Mitchell ...                      Denali Mauna Kea Mount Whitney Mount Mitchell ...                      ,\n",
              "   vteMountain peaks of the United States of America vteMountain peaks of the United States of America.1\n",
              " 0                                            States  Alabama Alaska Arizona Arkansas California Col... \n",
              " 1                                  Federal district                                   Washington, D.C. \n",
              " 2                                     Insular areas  American Samoa Guam Northern Mariana Islands P... ]"
            ]
          },
          "metadata": {},
          "execution_count": 14
        }
      ]
    },
    {
      "cell_type": "code",
      "source": [
        "# Print number of tables on webpage\n",
        "len(mountains)"
      ],
      "metadata": {
        "colab": {
          "base_uri": "https://localhost:8080/"
        },
        "id": "xxZ-aXKjb-hy",
        "outputId": "85ea1f36-de73-4b00-9d19-291a8e41bc9c"
      },
      "execution_count": null,
      "outputs": [
        {
          "output_type": "execute_result",
          "data": {
            "text/plain": [
              "13"
            ]
          },
          "metadata": {},
          "execution_count": 15
        }
      ]
    },
    {
      "cell_type": "code",
      "source": [
        "# We would like the table that contains the highest summits of Oregon which happens to be the second one\n",
        "mountain_stats = mountains[1]"
      ],
      "metadata": {
        "id": "6e57EDtIcELD"
      },
      "execution_count": null,
      "outputs": []
    },
    {
      "cell_type": "code",
      "source": [
        "# Some wrangling\n",
        "mountain_stats['Location'] = mountain_stats['Location'].str.replace(mountain_stats['Location'].loc[0], \"45°22′25″N 121°41′45″W\\ufeff / \\ufeff45.3735°N 121.6959°W\", regex=True)"
      ],
      "metadata": {
        "id": "D0M0WmuRcIzz"
      },
      "execution_count": null,
      "outputs": []
    },
    {
      "cell_type": "code",
      "source": [
        "mountain_stats.dtypes"
      ],
      "metadata": {
        "colab": {
          "base_uri": "https://localhost:8080/"
        },
        "id": "JoRLZOhUcWHy",
        "outputId": "f029092c-5f65-469f-ee4f-f52c83c4809f"
      },
      "execution_count": null,
      "outputs": [
        {
          "output_type": "execute_result",
          "data": {
            "text/plain": [
              "Rank               int64\n",
              "Mountain peak     object\n",
              "Mountain range    object\n",
              "Elevation         object\n",
              "Prominence        object\n",
              "Isolation         object\n",
              "Location          object\n",
              "dtype: object"
            ]
          },
          "metadata": {},
          "execution_count": 18
        }
      ]
    },
    {
      "cell_type": "code",
      "source": [
        "# Have a look at the location object\n",
        "mountain_stats['Location'].iloc[0]"
      ],
      "metadata": {
        "colab": {
          "base_uri": "https://localhost:8080/",
          "height": 35
        },
        "id": "r2z1CQGfcb28",
        "outputId": "87ed22e8-dacd-4542-9a99-70c246dddfc6"
      },
      "execution_count": null,
      "outputs": [
        {
          "output_type": "execute_result",
          "data": {
            "application/vnd.google.colaboratory.intrinsic+json": {
              "type": "string"
            },
            "text/plain": [
              "'45°22′25″N 121°41′45″W\\ufeff / \\ufeff45.3735°N 121.6959°W'"
            ]
          },
          "metadata": {},
          "execution_count": 19
        }
      ]
    },
    {
      "cell_type": "code",
      "source": [
        "# The latitude is string position 27 to 34\n",
        "lat1 = mountain_stats['Location'].iloc[0][27:34]\n",
        "\n",
        "# The longitude is string position 37 to 45\n",
        "lon1 = mountain_stats['Location'].iloc[0][37:45]"
      ],
      "metadata": {
        "id": "410zBDY8ciuD"
      },
      "execution_count": null,
      "outputs": []
    },
    {
      "cell_type": "code",
      "source": [
        "# Get Isolation value as a float\n",
        "float(mountain_stats['Isolation'].iloc[0][:-2])"
      ],
      "metadata": {
        "colab": {
          "base_uri": "https://localhost:8080/"
        },
        "id": "Iio_gp5gc1zJ",
        "outputId": "273bc890-e019-4ddd-85fc-e38a5bd87b19"
      },
      "execution_count": null,
      "outputs": [
        {
          "output_type": "execute_result",
          "data": {
            "text/plain": [
              "92.2"
            ]
          },
          "metadata": {},
          "execution_count": 24
        }
      ]
    },
    {
      "cell_type": "code",
      "source": [
        "# To get these data from every row, we can write another quick for loop\n",
        "isolation = []\n",
        "for i in range(len(mountain_stats)):\n",
        "    iso = float(mountain_stats['Isolation'].iloc[i][:-2])\n",
        "    isolation.append(iso)\n",
        "isolation"
      ],
      "metadata": {
        "colab": {
          "base_uri": "https://localhost:8080/"
        },
        "id": "j2CmjkEMeSdU",
        "outputId": "107ef9d0-5dd9-48cb-82fc-25d901d97a41"
      },
      "execution_count": null,
      "outputs": [
        {
          "output_type": "execute_result",
          "data": {
            "text/plain": [
              "[92.2,\n",
              " 77.5,\n",
              " 63.4,\n",
              " 7.0,\n",
              " 1.8,\n",
              " 202.0,\n",
              " 201.0,\n",
              " 9.48,\n",
              " 7.79,\n",
              " 11.84,\n",
              " 111.8,\n",
              " 5.32,\n",
              " 81.1,\n",
              " 5.52,\n",
              " 69.9,\n",
              " 11.02,\n",
              " 74.2,\n",
              " 25.9,\n",
              " 41.4,\n",
              " 45.5,\n",
              " 71.4,\n",
              " 28.1,\n",
              " 12.49,\n",
              " 65.7,\n",
              " 23.7,\n",
              " 53.1,\n",
              " 23.5,\n",
              " 15.98,\n",
              " 10.73,\n",
              " 35.6,\n",
              " 46.5]"
            ]
          },
          "metadata": {},
          "execution_count": 28
        }
      ]
    },
    {
      "cell_type": "code",
      "source": [
        "map = folium.Map(location=[44, -121], zoom_start=7)\n",
        "for i in range(0, len(coords)):\n",
        "    folium.Marker(coords[i], popup=isolation[i]).add_to(map)\n",
        "map"
      ],
      "metadata": {
        "colab": {
          "base_uri": "https://localhost:8080/",
          "height": 866
        },
        "id": "VodCJoU6dPqt",
        "outputId": "9c76618c-e010-4fcf-bbac-1f70acfc5cbc"
      },
      "execution_count": null,
      "outputs": [
        {
          "output_type": "execute_result",
          "data": {
            "text/html": [
              "<div style=\"width:100%;\"><div style=\"position:relative;width:100%;height:0;padding-bottom:60%;\"><span style=\"color:#565656\">Make this Notebook Trusted to load map: File -> Trust Notebook</span><iframe src=\"about:blank\" style=\"position:absolute;width:100%;height:100%;left:0;top:0;border:none !important;\" data-html=%3C%21DOCTYPE%20html%3E%0A%3Chead%3E%20%20%20%20%0A%20%20%20%20%3Cmeta%20http-equiv%3D%22content-type%22%20content%3D%22text/html%3B%20charset%3DUTF-8%22%20/%3E%0A%20%20%20%20%0A%20%20%20%20%20%20%20%20%3Cscript%3E%0A%20%20%20%20%20%20%20%20%20%20%20%20L_NO_TOUCH%20%3D%20false%3B%0A%20%20%20%20%20%20%20%20%20%20%20%20L_DISABLE_3D%20%3D%20false%3B%0A%20%20%20%20%20%20%20%20%3C/script%3E%0A%20%20%20%20%0A%20%20%20%20%3Cstyle%3Ehtml%2C%20body%20%7Bwidth%3A%20100%25%3Bheight%3A%20100%25%3Bmargin%3A%200%3Bpadding%3A%200%3B%7D%3C/style%3E%0A%20%20%20%20%3Cstyle%3E%23map%20%7Bposition%3Aabsolute%3Btop%3A0%3Bbottom%3A0%3Bright%3A0%3Bleft%3A0%3B%7D%3C/style%3E%0A%20%20%20%20%3Cscript%20src%3D%22https%3A//cdn.jsdelivr.net/npm/leaflet%401.6.0/dist/leaflet.js%22%3E%3C/script%3E%0A%20%20%20%20%3Cscript%20src%3D%22https%3A//code.jquery.com/jquery-1.12.4.min.js%22%3E%3C/script%3E%0A%20%20%20%20%3Cscript%20src%3D%22https%3A//maxcdn.bootstrapcdn.com/bootstrap/3.2.0/js/bootstrap.min.js%22%3E%3C/script%3E%0A%20%20%20%20%3Cscript%20src%3D%22https%3A//cdnjs.cloudflare.com/ajax/libs/Leaflet.awesome-markers/2.0.2/leaflet.awesome-markers.js%22%3E%3C/script%3E%0A%20%20%20%20%3Clink%20rel%3D%22stylesheet%22%20href%3D%22https%3A//cdn.jsdelivr.net/npm/leaflet%401.6.0/dist/leaflet.css%22/%3E%0A%20%20%20%20%3Clink%20rel%3D%22stylesheet%22%20href%3D%22https%3A//maxcdn.bootstrapcdn.com/bootstrap/3.2.0/css/bootstrap.min.css%22/%3E%0A%20%20%20%20%3Clink%20rel%3D%22stylesheet%22%20href%3D%22https%3A//maxcdn.bootstrapcdn.com/bootstrap/3.2.0/css/bootstrap-theme.min.css%22/%3E%0A%20%20%20%20%3Clink%20rel%3D%22stylesheet%22%20href%3D%22https%3A//maxcdn.bootstrapcdn.com/font-awesome/4.6.3/css/font-awesome.min.css%22/%3E%0A%20%20%20%20%3Clink%20rel%3D%22stylesheet%22%20href%3D%22https%3A//cdnjs.cloudflare.com/ajax/libs/Leaflet.awesome-markers/2.0.2/leaflet.awesome-markers.css%22/%3E%0A%20%20%20%20%3Clink%20rel%3D%22stylesheet%22%20href%3D%22https%3A//cdn.jsdelivr.net/gh/python-visualization/folium/folium/templates/leaflet.awesome.rotate.min.css%22/%3E%0A%20%20%20%20%0A%20%20%20%20%20%20%20%20%20%20%20%20%3Cmeta%20name%3D%22viewport%22%20content%3D%22width%3Ddevice-width%2C%0A%20%20%20%20%20%20%20%20%20%20%20%20%20%20%20%20initial-scale%3D1.0%2C%20maximum-scale%3D1.0%2C%20user-scalable%3Dno%22%20/%3E%0A%20%20%20%20%20%20%20%20%20%20%20%20%3Cstyle%3E%0A%20%20%20%20%20%20%20%20%20%20%20%20%20%20%20%20%23map_91f67631f7674770aa3e67476c2f4138%20%7B%0A%20%20%20%20%20%20%20%20%20%20%20%20%20%20%20%20%20%20%20%20position%3A%20relative%3B%0A%20%20%20%20%20%20%20%20%20%20%20%20%20%20%20%20%20%20%20%20width%3A%20100.0%25%3B%0A%20%20%20%20%20%20%20%20%20%20%20%20%20%20%20%20%20%20%20%20height%3A%20100.0%25%3B%0A%20%20%20%20%20%20%20%20%20%20%20%20%20%20%20%20%20%20%20%20left%3A%200.0%25%3B%0A%20%20%20%20%20%20%20%20%20%20%20%20%20%20%20%20%20%20%20%20top%3A%200.0%25%3B%0A%20%20%20%20%20%20%20%20%20%20%20%20%20%20%20%20%7D%0A%20%20%20%20%20%20%20%20%20%20%20%20%3C/style%3E%0A%20%20%20%20%20%20%20%20%0A%3C/head%3E%0A%3Cbody%3E%20%20%20%20%0A%20%20%20%20%0A%20%20%20%20%20%20%20%20%20%20%20%20%3Cdiv%20class%3D%22folium-map%22%20id%3D%22map_91f67631f7674770aa3e67476c2f4138%22%20%3E%3C/div%3E%0A%20%20%20%20%20%20%20%20%0A%3C/body%3E%0A%3Cscript%3E%20%20%20%20%0A%20%20%20%20%0A%20%20%20%20%20%20%20%20%20%20%20%20var%20map_91f67631f7674770aa3e67476c2f4138%20%3D%20L.map%28%0A%20%20%20%20%20%20%20%20%20%20%20%20%20%20%20%20%22map_91f67631f7674770aa3e67476c2f4138%22%2C%0A%20%20%20%20%20%20%20%20%20%20%20%20%20%20%20%20%7B%0A%20%20%20%20%20%20%20%20%20%20%20%20%20%20%20%20%20%20%20%20center%3A%20%5B44.0%2C%20-121.0%5D%2C%0A%20%20%20%20%20%20%20%20%20%20%20%20%20%20%20%20%20%20%20%20crs%3A%20L.CRS.EPSG3857%2C%0A%20%20%20%20%20%20%20%20%20%20%20%20%20%20%20%20%20%20%20%20zoom%3A%207%2C%0A%20%20%20%20%20%20%20%20%20%20%20%20%20%20%20%20%20%20%20%20zoomControl%3A%20true%2C%0A%20%20%20%20%20%20%20%20%20%20%20%20%20%20%20%20%20%20%20%20preferCanvas%3A%20false%2C%0A%20%20%20%20%20%20%20%20%20%20%20%20%20%20%20%20%7D%0A%20%20%20%20%20%20%20%20%20%20%20%20%29%3B%0A%0A%20%20%20%20%20%20%20%20%20%20%20%20%0A%0A%20%20%20%20%20%20%20%20%0A%20%20%20%20%0A%20%20%20%20%20%20%20%20%20%20%20%20var%20tile_layer_5232483082e34de29e4e9cca3613b7c8%20%3D%20L.tileLayer%28%0A%20%20%20%20%20%20%20%20%20%20%20%20%20%20%20%20%22https%3A//%7Bs%7D.tile.openstreetmap.org/%7Bz%7D/%7Bx%7D/%7By%7D.png%22%2C%0A%20%20%20%20%20%20%20%20%20%20%20%20%20%20%20%20%7B%22attribution%22%3A%20%22Data%20by%20%5Cu0026copy%3B%20%5Cu003ca%20href%3D%5C%22http%3A//openstreetmap.org%5C%22%5Cu003eOpenStreetMap%5Cu003c/a%5Cu003e%2C%20under%20%5Cu003ca%20href%3D%5C%22http%3A//www.openstreetmap.org/copyright%5C%22%5Cu003eODbL%5Cu003c/a%5Cu003e.%22%2C%20%22detectRetina%22%3A%20false%2C%20%22maxNativeZoom%22%3A%2018%2C%20%22maxZoom%22%3A%2018%2C%20%22minZoom%22%3A%200%2C%20%22noWrap%22%3A%20false%2C%20%22opacity%22%3A%201%2C%20%22subdomains%22%3A%20%22abc%22%2C%20%22tms%22%3A%20false%7D%0A%20%20%20%20%20%20%20%20%20%20%20%20%29.addTo%28map_91f67631f7674770aa3e67476c2f4138%29%3B%0A%20%20%20%20%20%20%20%20%0A%20%20%20%20%0A%20%20%20%20%20%20%20%20%20%20%20%20var%20marker_42f2518ebe1648388a7de7bd1235a116%20%3D%20L.marker%28%0A%20%20%20%20%20%20%20%20%20%20%20%20%20%20%20%20%5B45.3735%2C%20-121.6959%5D%2C%0A%20%20%20%20%20%20%20%20%20%20%20%20%20%20%20%20%7B%7D%0A%20%20%20%20%20%20%20%20%20%20%20%20%29.addTo%28map_91f67631f7674770aa3e67476c2f4138%29%3B%0A%20%20%20%20%20%20%20%20%0A%20%20%20%20%0A%20%20%20%20%20%20%20%20var%20popup_2ed9693728484baca4d2cc05e47aee66%20%3D%20L.popup%28%7B%22maxWidth%22%3A%20%22100%25%22%7D%29%3B%0A%0A%20%20%20%20%20%20%20%20%0A%20%20%20%20%20%20%20%20%20%20%20%20var%20html_3ccdb09e72fa47abbdae446e0d0e137c%20%3D%20%24%28%60%3Cdiv%20id%3D%22html_3ccdb09e72fa47abbdae446e0d0e137c%22%20style%3D%22width%3A%20100.0%25%3B%20height%3A%20100.0%25%3B%22%3E92.2%3C/div%3E%60%29%5B0%5D%3B%0A%20%20%20%20%20%20%20%20%20%20%20%20popup_2ed9693728484baca4d2cc05e47aee66.setContent%28html_3ccdb09e72fa47abbdae446e0d0e137c%29%3B%0A%20%20%20%20%20%20%20%20%0A%0A%20%20%20%20%20%20%20%20marker_42f2518ebe1648388a7de7bd1235a116.bindPopup%28popup_2ed9693728484baca4d2cc05e47aee66%29%0A%20%20%20%20%20%20%20%20%3B%0A%0A%20%20%20%20%20%20%20%20%0A%20%20%20%20%0A%20%20%20%20%0A%20%20%20%20%20%20%20%20%20%20%20%20var%20marker_eb0230befebb4cf7bd9c9c4af401762e%20%3D%20L.marker%28%0A%20%20%20%20%20%20%20%20%20%20%20%20%20%20%20%20%5B44.6743%2C%20-121.7996%5D%2C%0A%20%20%20%20%20%20%20%20%20%20%20%20%20%20%20%20%7B%7D%0A%20%20%20%20%20%20%20%20%20%20%20%20%29.addTo%28map_91f67631f7674770aa3e67476c2f4138%29%3B%0A%20%20%20%20%20%20%20%20%0A%20%20%20%20%0A%20%20%20%20%20%20%20%20var%20popup_ca748a361c364a849e1caee202f59d10%20%3D%20L.popup%28%7B%22maxWidth%22%3A%20%22100%25%22%7D%29%3B%0A%0A%20%20%20%20%20%20%20%20%0A%20%20%20%20%20%20%20%20%20%20%20%20var%20html_962309d4f34649069337652e2842c7ea%20%3D%20%24%28%60%3Cdiv%20id%3D%22html_962309d4f34649069337652e2842c7ea%22%20style%3D%22width%3A%20100.0%25%3B%20height%3A%20100.0%25%3B%22%3E77.5%3C/div%3E%60%29%5B0%5D%3B%0A%20%20%20%20%20%20%20%20%20%20%20%20popup_ca748a361c364a849e1caee202f59d10.setContent%28html_962309d4f34649069337652e2842c7ea%29%3B%0A%20%20%20%20%20%20%20%20%0A%0A%20%20%20%20%20%20%20%20marker_eb0230befebb4cf7bd9c9c4af401762e.bindPopup%28popup_ca748a361c364a849e1caee202f59d10%29%0A%20%20%20%20%20%20%20%20%3B%0A%0A%20%20%20%20%20%20%20%20%0A%20%20%20%20%0A%20%20%20%20%0A%20%20%20%20%20%20%20%20%20%20%20%20var%20marker_dc6ccf51897244bd86e1a9e1e826abbd%20%3D%20L.marker%28%0A%20%20%20%20%20%20%20%20%20%20%20%20%20%20%20%20%5B44.1035%2C%20-121.7693%5D%2C%0A%20%20%20%20%20%20%20%20%20%20%20%20%20%20%20%20%7B%7D%0A%20%20%20%20%20%20%20%20%20%20%20%20%29.addTo%28map_91f67631f7674770aa3e67476c2f4138%29%3B%0A%20%20%20%20%20%20%20%20%0A%20%20%20%20%0A%20%20%20%20%20%20%20%20var%20popup_fcf0744d20d247228d451bc04422279e%20%3D%20L.popup%28%7B%22maxWidth%22%3A%20%22100%25%22%7D%29%3B%0A%0A%20%20%20%20%20%20%20%20%0A%20%20%20%20%20%20%20%20%20%20%20%20var%20html_46ff73a658544161876250ed16dfc678%20%3D%20%24%28%60%3Cdiv%20id%3D%22html_46ff73a658544161876250ed16dfc678%22%20style%3D%22width%3A%20100.0%25%3B%20height%3A%20100.0%25%3B%22%3E63.4%3C/div%3E%60%29%5B0%5D%3B%0A%20%20%20%20%20%20%20%20%20%20%20%20popup_fcf0744d20d247228d451bc04422279e.setContent%28html_46ff73a658544161876250ed16dfc678%29%3B%0A%20%20%20%20%20%20%20%20%0A%0A%20%20%20%20%20%20%20%20marker_dc6ccf51897244bd86e1a9e1e826abbd.bindPopup%28popup_fcf0744d20d247228d451bc04422279e%29%0A%20%20%20%20%20%20%20%20%3B%0A%0A%20%20%20%20%20%20%20%20%0A%20%20%20%20%0A%20%20%20%20%0A%20%20%20%20%20%20%20%20%20%20%20%20var%20marker_dd5948ce749d425d942ea706653a0188%20%3D%20L.marker%28%0A%20%20%20%20%20%20%20%20%20%20%20%20%20%20%20%20%5B44.1666%2C%20-121.7723%5D%2C%0A%20%20%20%20%20%20%20%20%20%20%20%20%20%20%20%20%7B%7D%0A%20%20%20%20%20%20%20%20%20%20%20%20%29.addTo%28map_91f67631f7674770aa3e67476c2f4138%29%3B%0A%20%20%20%20%20%20%20%20%0A%20%20%20%20%0A%20%20%20%20%20%20%20%20var%20popup_b768506b78094f37a182c2052f3dc012%20%3D%20L.popup%28%7B%22maxWidth%22%3A%20%22100%25%22%7D%29%3B%0A%0A%20%20%20%20%20%20%20%20%0A%20%20%20%20%20%20%20%20%20%20%20%20var%20html_718c20b7794e4ccd8075e6f33034bb33%20%3D%20%24%28%60%3Cdiv%20id%3D%22html_718c20b7794e4ccd8075e6f33034bb33%22%20style%3D%22width%3A%20100.0%25%3B%20height%3A%20100.0%25%3B%22%3E7.0%3C/div%3E%60%29%5B0%5D%3B%0A%20%20%20%20%20%20%20%20%20%20%20%20popup_b768506b78094f37a182c2052f3dc012.setContent%28html_718c20b7794e4ccd8075e6f33034bb33%29%3B%0A%20%20%20%20%20%20%20%20%0A%0A%20%20%20%20%20%20%20%20marker_dd5948ce749d425d942ea706653a0188.bindPopup%28popup_b768506b78094f37a182c2052f3dc012%29%0A%20%20%20%20%20%20%20%20%3B%0A%0A%20%20%20%20%20%20%20%20%0A%20%20%20%20%0A%20%20%20%20%0A%20%20%20%20%20%20%20%20%20%20%20%20var%20marker_f0ed7e0e1052445fadffcf76570d6478%20%3D%20L.marker%28%0A%20%20%20%20%20%20%20%20%20%20%20%20%20%20%20%20%5B44.1483%2C%20-121.784%5D%2C%0A%20%20%20%20%20%20%20%20%20%20%20%20%20%20%20%20%7B%7D%0A%20%20%20%20%20%20%20%20%20%20%20%20%29.addTo%28map_91f67631f7674770aa3e67476c2f4138%29%3B%0A%20%20%20%20%20%20%20%20%0A%20%20%20%20%0A%20%20%20%20%20%20%20%20var%20popup_f8c670c512114ccfa772def0961844e9%20%3D%20L.popup%28%7B%22maxWidth%22%3A%20%22100%25%22%7D%29%3B%0A%0A%20%20%20%20%20%20%20%20%0A%20%20%20%20%20%20%20%20%20%20%20%20var%20html_14f6da1de8d142568097a8b919f2391b%20%3D%20%24%28%60%3Cdiv%20id%3D%22html_14f6da1de8d142568097a8b919f2391b%22%20style%3D%22width%3A%20100.0%25%3B%20height%3A%20100.0%25%3B%22%3E1.8%3C/div%3E%60%29%5B0%5D%3B%0A%20%20%20%20%20%20%20%20%20%20%20%20popup_f8c670c512114ccfa772def0961844e9.setContent%28html_14f6da1de8d142568097a8b919f2391b%29%3B%0A%20%20%20%20%20%20%20%20%0A%0A%20%20%20%20%20%20%20%20marker_f0ed7e0e1052445fadffcf76570d6478.bindPopup%28popup_f8c670c512114ccfa772def0961844e9%29%0A%20%20%20%20%20%20%20%20%3B%0A%0A%20%20%20%20%20%20%20%20%0A%20%20%20%20%0A%20%20%20%20%0A%20%20%20%20%20%20%20%20%20%20%20%20var%20marker_f8f4dc4995bd4b65a6b84a89d18d5def%20%3D%20L.marker%28%0A%20%20%20%20%20%20%20%20%20%20%20%20%20%20%20%20%5B45.245%2C%20-117.2929%5D%2C%0A%20%20%20%20%20%20%20%20%20%20%20%20%20%20%20%20%7B%7D%0A%20%20%20%20%20%20%20%20%20%20%20%20%29.addTo%28map_91f67631f7674770aa3e67476c2f4138%29%3B%0A%20%20%20%20%20%20%20%20%0A%20%20%20%20%0A%20%20%20%20%20%20%20%20var%20popup_e2fa99fac64644c983faa64523b1c7cc%20%3D%20L.popup%28%7B%22maxWidth%22%3A%20%22100%25%22%7D%29%3B%0A%0A%20%20%20%20%20%20%20%20%0A%20%20%20%20%20%20%20%20%20%20%20%20var%20html_704002a65a3741a08ef8d6d3a126a66e%20%3D%20%24%28%60%3Cdiv%20id%3D%22html_704002a65a3741a08ef8d6d3a126a66e%22%20style%3D%22width%3A%20100.0%25%3B%20height%3A%20100.0%25%3B%22%3E202.0%3C/div%3E%60%29%5B0%5D%3B%0A%20%20%20%20%20%20%20%20%20%20%20%20popup_e2fa99fac64644c983faa64523b1c7cc.setContent%28html_704002a65a3741a08ef8d6d3a126a66e%29%3B%0A%20%20%20%20%20%20%20%20%0A%0A%20%20%20%20%20%20%20%20marker_f8f4dc4995bd4b65a6b84a89d18d5def.bindPopup%28popup_e2fa99fac64644c983faa64523b1c7cc%29%0A%20%20%20%20%20%20%20%20%3B%0A%0A%20%20%20%20%20%20%20%20%0A%20%20%20%20%0A%20%20%20%20%0A%20%20%20%20%20%20%20%20%20%20%20%20var%20marker_ce9dd4e069de43959bfe1f910694e496%20%3D%20L.marker%28%0A%20%20%20%20%20%20%20%20%20%20%20%20%20%20%20%20%5B42.6364%2C%20-118.5767%5D%2C%0A%20%20%20%20%20%20%20%20%20%20%20%20%20%20%20%20%7B%7D%0A%20%20%20%20%20%20%20%20%20%20%20%20%29.addTo%28map_91f67631f7674770aa3e67476c2f4138%29%3B%0A%20%20%20%20%20%20%20%20%0A%20%20%20%20%0A%20%20%20%20%20%20%20%20var%20popup_6c23444b2d05429ebe43e7b04b53221d%20%3D%20L.popup%28%7B%22maxWidth%22%3A%20%22100%25%22%7D%29%3B%0A%0A%20%20%20%20%20%20%20%20%0A%20%20%20%20%20%20%20%20%20%20%20%20var%20html_a5e15bd9b302411bae235e6ef5077c3c%20%3D%20%24%28%60%3Cdiv%20id%3D%22html_a5e15bd9b302411bae235e6ef5077c3c%22%20style%3D%22width%3A%20100.0%25%3B%20height%3A%20100.0%25%3B%22%3E201.0%3C/div%3E%60%29%5B0%5D%3B%0A%20%20%20%20%20%20%20%20%20%20%20%20popup_6c23444b2d05429ebe43e7b04b53221d.setContent%28html_a5e15bd9b302411bae235e6ef5077c3c%29%3B%0A%20%20%20%20%20%20%20%20%0A%0A%20%20%20%20%20%20%20%20marker_ce9dd4e069de43959bfe1f910694e496.bindPopup%28popup_6c23444b2d05429ebe43e7b04b53221d%29%0A%20%20%20%20%20%20%20%20%3B%0A%0A%20%20%20%20%20%20%20%20%0A%20%20%20%20%0A%20%20%20%20%0A%20%20%20%20%20%20%20%20%20%20%20%20var%20marker_cf7791afdbc2497b92f02a87523f319c%20%3D%20L.marker%28%0A%20%20%20%20%20%20%20%20%20%20%20%20%20%20%20%20%5B45.203%2C%20-117.175%5D%2C%0A%20%20%20%20%20%20%20%20%20%20%20%20%20%20%20%20%7B%7D%0A%20%20%20%20%20%20%20%20%20%20%20%20%29.addTo%28map_91f67631f7674770aa3e67476c2f4138%29%3B%0A%20%20%20%20%20%20%20%20%0A%20%20%20%20%0A%20%20%20%20%20%20%20%20var%20popup_64544b8239924fb0b08a8c1e3600b4e9%20%3D%20L.popup%28%7B%22maxWidth%22%3A%20%22100%25%22%7D%29%3B%0A%0A%20%20%20%20%20%20%20%20%0A%20%20%20%20%20%20%20%20%20%20%20%20var%20html_4327849c53684d79a6608dcf1f0a271b%20%3D%20%24%28%60%3Cdiv%20id%3D%22html_4327849c53684d79a6608dcf1f0a271b%22%20style%3D%22width%3A%20100.0%25%3B%20height%3A%20100.0%25%3B%22%3E9.48%3C/div%3E%60%29%5B0%5D%3B%0A%20%20%20%20%20%20%20%20%20%20%20%20popup_64544b8239924fb0b08a8c1e3600b4e9.setContent%28html_4327849c53684d79a6608dcf1f0a271b%29%3B%0A%20%20%20%20%20%20%20%20%0A%0A%20%20%20%20%20%20%20%20marker_cf7791afdbc2497b92f02a87523f319c.bindPopup%28popup_64544b8239924fb0b08a8c1e3600b4e9%29%0A%20%20%20%20%20%20%20%20%3B%0A%0A%20%20%20%20%20%20%20%20%0A%20%20%20%20%0A%20%20%20%20%0A%20%20%20%20%20%20%20%20%20%20%20%20var%20marker_3cad70f027de4a37921ff26ab849fb6d%20%3D%20L.marker%28%0A%20%20%20%20%20%20%20%20%20%20%20%20%20%20%20%20%5B45.3046%2C%20-117.3452%5D%2C%0A%20%20%20%20%20%20%20%20%20%20%20%20%20%20%20%20%7B%7D%0A%20%20%20%20%20%20%20%20%20%20%20%20%29.addTo%28map_91f67631f7674770aa3e67476c2f4138%29%3B%0A%20%20%20%20%20%20%20%20%0A%20%20%20%20%0A%20%20%20%20%20%20%20%20var%20popup_a7cfd894d546470fb32b6cfd596a324b%20%3D%20L.popup%28%7B%22maxWidth%22%3A%20%22100%25%22%7D%29%3B%0A%0A%20%20%20%20%20%20%20%20%0A%20%20%20%20%20%20%20%20%20%20%20%20var%20html_f02cb85b88084b8c83166eb02de8007e%20%3D%20%24%28%60%3Cdiv%20id%3D%22html_f02cb85b88084b8c83166eb02de8007e%22%20style%3D%22width%3A%20100.0%25%3B%20height%3A%20100.0%25%3B%22%3E7.79%3C/div%3E%60%29%5B0%5D%3B%0A%20%20%20%20%20%20%20%20%20%20%20%20popup_a7cfd894d546470fb32b6cfd596a324b.setContent%28html_f02cb85b88084b8c83166eb02de8007e%29%3B%0A%20%20%20%20%20%20%20%20%0A%0A%20%20%20%20%20%20%20%20marker_3cad70f027de4a37921ff26ab849fb6d.bindPopup%28popup_a7cfd894d546470fb32b6cfd596a324b%29%0A%20%20%20%20%20%20%20%20%3B%0A%0A%20%20%20%20%20%20%20%20%0A%20%20%20%20%0A%20%20%20%20%0A%20%20%20%20%20%20%20%20%20%20%20%20var%20marker_bc7e094c909848f6882ecd5412d686c9%20%3D%20L.marker%28%0A%20%20%20%20%20%20%20%20%20%20%20%20%20%20%20%20%5B45.0644%2C%20-117.246%5D%2C%0A%20%20%20%20%20%20%20%20%20%20%20%20%20%20%20%20%7B%7D%0A%20%20%20%20%20%20%20%20%20%20%20%20%29.addTo%28map_91f67631f7674770aa3e67476c2f4138%29%3B%0A%20%20%20%20%20%20%20%20%0A%20%20%20%20%0A%20%20%20%20%20%20%20%20var%20popup_4e01b414b201454aa703f8dbcf7efbd1%20%3D%20L.popup%28%7B%22maxWidth%22%3A%20%22100%25%22%7D%29%3B%0A%0A%20%20%20%20%20%20%20%20%0A%20%20%20%20%20%20%20%20%20%20%20%20var%20html_0c3d4eac9179484d995cdf3bdd346dd3%20%3D%20%24%28%60%3Cdiv%20id%3D%22html_0c3d4eac9179484d995cdf3bdd346dd3%22%20style%3D%22width%3A%20100.0%25%3B%20height%3A%20100.0%25%3B%22%3E11.84%3C/div%3E%60%29%5B0%5D%3B%0A%20%20%20%20%20%20%20%20%20%20%20%20popup_4e01b414b201454aa703f8dbcf7efbd1.setContent%28html_0c3d4eac9179484d995cdf3bdd346dd3%29%3B%0A%20%20%20%20%20%20%20%20%0A%0A%20%20%20%20%20%20%20%20marker_bc7e094c909848f6882ecd5412d686c9.bindPopup%28popup_4e01b414b201454aa703f8dbcf7efbd1%29%0A%20%20%20%20%20%20%20%20%3B%0A%0A%20%20%20%20%20%20%20%20%0A%20%20%20%20%0A%20%20%20%20%0A%20%20%20%20%20%20%20%20%20%20%20%20var%20marker_a4bd4ab176664f04acf09761b45850aa%20%3D%20L.marker%28%0A%20%20%20%20%20%20%20%20%20%20%20%20%20%20%20%20%5B42.4445%2C%20-122.3156%5D%2C%0A%20%20%20%20%20%20%20%20%20%20%20%20%20%20%20%20%7B%7D%0A%20%20%20%20%20%20%20%20%20%20%20%20%29.addTo%28map_91f67631f7674770aa3e67476c2f4138%29%3B%0A%20%20%20%20%20%20%20%20%0A%20%20%20%20%0A%20%20%20%20%20%20%20%20var%20popup_0bf77f3d72df4338a8f3806aa6a91709%20%3D%20L.popup%28%7B%22maxWidth%22%3A%20%22100%25%22%7D%29%3B%0A%0A%20%20%20%20%20%20%20%20%0A%20%20%20%20%20%20%20%20%20%20%20%20var%20html_99f1861ba42845d6a022586daabe009f%20%3D%20%24%28%60%3Cdiv%20id%3D%22html_99f1861ba42845d6a022586daabe009f%22%20style%3D%22width%3A%20100.0%25%3B%20height%3A%20100.0%25%3B%22%3E111.8%3C/div%3E%60%29%5B0%5D%3B%0A%20%20%20%20%20%20%20%20%20%20%20%20popup_0bf77f3d72df4338a8f3806aa6a91709.setContent%28html_99f1861ba42845d6a022586daabe009f%29%3B%0A%20%20%20%20%20%20%20%20%0A%0A%20%20%20%20%20%20%20%20marker_a4bd4ab176664f04acf09761b45850aa.bindPopup%28popup_0bf77f3d72df4338a8f3806aa6a91709%29%0A%20%20%20%20%20%20%20%20%3B%0A%0A%20%20%20%20%20%20%20%20%0A%20%20%20%20%0A%20%20%20%20%0A%20%20%20%20%20%20%20%20%20%20%20%20var%20marker_d1a8b9baf2e14b66ba9d968372805a58%20%3D%20L.marker%28%0A%20%20%20%20%20%20%20%20%20%20%20%20%20%20%20%20%5B45.2223%2C%20-117.3968%5D%2C%0A%20%20%20%20%20%20%20%20%20%20%20%20%20%20%20%20%7B%7D%0A%20%20%20%20%20%20%20%20%20%20%20%20%29.addTo%28map_91f67631f7674770aa3e67476c2f4138%29%3B%0A%20%20%20%20%20%20%20%20%0A%20%20%20%20%0A%20%20%20%20%20%20%20%20var%20popup_4ab75e44e3f042e9ac0e5d765b06e7d4%20%3D%20L.popup%28%7B%22maxWidth%22%3A%20%22100%25%22%7D%29%3B%0A%0A%20%20%20%20%20%20%20%20%0A%20%20%20%20%20%20%20%20%20%20%20%20var%20html_dc3bc7cf8d964c5c870c995f8a1d5a3c%20%3D%20%24%28%60%3Cdiv%20id%3D%22html_dc3bc7cf8d964c5c870c995f8a1d5a3c%22%20style%3D%22width%3A%20100.0%25%3B%20height%3A%20100.0%25%3B%22%3E5.32%3C/div%3E%60%29%5B0%5D%3B%0A%20%20%20%20%20%20%20%20%20%20%20%20popup_4ab75e44e3f042e9ac0e5d765b06e7d4.setContent%28html_dc3bc7cf8d964c5c870c995f8a1d5a3c%29%3B%0A%20%20%20%20%20%20%20%20%0A%0A%20%20%20%20%20%20%20%20marker_d1a8b9baf2e14b66ba9d968372805a58.bindPopup%28popup_4ab75e44e3f042e9ac0e5d765b06e7d4%29%0A%20%20%20%20%20%20%20%20%3B%0A%0A%20%20%20%20%20%20%20%20%0A%20%20%20%20%0A%20%20%20%20%0A%20%20%20%20%20%20%20%20%20%20%20%20var%20marker_c015d86d23fc4efc8db671f8defdaecb%20%3D%20L.marker%28%0A%20%20%20%20%20%20%20%20%20%20%20%20%20%20%20%20%5B43.1528%2C%20-122.0665%5D%2C%0A%20%20%20%20%20%20%20%20%20%20%20%20%20%20%20%20%7B%7D%0A%20%20%20%20%20%20%20%20%20%20%20%20%29.addTo%28map_91f67631f7674770aa3e67476c2f4138%29%3B%0A%20%20%20%20%20%20%20%20%0A%20%20%20%20%0A%20%20%20%20%20%20%20%20var%20popup_d7fc13f2bf114130bad0d1e378fd07a6%20%3D%20L.popup%28%7B%22maxWidth%22%3A%20%22100%25%22%7D%29%3B%0A%0A%20%20%20%20%20%20%20%20%0A%20%20%20%20%20%20%20%20%20%20%20%20var%20html_2201314fce894d3797a02f1a93a12786%20%3D%20%24%28%60%3Cdiv%20id%3D%22html_2201314fce894d3797a02f1a93a12786%22%20style%3D%22width%3A%20100.0%25%3B%20height%3A%20100.0%25%3B%22%3E81.1%3C/div%3E%60%29%5B0%5D%3B%0A%20%20%20%20%20%20%20%20%20%20%20%20popup_d7fc13f2bf114130bad0d1e378fd07a6.setContent%28html_2201314fce894d3797a02f1a93a12786%29%3B%0A%20%20%20%20%20%20%20%20%0A%0A%20%20%20%20%20%20%20%20marker_c015d86d23fc4efc8db671f8defdaecb.bindPopup%28popup_d7fc13f2bf114130bad0d1e378fd07a6%29%0A%20%20%20%20%20%20%20%20%3B%0A%0A%20%20%20%20%20%20%20%20%0A%20%20%20%20%0A%20%20%20%20%0A%20%20%20%20%20%20%20%20%20%20%20%20var%20marker_05f3a72e33a246199a49784ec7ac161d%20%3D%20L.marker%28%0A%20%20%20%20%20%20%20%20%20%20%20%20%20%20%20%20%5B44.083%2C%20-121.6994%5D%2C%0A%20%20%20%20%20%20%20%20%20%20%20%20%20%20%20%20%7B%7D%0A%20%20%20%20%20%20%20%20%20%20%20%20%29.addTo%28map_91f67631f7674770aa3e67476c2f4138%29%3B%0A%20%20%20%20%20%20%20%20%0A%20%20%20%20%0A%20%20%20%20%20%20%20%20var%20popup_5925576a3b434b64935490787ac596b9%20%3D%20L.popup%28%7B%22maxWidth%22%3A%20%22100%25%22%7D%29%3B%0A%0A%20%20%20%20%20%20%20%20%0A%20%20%20%20%20%20%20%20%20%20%20%20var%20html_b74415d0dc1941b5b8fa5ac0934c55bc%20%3D%20%24%28%60%3Cdiv%20id%3D%22html_b74415d0dc1941b5b8fa5ac0934c55bc%22%20style%3D%22width%3A%20100.0%25%3B%20height%3A%20100.0%25%3B%22%3E5.52%3C/div%3E%60%29%5B0%5D%3B%0A%20%20%20%20%20%20%20%20%20%20%20%20popup_5925576a3b434b64935490787ac596b9.setContent%28html_b74415d0dc1941b5b8fa5ac0934c55bc%29%3B%0A%20%20%20%20%20%20%20%20%0A%0A%20%20%20%20%20%20%20%20marker_05f3a72e33a246199a49784ec7ac161d.bindPopup%28popup_5925576a3b434b64935490787ac596b9%29%0A%20%20%20%20%20%20%20%20%3B%0A%0A%20%20%20%20%20%20%20%20%0A%20%20%20%20%0A%20%20%20%20%0A%20%20%20%20%20%20%20%20%20%20%20%20var%20marker_fb2425bb1e80439381611ae330ee4973%20%3D%20L.marker%28%0A%20%20%20%20%20%20%20%20%20%20%20%20%20%20%20%20%5B44.8168%2C%20-118.1039%5D%2C%0A%20%20%20%20%20%20%20%20%20%20%20%20%20%20%20%20%7B%7D%0A%20%20%20%20%20%20%20%20%20%20%20%20%29.addTo%28map_91f67631f7674770aa3e67476c2f4138%29%3B%0A%20%20%20%20%20%20%20%20%0A%20%20%20%20%0A%20%20%20%20%20%20%20%20var%20popup_783934afdf5e4127bd2ca699cbdc3f75%20%3D%20L.popup%28%7B%22maxWidth%22%3A%20%22100%25%22%7D%29%3B%0A%0A%20%20%20%20%20%20%20%20%0A%20%20%20%20%20%20%20%20%20%20%20%20var%20html_56fb3b90eeee4395be4f40330fa13476%20%3D%20%24%28%60%3Cdiv%20id%3D%22html_56fb3b90eeee4395be4f40330fa13476%22%20style%3D%22width%3A%20100.0%25%3B%20height%3A%20100.0%25%3B%22%3E69.9%3C/div%3E%60%29%5B0%5D%3B%0A%20%20%20%20%20%20%20%20%20%20%20%20popup_783934afdf5e4127bd2ca699cbdc3f75.setContent%28html_56fb3b90eeee4395be4f40330fa13476%29%3B%0A%20%20%20%20%20%20%20%20%0A%0A%20%20%20%20%20%20%20%20marker_fb2425bb1e80439381611ae330ee4973.bindPopup%28popup_783934afdf5e4127bd2ca699cbdc3f75%29%0A%20%20%20%20%20%20%20%20%3B%0A%0A%20%20%20%20%20%20%20%20%0A%20%20%20%20%0A%20%20%20%20%0A%20%20%20%20%20%20%20%20%20%20%20%20var%20marker_521543bda6844d719a739b2915e2cd26%20%3D%20L.marker%28%0A%20%20%20%20%20%20%20%20%20%20%20%20%20%20%20%20%5B43.9794%2C%20-121.6885%5D%2C%0A%20%20%20%20%20%20%20%20%20%20%20%20%20%20%20%20%7B%7D%0A%20%20%20%20%20%20%20%20%20%20%20%20%29.addTo%28map_91f67631f7674770aa3e67476c2f4138%29%3B%0A%20%20%20%20%20%20%20%20%0A%20%20%20%20%0A%20%20%20%20%20%20%20%20var%20popup_93dce4dfb87749359a8b5dcf6c1a3c79%20%3D%20L.popup%28%7B%22maxWidth%22%3A%20%22100%25%22%7D%29%3B%0A%0A%20%20%20%20%20%20%20%20%0A%20%20%20%20%20%20%20%20%20%20%20%20var%20html_f5650d8ba18848e6b511fc71bf8f70bb%20%3D%20%24%28%60%3Cdiv%20id%3D%22html_f5650d8ba18848e6b511fc71bf8f70bb%22%20style%3D%22width%3A%20100.0%25%3B%20height%3A%20100.0%25%3B%22%3E11.02%3C/div%3E%60%29%5B0%5D%3B%0A%20%20%20%20%20%20%20%20%20%20%20%20popup_93dce4dfb87749359a8b5dcf6c1a3c79.setContent%28html_f5650d8ba18848e6b511fc71bf8f70bb%29%3B%0A%20%20%20%20%20%20%20%20%0A%0A%20%20%20%20%20%20%20%20marker_521543bda6844d719a739b2915e2cd26.bindPopup%28popup_93dce4dfb87749359a8b5dcf6c1a3c79%29%0A%20%20%20%20%20%20%20%20%3B%0A%0A%20%20%20%20%20%20%20%20%0A%20%20%20%20%0A%20%20%20%20%0A%20%20%20%20%20%20%20%20%20%20%20%20var%20marker_ad075fafd2ae431d9bc8173986e1bd7f%20%3D%20L.marker%28%0A%20%20%20%20%20%20%20%20%20%20%20%20%20%20%20%20%5B44.3123%2C%20-118.7166%5D%2C%0A%20%20%20%20%20%20%20%20%20%20%20%20%20%20%20%20%7B%7D%0A%20%20%20%20%20%20%20%20%20%20%20%20%29.addTo%28map_91f67631f7674770aa3e67476c2f4138%29%3B%0A%20%20%20%20%20%20%20%20%0A%20%20%20%20%0A%20%20%20%20%20%20%20%20var%20popup_89c627c4403a4d3d8bbc4de179c4e2d5%20%3D%20L.popup%28%7B%22maxWidth%22%3A%20%22100%25%22%7D%29%3B%0A%0A%20%20%20%20%20%20%20%20%0A%20%20%20%20%20%20%20%20%20%20%20%20var%20html_9d097f3d385c454d9fcbb5d598705472%20%3D%20%24%28%60%3Cdiv%20id%3D%22html_9d097f3d385c454d9fcbb5d598705472%22%20style%3D%22width%3A%20100.0%25%3B%20height%3A%20100.0%25%3B%22%3E74.2%3C/div%3E%60%29%5B0%5D%3B%0A%20%20%20%20%20%20%20%20%20%20%20%20popup_89c627c4403a4d3d8bbc4de179c4e2d5.setContent%28html_9d097f3d385c454d9fcbb5d598705472%29%3B%0A%20%20%20%20%20%20%20%20%0A%0A%20%20%20%20%20%20%20%20marker_ad075fafd2ae431d9bc8173986e1bd7f.bindPopup%28popup_89c627c4403a4d3d8bbc4de179c4e2d5%29%0A%20%20%20%20%20%20%20%20%3B%0A%0A%20%20%20%20%20%20%20%20%0A%20%20%20%20%0A%20%20%20%20%0A%20%20%20%20%20%20%20%20%20%20%20%20var%20marker_505e1afed9ec4c5fb38f156e911a0e86%20%3D%20L.marker%28%0A%20%20%20%20%20%20%20%20%20%20%20%20%20%20%20%20%5B42.9229%2C%20-122.0162%5D%2C%0A%20%20%20%20%20%20%20%20%20%20%20%20%20%20%20%20%7B%7D%0A%20%20%20%20%20%20%20%20%20%20%20%20%29.addTo%28map_91f67631f7674770aa3e67476c2f4138%29%3B%0A%20%20%20%20%20%20%20%20%0A%20%20%20%20%0A%20%20%20%20%20%20%20%20var%20popup_6435d6d142a146f0a7efe378f9e6e309%20%3D%20L.popup%28%7B%22maxWidth%22%3A%20%22100%25%22%7D%29%3B%0A%0A%20%20%20%20%20%20%20%20%0A%20%20%20%20%20%20%20%20%20%20%20%20var%20html_ecbe14e2b54c46409f81f6e3f0d773b9%20%3D%20%24%28%60%3Cdiv%20id%3D%22html_ecbe14e2b54c46409f81f6e3f0d773b9%22%20style%3D%22width%3A%20100.0%25%3B%20height%3A%20100.0%25%3B%22%3E25.9%3C/div%3E%60%29%5B0%5D%3B%0A%20%20%20%20%20%20%20%20%20%20%20%20popup_6435d6d142a146f0a7efe378f9e6e309.setContent%28html_ecbe14e2b54c46409f81f6e3f0d773b9%29%3B%0A%20%20%20%20%20%20%20%20%0A%0A%20%20%20%20%20%20%20%20marker_505e1afed9ec4c5fb38f156e911a0e86.bindPopup%28popup_6435d6d142a146f0a7efe378f9e6e309%29%0A%20%20%20%20%20%20%20%20%3B%0A%0A%20%20%20%20%20%20%20%20%0A%20%20%20%20%0A%20%20%20%20%0A%20%20%20%20%20%20%20%20%20%20%20%20var%20marker_136261819d1f4a9088d533c85b7d692b%20%3D%20L.marker%28%0A%20%20%20%20%20%20%20%20%20%20%20%20%20%20%20%20%5B43.5207%2C%20-122.1496%5D%2C%0A%20%20%20%20%20%20%20%20%20%20%20%20%20%20%20%20%7B%7D%0A%20%20%20%20%20%20%20%20%20%20%20%20%29.addTo%28map_91f67631f7674770aa3e67476c2f4138%29%3B%0A%20%20%20%20%20%20%20%20%0A%20%20%20%20%0A%20%20%20%20%20%20%20%20var%20popup_ff1b258671e844299a748868f203c722%20%3D%20L.popup%28%7B%22maxWidth%22%3A%20%22100%25%22%7D%29%3B%0A%0A%20%20%20%20%20%20%20%20%0A%20%20%20%20%20%20%20%20%20%20%20%20var%20html_4e3c4adfd2d14791b4ad5387e23aaed6%20%3D%20%24%28%60%3Cdiv%20id%3D%22html_4e3c4adfd2d14791b4ad5387e23aaed6%22%20style%3D%22width%3A%20100.0%25%3B%20height%3A%20100.0%25%3B%22%3E41.4%3C/div%3E%60%29%5B0%5D%3B%0A%20%20%20%20%20%20%20%20%20%20%20%20popup_ff1b258671e844299a748868f203c722.setContent%28html_4e3c4adfd2d14791b4ad5387e23aaed6%29%3B%0A%20%20%20%20%20%20%20%20%0A%0A%20%20%20%20%20%20%20%20marker_136261819d1f4a9088d533c85b7d692b.bindPopup%28popup_ff1b258671e844299a748868f203c722%29%0A%20%20%20%20%20%20%20%20%3B%0A%0A%20%20%20%20%20%20%20%20%0A%20%20%20%20%0A%20%20%20%20%0A%20%20%20%20%20%20%20%20%20%20%20%20var%20marker_3764d9bdaa824802ab33a74928546c07%20%3D%20L.marker%28%0A%20%20%20%20%20%20%20%20%20%20%20%20%20%20%20%20%5B42.0995%2C%20-118.6506%5D%2C%0A%20%20%20%20%20%20%20%20%20%20%20%20%20%20%20%20%7B%7D%0A%20%20%20%20%20%20%20%20%20%20%20%20%29.addTo%28map_91f67631f7674770aa3e67476c2f4138%29%3B%0A%20%20%20%20%20%20%20%20%0A%20%20%20%20%0A%20%20%20%20%20%20%20%20var%20popup_c5f3f3a35f09471fbe8caa9fee6bbd5e%20%3D%20L.popup%28%7B%22maxWidth%22%3A%20%22100%25%22%7D%29%3B%0A%0A%20%20%20%20%20%20%20%20%0A%20%20%20%20%20%20%20%20%20%20%20%20var%20html_4f61d28b57cd405ab650325b1b08a040%20%3D%20%24%28%60%3Cdiv%20id%3D%22html_4f61d28b57cd405ab650325b1b08a040%22%20style%3D%22width%3A%20100.0%25%3B%20height%3A%20100.0%25%3B%22%3E45.5%3C/div%3E%60%29%5B0%5D%3B%0A%20%20%20%20%20%20%20%20%20%20%20%20popup_c5f3f3a35f09471fbe8caa9fee6bbd5e.setContent%28html_4f61d28b57cd405ab650325b1b08a040%29%3B%0A%20%20%20%20%20%20%20%20%0A%0A%20%20%20%20%20%20%20%20marker_3764d9bdaa824802ab33a74928546c07.bindPopup%28popup_c5f3f3a35f09471fbe8caa9fee6bbd5e%29%0A%20%20%20%20%20%20%20%20%3B%0A%0A%20%20%20%20%20%20%20%20%0A%20%20%20%20%0A%20%20%20%20%0A%20%20%20%20%20%20%20%20%20%20%20%20var%20marker_55811ce894c3496f9cd747c2f45bae4a%20%3D%20L.marker%28%0A%20%20%20%20%20%20%20%20%20%20%20%20%20%20%20%20%5B42.0628%2C%20-120.2408%5D%2C%0A%20%20%20%20%20%20%20%20%20%20%20%20%20%20%20%20%7B%7D%0A%20%20%20%20%20%20%20%20%20%20%20%20%29.addTo%28map_91f67631f7674770aa3e67476c2f4138%29%3B%0A%20%20%20%20%20%20%20%20%0A%20%20%20%20%0A%20%20%20%20%20%20%20%20var%20popup_1d70f5b3646a45d19ffe18277762161f%20%3D%20L.popup%28%7B%22maxWidth%22%3A%20%22100%25%22%7D%29%3B%0A%0A%20%20%20%20%20%20%20%20%0A%20%20%20%20%20%20%20%20%20%20%20%20var%20html_2922e77e16cc46edb120b46ea0ad140c%20%3D%20%24%28%60%3Cdiv%20id%3D%22html_2922e77e16cc46edb120b46ea0ad140c%22%20style%3D%22width%3A%20100.0%25%3B%20height%3A%20100.0%25%3B%22%3E71.4%3C/div%3E%60%29%5B0%5D%3B%0A%20%20%20%20%20%20%20%20%20%20%20%20popup_1d70f5b3646a45d19ffe18277762161f.setContent%28html_2922e77e16cc46edb120b46ea0ad140c%29%3B%0A%20%20%20%20%20%20%20%20%0A%0A%20%20%20%20%20%20%20%20marker_55811ce894c3496f9cd747c2f45bae4a.bindPopup%28popup_1d70f5b3646a45d19ffe18277762161f%29%0A%20%20%20%20%20%20%20%20%3B%0A%0A%20%20%20%20%20%20%20%20%0A%20%20%20%20%0A%20%20%20%20%0A%20%20%20%20%20%20%20%20%20%20%20%20var%20marker_93d814ba24df4ccb9aa814d97b5e20a4%20%3D%20L.marker%28%0A%20%20%20%20%20%20%20%20%20%20%20%20%20%20%20%20%5B42.3001%2C%20-120.1238%5D%2C%0A%20%20%20%20%20%20%20%20%20%20%20%20%20%20%20%20%7B%7D%0A%20%20%20%20%20%20%20%20%20%20%20%20%29.addTo%28map_91f67631f7674770aa3e67476c2f4138%29%3B%0A%20%20%20%20%20%20%20%20%0A%20%20%20%20%0A%20%20%20%20%20%20%20%20var%20popup_9c771af629dd4d078841618086a671d0%20%3D%20L.popup%28%7B%22maxWidth%22%3A%20%22100%25%22%7D%29%3B%0A%0A%20%20%20%20%20%20%20%20%0A%20%20%20%20%20%20%20%20%20%20%20%20var%20html_2187a9ad79114edf9630de244f761b9e%20%3D%20%24%28%60%3Cdiv%20id%3D%22html_2187a9ad79114edf9630de244f761b9e%22%20style%3D%22width%3A%20100.0%25%3B%20height%3A%20100.0%25%3B%22%3E28.1%3C/div%3E%60%29%5B0%5D%3B%0A%20%20%20%20%20%20%20%20%20%20%20%20popup_9c771af629dd4d078841618086a671d0.setContent%28html_2187a9ad79114edf9630de244f761b9e%29%3B%0A%20%20%20%20%20%20%20%20%0A%0A%20%20%20%20%20%20%20%20marker_93d814ba24df4ccb9aa814d97b5e20a4.bindPopup%28popup_9c771af629dd4d078841618086a671d0%29%0A%20%20%20%20%20%20%20%20%3B%0A%0A%20%20%20%20%20%20%20%20%0A%20%20%20%20%0A%20%20%20%20%0A%20%20%20%20%20%20%20%20%20%20%20%20var%20marker_634992aa691643199b4fe2ad1e19ff4e%20%3D%20L.marker%28%0A%20%20%20%20%20%20%20%20%20%20%20%20%20%20%20%20%5B43.1551%2C%20-122.22%5D%2C%0A%20%20%20%20%20%20%20%20%20%20%20%20%20%20%20%20%7B%7D%0A%20%20%20%20%20%20%20%20%20%20%20%20%29.addTo%28map_91f67631f7674770aa3e67476c2f4138%29%3B%0A%20%20%20%20%20%20%20%20%0A%20%20%20%20%0A%20%20%20%20%20%20%20%20var%20popup_f94ef71416b24fc0be9f1e7b675a8eb2%20%3D%20L.popup%28%7B%22maxWidth%22%3A%20%22100%25%22%7D%29%3B%0A%0A%20%20%20%20%20%20%20%20%0A%20%20%20%20%20%20%20%20%20%20%20%20var%20html_6e75ba2ade684f04a5bc79f9ffab4562%20%3D%20%24%28%60%3Cdiv%20id%3D%22html_6e75ba2ade684f04a5bc79f9ffab4562%22%20style%3D%22width%3A%20100.0%25%3B%20height%3A%20100.0%25%3B%22%3E12.49%3C/div%3E%60%29%5B0%5D%3B%0A%20%20%20%20%20%20%20%20%20%20%20%20popup_f94ef71416b24fc0be9f1e7b675a8eb2.setContent%28html_6e75ba2ade684f04a5bc79f9ffab4562%29%3B%0A%20%20%20%20%20%20%20%20%0A%0A%20%20%20%20%20%20%20%20marker_634992aa691643199b4fe2ad1e19ff4e.bindPopup%28popup_f94ef71416b24fc0be9f1e7b675a8eb2%29%0A%20%20%20%20%20%20%20%20%3B%0A%0A%20%20%20%20%20%20%20%20%0A%20%20%20%20%0A%20%20%20%20%0A%20%20%20%20%20%20%20%20%20%20%20%20var%20marker_9a03b2b9069848b6a2400813e2a662fe%20%3D%20L.marker%28%0A%20%20%20%20%20%20%20%20%20%20%20%20%20%20%20%20%5B42.496%2C%20-120.8773%5D%2C%0A%20%20%20%20%20%20%20%20%20%20%20%20%20%20%20%20%7B%7D%0A%20%20%20%20%20%20%20%20%20%20%20%20%29.addTo%28map_91f67631f7674770aa3e67476c2f4138%29%3B%0A%20%20%20%20%20%20%20%20%0A%20%20%20%20%0A%20%20%20%20%20%20%20%20var%20popup_95bd8dd7234e467b98b4bd311c78fd3a%20%3D%20L.popup%28%7B%22maxWidth%22%3A%20%22100%25%22%7D%29%3B%0A%0A%20%20%20%20%20%20%20%20%0A%20%20%20%20%20%20%20%20%20%20%20%20var%20html_e0fc89e005a543459b4e9224357fac71%20%3D%20%24%28%60%3Cdiv%20id%3D%22html_e0fc89e005a543459b4e9224357fac71%22%20style%3D%22width%3A%20100.0%25%3B%20height%3A%20100.0%25%3B%22%3E65.7%3C/div%3E%60%29%5B0%5D%3B%0A%20%20%20%20%20%20%20%20%20%20%20%20popup_95bd8dd7234e467b98b4bd311c78fd3a.setContent%28html_e0fc89e005a543459b4e9224357fac71%29%3B%0A%20%20%20%20%20%20%20%20%0A%0A%20%20%20%20%20%20%20%20marker_9a03b2b9069848b6a2400813e2a662fe.bindPopup%28popup_95bd8dd7234e467b98b4bd311c78fd3a%29%0A%20%20%20%20%20%20%20%20%3B%0A%0A%20%20%20%20%20%20%20%20%0A%20%20%20%20%0A%20%20%20%20%0A%20%20%20%20%20%20%20%20%20%20%20%20var%20marker_28e420bab9394efdbd96dc539385b015%20%3D%20L.marker%28%0A%20%20%20%20%20%20%20%20%20%20%20%20%20%20%20%20%5B42.3155%2C%20-122.0876%5D%2C%0A%20%20%20%20%20%20%20%20%20%20%20%20%20%20%20%20%7B%7D%0A%20%20%20%20%20%20%20%20%20%20%20%20%29.addTo%28map_91f67631f7674770aa3e67476c2f4138%29%3B%0A%20%20%20%20%20%20%20%20%0A%20%20%20%20%0A%20%20%20%20%20%20%20%20var%20popup_297d41d544ee405b8c8fe833285b3a25%20%3D%20L.popup%28%7B%22maxWidth%22%3A%20%22100%25%22%7D%29%3B%0A%0A%20%20%20%20%20%20%20%20%0A%20%20%20%20%20%20%20%20%20%20%20%20var%20html_af2793050b47495486a298c8704ad9d5%20%3D%20%24%28%60%3Cdiv%20id%3D%22html_af2793050b47495486a298c8704ad9d5%22%20style%3D%22width%3A%20100.0%25%3B%20height%3A%20100.0%25%3B%22%3E23.7%3C/div%3E%60%29%5B0%5D%3B%0A%20%20%20%20%20%20%20%20%20%20%20%20popup_297d41d544ee405b8c8fe833285b3a25.setContent%28html_af2793050b47495486a298c8704ad9d5%29%3B%0A%20%20%20%20%20%20%20%20%0A%0A%20%20%20%20%20%20%20%20marker_28e420bab9394efdbd96dc539385b015.bindPopup%28popup_297d41d544ee405b8c8fe833285b3a25%29%0A%20%20%20%20%20%20%20%20%3B%0A%0A%20%20%20%20%20%20%20%20%0A%20%20%20%20%0A%20%20%20%20%0A%20%20%20%20%20%20%20%20%20%20%20%20var%20marker_5402ab066b394502a625296b9f6cdd0a%20%3D%20L.marker%28%0A%20%20%20%20%20%20%20%20%20%20%20%20%20%20%20%20%5B42.9306%2C%20-121.3607%5D%2C%0A%20%20%20%20%20%20%20%20%20%20%20%20%20%20%20%20%7B%7D%0A%20%20%20%20%20%20%20%20%20%20%20%20%29.addTo%28map_91f67631f7674770aa3e67476c2f4138%29%3B%0A%20%20%20%20%20%20%20%20%0A%20%20%20%20%0A%20%20%20%20%20%20%20%20var%20popup_5cecb75deb1f423c91ca7122a748e501%20%3D%20L.popup%28%7B%22maxWidth%22%3A%20%22100%25%22%7D%29%3B%0A%0A%20%20%20%20%20%20%20%20%0A%20%20%20%20%20%20%20%20%20%20%20%20var%20html_8049b82e9bf94398923ef196eed35260%20%3D%20%24%28%60%3Cdiv%20id%3D%22html_8049b82e9bf94398923ef196eed35260%22%20style%3D%22width%3A%20100.0%25%3B%20height%3A%20100.0%25%3B%22%3E53.1%3C/div%3E%60%29%5B0%5D%3B%0A%20%20%20%20%20%20%20%20%20%20%20%20popup_5cecb75deb1f423c91ca7122a748e501.setContent%28html_8049b82e9bf94398923ef196eed35260%29%3B%0A%20%20%20%20%20%20%20%20%0A%0A%20%20%20%20%20%20%20%20marker_5402ab066b394502a625296b9f6cdd0a.bindPopup%28popup_5cecb75deb1f423c91ca7122a748e501%29%0A%20%20%20%20%20%20%20%20%3B%0A%0A%20%20%20%20%20%20%20%20%0A%20%20%20%20%0A%20%20%20%20%0A%20%20%20%20%20%20%20%20%20%20%20%20var%20marker_a525e9fbc55b4e58807245844d4c5e99%20%3D%20L.marker%28%0A%20%20%20%20%20%20%20%20%20%20%20%20%20%20%20%20%5B44.7138%2C%20-118.5617%5D%2C%0A%20%20%20%20%20%20%20%20%20%20%20%20%20%20%20%20%7B%7D%0A%20%20%20%20%20%20%20%20%20%20%20%20%29.addTo%28map_91f67631f7674770aa3e67476c2f4138%29%3B%0A%20%20%20%20%20%20%20%20%0A%20%20%20%20%0A%20%20%20%20%20%20%20%20var%20popup_c79f19f07b774e0fadfe373fee88febc%20%3D%20L.popup%28%7B%22maxWidth%22%3A%20%22100%25%22%7D%29%3B%0A%0A%20%20%20%20%20%20%20%20%0A%20%20%20%20%20%20%20%20%20%20%20%20var%20html_2c71bcfaaf7f4a438ecc6066835b816f%20%3D%20%24%28%60%3Cdiv%20id%3D%22html_2c71bcfaaf7f4a438ecc6066835b816f%22%20style%3D%22width%3A%20100.0%25%3B%20height%3A%20100.0%25%3B%22%3E23.5%3C/div%3E%60%29%5B0%5D%3B%0A%20%20%20%20%20%20%20%20%20%20%20%20popup_c79f19f07b774e0fadfe373fee88febc.setContent%28html_2c71bcfaaf7f4a438ecc6066835b816f%29%3B%0A%20%20%20%20%20%20%20%20%0A%0A%20%20%20%20%20%20%20%20marker_a525e9fbc55b4e58807245844d4c5e99.bindPopup%28popup_c79f19f07b774e0fadfe373fee88febc%29%0A%20%20%20%20%20%20%20%20%3B%0A%0A%20%20%20%20%20%20%20%20%0A%20%20%20%20%0A%20%20%20%20%0A%20%20%20%20%20%20%20%20%20%20%20%20var%20marker_610285297f3c445d869a588891ce565a%20%3D%20L.marker%28%0A%20%20%20%20%20%20%20%20%20%20%20%20%20%20%20%20%5B42.5134%2C%20-122.1453%5D%2C%0A%20%20%20%20%20%20%20%20%20%20%20%20%20%20%20%20%7B%7D%0A%20%20%20%20%20%20%20%20%20%20%20%20%29.addTo%28map_91f67631f7674770aa3e67476c2f4138%29%3B%0A%20%20%20%20%20%20%20%20%0A%20%20%20%20%0A%20%20%20%20%20%20%20%20var%20popup_1871faf09b6c40aa978829778e52f27d%20%3D%20L.popup%28%7B%22maxWidth%22%3A%20%22100%25%22%7D%29%3B%0A%0A%20%20%20%20%20%20%20%20%0A%20%20%20%20%20%20%20%20%20%20%20%20var%20html_f6b957c058fd41f797912b02456f5684%20%3D%20%24%28%60%3Cdiv%20id%3D%22html_f6b957c058fd41f797912b02456f5684%22%20style%3D%22width%3A%20100.0%25%3B%20height%3A%20100.0%25%3B%22%3E15.98%3C/div%3E%60%29%5B0%5D%3B%0A%20%20%20%20%20%20%20%20%20%20%20%20popup_1871faf09b6c40aa978829778e52f27d.setContent%28html_f6b957c058fd41f797912b02456f5684%29%3B%0A%20%20%20%20%20%20%20%20%0A%0A%20%20%20%20%20%20%20%20marker_610285297f3c445d869a588891ce565a.bindPopup%28popup_1871faf09b6c40aa978829778e52f27d%29%0A%20%20%20%20%20%20%20%20%3B%0A%0A%20%20%20%20%20%20%20%20%0A%20%20%20%20%0A%20%20%20%20%0A%20%20%20%20%20%20%20%20%20%20%20%20var%20marker_06961b37f9e44e6a87eeb853b91f5b4c%20%3D%20L.marker%28%0A%20%20%20%20%20%20%20%20%20%20%20%20%20%20%20%20%5B44.2889%2C%20-118.4954%5D%2C%0A%20%20%20%20%20%20%20%20%20%20%20%20%20%20%20%20%7B%7D%0A%20%20%20%20%20%20%20%20%20%20%20%20%29.addTo%28map_91f67631f7674770aa3e67476c2f4138%29%3B%0A%20%20%20%20%20%20%20%20%0A%20%20%20%20%0A%20%20%20%20%20%20%20%20var%20popup_0fc8bd9ab69d43a3a3d9bc2584d7c3c5%20%3D%20L.popup%28%7B%22maxWidth%22%3A%20%22100%25%22%7D%29%3B%0A%0A%20%20%20%20%20%20%20%20%0A%20%20%20%20%20%20%20%20%20%20%20%20var%20html_e16553ec433844379e9cdf1fc24806e8%20%3D%20%24%28%60%3Cdiv%20id%3D%22html_e16553ec433844379e9cdf1fc24806e8%22%20style%3D%22width%3A%20100.0%25%3B%20height%3A%20100.0%25%3B%22%3E10.73%3C/div%3E%60%29%5B0%5D%3B%0A%20%20%20%20%20%20%20%20%20%20%20%20popup_0fc8bd9ab69d43a3a3d9bc2584d7c3c5.setContent%28html_e16553ec433844379e9cdf1fc24806e8%29%3B%0A%20%20%20%20%20%20%20%20%0A%0A%20%20%20%20%20%20%20%20marker_06961b37f9e44e6a87eeb853b91f5b4c.bindPopup%28popup_0fc8bd9ab69d43a3a3d9bc2584d7c3c5%29%0A%20%20%20%20%20%20%20%20%3B%0A%0A%20%20%20%20%20%20%20%20%0A%20%20%20%20%0A%20%20%20%20%0A%20%20%20%20%20%20%20%20%20%20%20%20var%20marker_7ef06e6901fa4f849a62ffc991a7346a%20%3D%20L.marker%28%0A%20%20%20%20%20%20%20%20%20%20%20%20%20%20%20%20%5B42.4597%2C%20-119.7414%5D%2C%0A%20%20%20%20%20%20%20%20%20%20%20%20%20%20%20%20%7B%7D%0A%20%20%20%20%20%20%20%20%20%20%20%20%29.addTo%28map_91f67631f7674770aa3e67476c2f4138%29%3B%0A%20%20%20%20%20%20%20%20%0A%20%20%20%20%0A%20%20%20%20%20%20%20%20var%20popup_2c962fda645c4fc5907efe1097527be1%20%3D%20L.popup%28%7B%22maxWidth%22%3A%20%22100%25%22%7D%29%3B%0A%0A%20%20%20%20%20%20%20%20%0A%20%20%20%20%20%20%20%20%20%20%20%20var%20html_d4169572d4a14c30af7d2bbfbc93a30a%20%3D%20%24%28%60%3Cdiv%20id%3D%22html_d4169572d4a14c30af7d2bbfbc93a30a%22%20style%3D%22width%3A%20100.0%25%3B%20height%3A%20100.0%25%3B%22%3E35.6%3C/div%3E%60%29%5B0%5D%3B%0A%20%20%20%20%20%20%20%20%20%20%20%20popup_2c962fda645c4fc5907efe1097527be1.setContent%28html_d4169572d4a14c30af7d2bbfbc93a30a%29%3B%0A%20%20%20%20%20%20%20%20%0A%0A%20%20%20%20%20%20%20%20marker_7ef06e6901fa4f849a62ffc991a7346a.bindPopup%28popup_2c962fda645c4fc5907efe1097527be1%29%0A%20%20%20%20%20%20%20%20%3B%0A%0A%20%20%20%20%20%20%20%20%0A%20%20%20%20%0A%20%20%20%20%0A%20%20%20%20%20%20%20%20%20%20%20%20var%20marker_1f5309e558a647e2a40b61bb3043aea5%20%3D%20L.marker%28%0A%20%20%20%20%20%20%20%20%20%20%20%20%20%20%20%20%5B43.6892%2C%20-121.2549%5D%2C%0A%20%20%20%20%20%20%20%20%20%20%20%20%20%20%20%20%7B%7D%0A%20%20%20%20%20%20%20%20%20%20%20%20%29.addTo%28map_91f67631f7674770aa3e67476c2f4138%29%3B%0A%20%20%20%20%20%20%20%20%0A%20%20%20%20%0A%20%20%20%20%20%20%20%20var%20popup_ee89b99e24e14ee0949dc7c1075ac38b%20%3D%20L.popup%28%7B%22maxWidth%22%3A%20%22100%25%22%7D%29%3B%0A%0A%20%20%20%20%20%20%20%20%0A%20%20%20%20%20%20%20%20%20%20%20%20var%20html_a0f8a90d61cc4676b690e73bdcd0e775%20%3D%20%24%28%60%3Cdiv%20id%3D%22html_a0f8a90d61cc4676b690e73bdcd0e775%22%20style%3D%22width%3A%20100.0%25%3B%20height%3A%20100.0%25%3B%22%3E46.5%3C/div%3E%60%29%5B0%5D%3B%0A%20%20%20%20%20%20%20%20%20%20%20%20popup_ee89b99e24e14ee0949dc7c1075ac38b.setContent%28html_a0f8a90d61cc4676b690e73bdcd0e775%29%3B%0A%20%20%20%20%20%20%20%20%0A%0A%20%20%20%20%20%20%20%20marker_1f5309e558a647e2a40b61bb3043aea5.bindPopup%28popup_ee89b99e24e14ee0949dc7c1075ac38b%29%0A%20%20%20%20%20%20%20%20%3B%0A%0A%20%20%20%20%20%20%20%20%0A%20%20%20%20%0A%3C/script%3E onload=\"this.contentDocument.open();this.contentDocument.write(    decodeURIComponent(this.getAttribute('data-html')));this.contentDocument.close();\" allowfullscreen webkitallowfullscreen mozallowfullscreen></iframe></div></div>"
            ],
            "text/plain": [
              "<folium.folium.Map at 0x7f75850d24d0>"
            ]
          },
          "metadata": {},
          "execution_count": 29
        }
      ]
    },
    {
      "cell_type": "markdown",
      "source": [
        "---------------\n",
        "## Question 4 (10 points)\n",
        "\n",
        "* Write a script to automatically derive the geographic coordinates for the following addresses:\n",
        "\n",
        "    * 1844 SW Morrison St, Portland, OR 97205\n",
        "    \n",
        "    * 800 Occidental Ave S, Seattle, WA 98134\n",
        "    \n",
        "    * 1001 Stadium Dr, Inglewood, CA 90301\n",
        "    \n",
        "    * 2700 Martin Luther King Jr Blvd, Eugene, OR 97401\n",
        "    \n",
        "\n",
        "You can **either** find each one individually **or** make a list of the addresses and use a for loop. \n",
        "\n",
        "\n",
        "* Plot the coordinates of these addresses on an interactive map using `folium` "
      ],
      "metadata": {
        "id": "XDPIT3rkehMk"
      }
    },
    {
      "cell_type": "code",
      "source": [
        "# Install webdriver_manager: https://github.com/SergeyPirogov/webdriver_manager\n",
        "!pip3 install webdriver_manager\n",
        "!apt install chromium-chromedriver"
      ],
      "metadata": {
        "colab": {
          "base_uri": "https://localhost:8080/",
          "height": 0
        },
        "id": "3AzFtUkuekhq",
        "outputId": "7804b9b9-c978-452d-f5d8-b689179ad6d4"
      },
      "execution_count": 5,
      "outputs": [
        {
          "output_type": "stream",
          "name": "stdout",
          "text": [
            "Collecting webdriver_manager\n",
            "  Downloading webdriver_manager-3.5.3-py2.py3-none-any.whl (18 kB)\n",
            "Requirement already satisfied: requests in /usr/local/lib/python3.7/dist-packages (from webdriver_manager) (2.27.1)\n",
            "Collecting crayons\n",
            "  Downloading crayons-0.4.0-py2.py3-none-any.whl (4.6 kB)\n",
            "Collecting configparser\n",
            "  Downloading configparser-5.2.0-py3-none-any.whl (19 kB)\n",
            "Collecting colorama\n",
            "  Downloading colorama-0.4.4-py2.py3-none-any.whl (16 kB)\n",
            "Requirement already satisfied: charset-normalizer~=2.0.0 in /usr/local/lib/python3.7/dist-packages (from requests->webdriver_manager) (2.0.12)\n",
            "Requirement already satisfied: idna<4,>=2.5 in /usr/local/lib/python3.7/dist-packages (from requests->webdriver_manager) (2.10)\n",
            "Requirement already satisfied: certifi>=2017.4.17 in /usr/local/lib/python3.7/dist-packages (from requests->webdriver_manager) (2021.10.8)\n",
            "Requirement already satisfied: urllib3<1.27,>=1.21.1 in /usr/local/lib/python3.7/dist-packages (from requests->webdriver_manager) (1.26.8)\n",
            "Installing collected packages: colorama, crayons, configparser, webdriver-manager\n",
            "Successfully installed colorama-0.4.4 configparser-5.2.0 crayons-0.4.0 webdriver-manager-3.5.3\n",
            "Reading package lists... Done\n",
            "Building dependency tree       \n",
            "Reading state information... Done\n",
            "chromium-chromedriver is already the newest version (97.0.4692.71-0ubuntu0.18.04.1).\n",
            "The following package was automatically installed and is no longer required:\n",
            "  libnvidia-common-470\n",
            "Use 'apt autoremove' to remove it.\n",
            "0 upgraded, 0 newly installed, 0 to remove and 39 not upgraded.\n"
          ]
        }
      ]
    },
    {
      "cell_type": "code",
      "source": [
        "# Import packages\n",
        "from selenium import webdriver\n",
        "from selenium.webdriver.chrome.service import Service\n",
        "from selenium.webdriver.common.by import By\n",
        "from selenium.webdriver.support.ui import WebDriverWait \n",
        "from selenium.webdriver.support import expected_conditions as EC\n",
        "from webdriver_manager.chrome import ChromeDriverManager"
      ],
      "metadata": {
        "id": "TaNcm-reeu6f"
      },
      "execution_count": 6,
      "outputs": []
    },
    {
      "cell_type": "code",
      "source": [
        "options = webdriver.ChromeOptions()\n",
        "options.add_argument('--headless')\n",
        "options.add_argument('--no-sandbox')\n",
        "options.add_argument('--disable-dev-shm-usage')\n",
        "# open it, go to a website, and get results\n",
        "driver = webdriver.Chrome(options = options)"
      ],
      "metadata": {
        "id": "-SWabOsgezgp"
      },
      "execution_count": 7,
      "outputs": []
    },
    {
      "cell_type": "code",
      "source": [
        "address = []"
      ],
      "metadata": {
        "id": "A6KroSvbtBMr"
      },
      "execution_count": null,
      "outputs": []
    },
    {
      "cell_type": "code",
      "source": [
        "# Define test URL\n",
        "url = 'https://www.google.com/maps/place/1844+SW+Morrison+St,+Portland,+OR+97205/@45.5216813,-122.6930223,17z/data=!3m1!4b1!4m5!3m4!1s0x54950a1da0e05f85:0x84475d3324378445!8m2!3d45.5216776!4d-122.6908283'\n",
        "\n",
        "# Install Chrome webdriver\n",
        "driver = webdriver.Chrome(options = options)\n",
        "\n",
        "# Open URL\n",
        "driver.get(url)"
      ],
      "metadata": {
        "id": "8iaWKpxoe5O-"
      },
      "execution_count": null,
      "outputs": []
    },
    {
      "cell_type": "code",
      "source": [
        "# Click search\n",
        "element = WebDriverWait(driver, 10).until(EC.element_to_be_clickable((By.ID, \"searchbox-searchbutton\")))\n",
        "element.click()"
      ],
      "metadata": {
        "id": "UGYajxyTe6F-"
      },
      "execution_count": null,
      "outputs": []
    },
    {
      "cell_type": "code",
      "source": [
        "# Retrieve the URL\n",
        "link = driver.current_url\n",
        "\n",
        "# We can find the first occurrence of a character by using the \"find\" method\n",
        "link.find('@')"
      ],
      "metadata": {
        "colab": {
          "base_uri": "https://localhost:8080/"
        },
        "id": "zVWf-Q-8fDtU",
        "outputId": "9c7f7e91-2af0-49dc-9eec-7ec2cf8f6ecb"
      },
      "execution_count": null,
      "outputs": [
        {
          "output_type": "execute_result",
          "data": {
            "text/plain": [
              "74"
            ]
          },
          "metadata": {},
          "execution_count": 35
        }
      ]
    },
    {
      "cell_type": "code",
      "source": [
        "# Here's the \"one-liner\"\n",
        "lat, lon = link.rsplit('@', 1)[1].rsplit(',', 1)[0].rsplit(',', 1)\n",
        "\n",
        "lat, lon"
      ],
      "metadata": {
        "colab": {
          "base_uri": "https://localhost:8080/"
        },
        "id": "9v8K2iwhsYQj",
        "outputId": "ce10cec4-bcfa-444d-9904-9a8d9b9064e9"
      },
      "execution_count": null,
      "outputs": [
        {
          "output_type": "execute_result",
          "data": {
            "text/plain": [
              "('45.5216776', '-122.693017')"
            ]
          },
          "metadata": {},
          "execution_count": 36
        }
      ]
    },
    {
      "cell_type": "code",
      "source": [
        "address.append((lat, lon))\n",
        "\n",
        "address"
      ],
      "metadata": {
        "colab": {
          "base_uri": "https://localhost:8080/"
        },
        "id": "e4HEjHETtG3O",
        "outputId": "ee037c9b-771e-48d5-cb03-0521e860b62e"
      },
      "execution_count": null,
      "outputs": [
        {
          "output_type": "execute_result",
          "data": {
            "text/plain": [
              "[('45.5216776', '-122.693017')]"
            ]
          },
          "metadata": {},
          "execution_count": 37
        }
      ]
    },
    {
      "cell_type": "code",
      "source": [
        "driver.close()"
      ],
      "metadata": {
        "id": "P-pSmdjFsliO"
      },
      "execution_count": null,
      "outputs": []
    },
    {
      "cell_type": "code",
      "source": [
        "# Define test URL\n",
        "url2 = 'https://www.google.com/maps/place/800+Occidental+Ave+S,+Seattle,+WA+98134/@47.5933137,-122.3344662,17z/data=!3m1!4b1!4m5!3m4!1s0x54906aa252398549:0x2721f620f2acbb1d!8m2!3d47.5933101!4d-122.3322722'\n",
        "\n",
        "# Install Chrome webdriver\n",
        "driver = webdriver.Chrome(options = options)\n",
        "\n",
        "# Open URL\n",
        "driver.get(url2)"
      ],
      "metadata": {
        "id": "KH7WPiswp5G5"
      },
      "execution_count": null,
      "outputs": []
    },
    {
      "cell_type": "code",
      "source": [
        "# Click search\n",
        "element = WebDriverWait(driver, 10).until(EC.element_to_be_clickable((By.ID, \"searchbox-searchbutton\")))\n",
        "element.click()"
      ],
      "metadata": {
        "id": "HsrlucKUp-Sw"
      },
      "execution_count": null,
      "outputs": []
    },
    {
      "cell_type": "code",
      "source": [
        "# Retrieve the URL\n",
        "link = driver.current_url\n",
        "\n",
        "# We can find the first occurrence of a character by using the \"find\" method\n",
        "link.find('@')"
      ],
      "metadata": {
        "colab": {
          "base_uri": "https://localhost:8080/"
        },
        "id": "L9Efj_AkqBcK",
        "outputId": "319f9562-23a5-410e-d5ed-21ee17b8a747"
      },
      "execution_count": null,
      "outputs": [
        {
          "output_type": "execute_result",
          "data": {
            "text/plain": [
              "74"
            ]
          },
          "metadata": {},
          "execution_count": 41
        }
      ]
    },
    {
      "cell_type": "code",
      "source": [
        "# Here's the \"one-liner\"\n",
        "lat, lon = link.rsplit('@', 1)[1].rsplit(',', 1)[0].rsplit(',', 1)\n",
        "\n",
        "lat, lon"
      ],
      "metadata": {
        "colab": {
          "base_uri": "https://localhost:8080/"
        },
        "id": "dXjMpID2qC4z",
        "outputId": "0d748e65-7180-46ed-cfc0-08c0f5b097c2"
      },
      "execution_count": null,
      "outputs": [
        {
          "output_type": "execute_result",
          "data": {
            "text/plain": [
              "('47.5933098', '-122.341027')"
            ]
          },
          "metadata": {},
          "execution_count": 42
        }
      ]
    },
    {
      "cell_type": "code",
      "source": [
        "address.append((lat, lon))\n",
        "\n",
        "address"
      ],
      "metadata": {
        "colab": {
          "base_uri": "https://localhost:8080/"
        },
        "id": "CZF8punQtSvL",
        "outputId": "f788de4c-867d-4d96-8da0-2d53c36bb833"
      },
      "execution_count": null,
      "outputs": [
        {
          "output_type": "execute_result",
          "data": {
            "text/plain": [
              "[('45.5216776', '-122.693017'), ('47.5933098', '-122.341027')]"
            ]
          },
          "metadata": {},
          "execution_count": 43
        }
      ]
    },
    {
      "cell_type": "code",
      "source": [
        "driver.close()"
      ],
      "metadata": {
        "id": "-Qld97L-qJ9p"
      },
      "execution_count": null,
      "outputs": []
    },
    {
      "cell_type": "code",
      "source": [
        "# Define test URL\n",
        "url3 = 'https://www.google.com/maps/place/1001+Stadium+Dr,+Inglewood,+CA+90301/@33.9530093,-118.3407182,17z/data=!3m1!4b1!4m5!3m4!1s0x80c2b650dde894d7:0x3862b0ff474e1e94!8m2!3d33.9530049!4d-118.3385242'\n",
        "\n",
        "# Install Chrome webdriver\n",
        "driver = webdriver.Chrome(options = options)\n",
        "\n",
        "# Open URL\n",
        "driver.get(url3)"
      ],
      "metadata": {
        "id": "y2itcFeBqPCg"
      },
      "execution_count": null,
      "outputs": []
    },
    {
      "cell_type": "code",
      "source": [
        "# Click search\n",
        "element = WebDriverWait(driver, 10).until(EC.element_to_be_clickable((By.ID, \"searchbox-searchbutton\")))\n",
        "element.click()"
      ],
      "metadata": {
        "id": "fCmPTKc4qRnU"
      },
      "execution_count": null,
      "outputs": []
    },
    {
      "cell_type": "code",
      "source": [
        "# Retrieve the URL\n",
        "link = driver.current_url\n",
        "\n",
        "# We can find the first occurrence of a character by using the \"find\" method\n",
        "link.find('@')"
      ],
      "metadata": {
        "colab": {
          "base_uri": "https://localhost:8080/"
        },
        "id": "BiPHrq0mqUvS",
        "outputId": "b41486e9-c1e7-4b88-83be-ed80675f54c1"
      },
      "execution_count": null,
      "outputs": [
        {
          "output_type": "execute_result",
          "data": {
            "text/plain": [
              "71"
            ]
          },
          "metadata": {},
          "execution_count": 47
        }
      ]
    },
    {
      "cell_type": "code",
      "source": [
        "# Here's the \"one-liner\"\n",
        "lat, lon = link.rsplit('@', 1)[1].rsplit(',', 1)[0].rsplit(',', 1)\n",
        "\n",
        "lat, lon"
      ],
      "metadata": {
        "colab": {
          "base_uri": "https://localhost:8080/"
        },
        "id": "Wkdl69vhqYr8",
        "outputId": "e281691f-6448-4275-9633-6d9932fac5b4"
      },
      "execution_count": null,
      "outputs": [
        {
          "output_type": "execute_result",
          "data": {
            "text/plain": [
              "('33.9530049', '-118.3407129')"
            ]
          },
          "metadata": {},
          "execution_count": 48
        }
      ]
    },
    {
      "cell_type": "code",
      "source": [
        "address.append((lat, lon))\n",
        "\n",
        "address"
      ],
      "metadata": {
        "colab": {
          "base_uri": "https://localhost:8080/"
        },
        "id": "7bDa-zg5tY0-",
        "outputId": "bbe07204-e1ce-4e70-d322-4df6611fc803"
      },
      "execution_count": null,
      "outputs": [
        {
          "output_type": "execute_result",
          "data": {
            "text/plain": [
              "[('45.5216776', '-122.693017'),\n",
              " ('47.5933098', '-122.341027'),\n",
              " ('33.9530049', '-118.3407129')]"
            ]
          },
          "metadata": {},
          "execution_count": 49
        }
      ]
    },
    {
      "cell_type": "code",
      "source": [
        "driver.close()"
      ],
      "metadata": {
        "id": "LNO4PfV9qcv1"
      },
      "execution_count": null,
      "outputs": []
    },
    {
      "cell_type": "code",
      "source": [
        "# Define test URL\n",
        "url4 = 'https://www.google.com/maps/place/2700+Martin+Luther+King+Jr+Blvd,+Eugene,+OR+97401/@44.0594325,-123.0710971,17z/data=!3m1!4b1!4m5!3m4!1s0x54c0e1e26ad2697b:0xdfb621cc4e3608a2!8m2!3d44.0594287!4d-123.0689031'\n",
        "\n",
        "# Install Chrome webdriver\n",
        "driver = webdriver.Chrome(options = options)\n",
        "\n",
        "# Open URL\n",
        "driver.get(url4)"
      ],
      "metadata": {
        "id": "WUvg2AYjqfU5"
      },
      "execution_count": null,
      "outputs": []
    },
    {
      "cell_type": "code",
      "source": [
        "# Click search\n",
        "element = WebDriverWait(driver, 10).until(EC.element_to_be_clickable((By.ID, \"searchbox-searchbutton\")))\n",
        "element.click()"
      ],
      "metadata": {
        "id": "3CGut_6gqlNG"
      },
      "execution_count": null,
      "outputs": []
    },
    {
      "cell_type": "code",
      "source": [
        "# Retrieve the URL\n",
        "link = driver.current_url\n",
        "\n",
        "# We can find the first occurrence of a character by using the \"find\" method\n",
        "link.find('@')"
      ],
      "metadata": {
        "colab": {
          "base_uri": "https://localhost:8080/"
        },
        "id": "i9rEm38qr9JT",
        "outputId": "4644c8a5-7389-4add-fd14-5e3b241a2d66"
      },
      "execution_count": null,
      "outputs": [
        {
          "output_type": "execute_result",
          "data": {
            "text/plain": [
              "84"
            ]
          },
          "metadata": {},
          "execution_count": 53
        }
      ]
    },
    {
      "cell_type": "code",
      "source": [
        "# Here's the \"one-liner\"\n",
        "lat, lon = link.rsplit('@', 1)[1].rsplit(',', 1)[0].rsplit(',', 1)\n",
        "\n",
        "lat, lon"
      ],
      "metadata": {
        "colab": {
          "base_uri": "https://localhost:8080/"
        },
        "id": "Bo3PMrhUr_hj",
        "outputId": "dc5b8e2b-14fe-4e4e-ddfb-20fafee7a4d8"
      },
      "execution_count": null,
      "outputs": [
        {
          "output_type": "execute_result",
          "data": {
            "text/plain": [
              "('44.0594287', '-123.0710918')"
            ]
          },
          "metadata": {},
          "execution_count": 54
        }
      ]
    },
    {
      "cell_type": "code",
      "source": [
        "address.append((lat, lon))\n",
        "\n",
        "address"
      ],
      "metadata": {
        "colab": {
          "base_uri": "https://localhost:8080/"
        },
        "id": "bIvb9ifvtgWb",
        "outputId": "2824f15e-eb72-47ec-d10a-93dba0f0717a"
      },
      "execution_count": null,
      "outputs": [
        {
          "output_type": "execute_result",
          "data": {
            "text/plain": [
              "[('45.5216776', '-122.693017'),\n",
              " ('47.5933098', '-122.341027'),\n",
              " ('33.9530049', '-118.3407129'),\n",
              " ('44.0594287', '-123.0710918')]"
            ]
          },
          "metadata": {},
          "execution_count": 55
        }
      ]
    },
    {
      "cell_type": "code",
      "source": [
        "driver.close()"
      ],
      "metadata": {
        "id": "PzWwvmuTsG5C"
      },
      "execution_count": null,
      "outputs": []
    },
    {
      "cell_type": "code",
      "source": [
        "addrs = [\"1844 SW Morrison St, Portland, OR 97205\",\\\n",
        "    \"800 Occidental Ave S, Seattle, WA 98134\",\\\n",
        "    \"1001 Stadium Dr, Inglewood, CA 90301\",\\\n",
        "    \"2700 Martin Luther King Jr Blvd, Eugene, OR 97401\"]"
      ],
      "metadata": {
        "id": "-oapeQ9esMn1"
      },
      "execution_count": null,
      "outputs": []
    },
    {
      "cell_type": "code",
      "source": [
        "import folium"
      ],
      "metadata": {
        "id": "bjPidpNUuSGW"
      },
      "execution_count": null,
      "outputs": []
    },
    {
      "cell_type": "code",
      "source": [
        "map = folium.Map(location=[44, -121], zoom_start=7)\n",
        "for i in range(0, len(address)):\n",
        "    folium.Marker(address[i], popup=addrs[i]).add_to(map)\n",
        "map"
      ],
      "metadata": {
        "colab": {
          "base_uri": "https://localhost:8080/",
          "height": 866
        },
        "id": "7ILgg3shtwSV",
        "outputId": "3810e9fc-b3c1-4b95-ac64-a53045c7bebf"
      },
      "execution_count": null,
      "outputs": [
        {
          "output_type": "execute_result",
          "data": {
            "text/html": [
              "<div style=\"width:100%;\"><div style=\"position:relative;width:100%;height:0;padding-bottom:60%;\"><span style=\"color:#565656\">Make this Notebook Trusted to load map: File -> Trust Notebook</span><iframe src=\"about:blank\" style=\"position:absolute;width:100%;height:100%;left:0;top:0;border:none !important;\" data-html=%3C%21DOCTYPE%20html%3E%0A%3Chead%3E%20%20%20%20%0A%20%20%20%20%3Cmeta%20http-equiv%3D%22content-type%22%20content%3D%22text/html%3B%20charset%3DUTF-8%22%20/%3E%0A%20%20%20%20%0A%20%20%20%20%20%20%20%20%3Cscript%3E%0A%20%20%20%20%20%20%20%20%20%20%20%20L_NO_TOUCH%20%3D%20false%3B%0A%20%20%20%20%20%20%20%20%20%20%20%20L_DISABLE_3D%20%3D%20false%3B%0A%20%20%20%20%20%20%20%20%3C/script%3E%0A%20%20%20%20%0A%20%20%20%20%3Cstyle%3Ehtml%2C%20body%20%7Bwidth%3A%20100%25%3Bheight%3A%20100%25%3Bmargin%3A%200%3Bpadding%3A%200%3B%7D%3C/style%3E%0A%20%20%20%20%3Cstyle%3E%23map%20%7Bposition%3Aabsolute%3Btop%3A0%3Bbottom%3A0%3Bright%3A0%3Bleft%3A0%3B%7D%3C/style%3E%0A%20%20%20%20%3Cscript%20src%3D%22https%3A//cdn.jsdelivr.net/npm/leaflet%401.6.0/dist/leaflet.js%22%3E%3C/script%3E%0A%20%20%20%20%3Cscript%20src%3D%22https%3A//code.jquery.com/jquery-1.12.4.min.js%22%3E%3C/script%3E%0A%20%20%20%20%3Cscript%20src%3D%22https%3A//maxcdn.bootstrapcdn.com/bootstrap/3.2.0/js/bootstrap.min.js%22%3E%3C/script%3E%0A%20%20%20%20%3Cscript%20src%3D%22https%3A//cdnjs.cloudflare.com/ajax/libs/Leaflet.awesome-markers/2.0.2/leaflet.awesome-markers.js%22%3E%3C/script%3E%0A%20%20%20%20%3Clink%20rel%3D%22stylesheet%22%20href%3D%22https%3A//cdn.jsdelivr.net/npm/leaflet%401.6.0/dist/leaflet.css%22/%3E%0A%20%20%20%20%3Clink%20rel%3D%22stylesheet%22%20href%3D%22https%3A//maxcdn.bootstrapcdn.com/bootstrap/3.2.0/css/bootstrap.min.css%22/%3E%0A%20%20%20%20%3Clink%20rel%3D%22stylesheet%22%20href%3D%22https%3A//maxcdn.bootstrapcdn.com/bootstrap/3.2.0/css/bootstrap-theme.min.css%22/%3E%0A%20%20%20%20%3Clink%20rel%3D%22stylesheet%22%20href%3D%22https%3A//maxcdn.bootstrapcdn.com/font-awesome/4.6.3/css/font-awesome.min.css%22/%3E%0A%20%20%20%20%3Clink%20rel%3D%22stylesheet%22%20href%3D%22https%3A//cdnjs.cloudflare.com/ajax/libs/Leaflet.awesome-markers/2.0.2/leaflet.awesome-markers.css%22/%3E%0A%20%20%20%20%3Clink%20rel%3D%22stylesheet%22%20href%3D%22https%3A//cdn.jsdelivr.net/gh/python-visualization/folium/folium/templates/leaflet.awesome.rotate.min.css%22/%3E%0A%20%20%20%20%0A%20%20%20%20%20%20%20%20%20%20%20%20%3Cmeta%20name%3D%22viewport%22%20content%3D%22width%3Ddevice-width%2C%0A%20%20%20%20%20%20%20%20%20%20%20%20%20%20%20%20initial-scale%3D1.0%2C%20maximum-scale%3D1.0%2C%20user-scalable%3Dno%22%20/%3E%0A%20%20%20%20%20%20%20%20%20%20%20%20%3Cstyle%3E%0A%20%20%20%20%20%20%20%20%20%20%20%20%20%20%20%20%23map_9ecba5647bb748dbb7def5899b4e2f5f%20%7B%0A%20%20%20%20%20%20%20%20%20%20%20%20%20%20%20%20%20%20%20%20position%3A%20relative%3B%0A%20%20%20%20%20%20%20%20%20%20%20%20%20%20%20%20%20%20%20%20width%3A%20100.0%25%3B%0A%20%20%20%20%20%20%20%20%20%20%20%20%20%20%20%20%20%20%20%20height%3A%20100.0%25%3B%0A%20%20%20%20%20%20%20%20%20%20%20%20%20%20%20%20%20%20%20%20left%3A%200.0%25%3B%0A%20%20%20%20%20%20%20%20%20%20%20%20%20%20%20%20%20%20%20%20top%3A%200.0%25%3B%0A%20%20%20%20%20%20%20%20%20%20%20%20%20%20%20%20%7D%0A%20%20%20%20%20%20%20%20%20%20%20%20%3C/style%3E%0A%20%20%20%20%20%20%20%20%0A%3C/head%3E%0A%3Cbody%3E%20%20%20%20%0A%20%20%20%20%0A%20%20%20%20%20%20%20%20%20%20%20%20%3Cdiv%20class%3D%22folium-map%22%20id%3D%22map_9ecba5647bb748dbb7def5899b4e2f5f%22%20%3E%3C/div%3E%0A%20%20%20%20%20%20%20%20%0A%3C/body%3E%0A%3Cscript%3E%20%20%20%20%0A%20%20%20%20%0A%20%20%20%20%20%20%20%20%20%20%20%20var%20map_9ecba5647bb748dbb7def5899b4e2f5f%20%3D%20L.map%28%0A%20%20%20%20%20%20%20%20%20%20%20%20%20%20%20%20%22map_9ecba5647bb748dbb7def5899b4e2f5f%22%2C%0A%20%20%20%20%20%20%20%20%20%20%20%20%20%20%20%20%7B%0A%20%20%20%20%20%20%20%20%20%20%20%20%20%20%20%20%20%20%20%20center%3A%20%5B44.0%2C%20-121.0%5D%2C%0A%20%20%20%20%20%20%20%20%20%20%20%20%20%20%20%20%20%20%20%20crs%3A%20L.CRS.EPSG3857%2C%0A%20%20%20%20%20%20%20%20%20%20%20%20%20%20%20%20%20%20%20%20zoom%3A%207%2C%0A%20%20%20%20%20%20%20%20%20%20%20%20%20%20%20%20%20%20%20%20zoomControl%3A%20true%2C%0A%20%20%20%20%20%20%20%20%20%20%20%20%20%20%20%20%20%20%20%20preferCanvas%3A%20false%2C%0A%20%20%20%20%20%20%20%20%20%20%20%20%20%20%20%20%7D%0A%20%20%20%20%20%20%20%20%20%20%20%20%29%3B%0A%0A%20%20%20%20%20%20%20%20%20%20%20%20%0A%0A%20%20%20%20%20%20%20%20%0A%20%20%20%20%0A%20%20%20%20%20%20%20%20%20%20%20%20var%20tile_layer_d21aebdb2d224ce1be048f7a6e480a75%20%3D%20L.tileLayer%28%0A%20%20%20%20%20%20%20%20%20%20%20%20%20%20%20%20%22https%3A//%7Bs%7D.tile.openstreetmap.org/%7Bz%7D/%7Bx%7D/%7By%7D.png%22%2C%0A%20%20%20%20%20%20%20%20%20%20%20%20%20%20%20%20%7B%22attribution%22%3A%20%22Data%20by%20%5Cu0026copy%3B%20%5Cu003ca%20href%3D%5C%22http%3A//openstreetmap.org%5C%22%5Cu003eOpenStreetMap%5Cu003c/a%5Cu003e%2C%20under%20%5Cu003ca%20href%3D%5C%22http%3A//www.openstreetmap.org/copyright%5C%22%5Cu003eODbL%5Cu003c/a%5Cu003e.%22%2C%20%22detectRetina%22%3A%20false%2C%20%22maxNativeZoom%22%3A%2018%2C%20%22maxZoom%22%3A%2018%2C%20%22minZoom%22%3A%200%2C%20%22noWrap%22%3A%20false%2C%20%22opacity%22%3A%201%2C%20%22subdomains%22%3A%20%22abc%22%2C%20%22tms%22%3A%20false%7D%0A%20%20%20%20%20%20%20%20%20%20%20%20%29.addTo%28map_9ecba5647bb748dbb7def5899b4e2f5f%29%3B%0A%20%20%20%20%20%20%20%20%0A%20%20%20%20%0A%20%20%20%20%20%20%20%20%20%20%20%20var%20marker_0d6c6e0af1604eb49e6b82b8d0f068d5%20%3D%20L.marker%28%0A%20%20%20%20%20%20%20%20%20%20%20%20%20%20%20%20%5B45.5216776%2C%20-122.693017%5D%2C%0A%20%20%20%20%20%20%20%20%20%20%20%20%20%20%20%20%7B%7D%0A%20%20%20%20%20%20%20%20%20%20%20%20%29.addTo%28map_9ecba5647bb748dbb7def5899b4e2f5f%29%3B%0A%20%20%20%20%20%20%20%20%0A%20%20%20%20%0A%20%20%20%20%20%20%20%20var%20popup_ea66592d3f444ce1b6ee6335a7acbb90%20%3D%20L.popup%28%7B%22maxWidth%22%3A%20%22100%25%22%7D%29%3B%0A%0A%20%20%20%20%20%20%20%20%0A%20%20%20%20%20%20%20%20%20%20%20%20var%20html_1eabf3e0d7c444428b2a1d932d65405b%20%3D%20%24%28%60%3Cdiv%20id%3D%22html_1eabf3e0d7c444428b2a1d932d65405b%22%20style%3D%22width%3A%20100.0%25%3B%20height%3A%20100.0%25%3B%22%3E1844%20SW%20Morrison%20St%2C%20Portland%2C%20OR%2097205%3C/div%3E%60%29%5B0%5D%3B%0A%20%20%20%20%20%20%20%20%20%20%20%20popup_ea66592d3f444ce1b6ee6335a7acbb90.setContent%28html_1eabf3e0d7c444428b2a1d932d65405b%29%3B%0A%20%20%20%20%20%20%20%20%0A%0A%20%20%20%20%20%20%20%20marker_0d6c6e0af1604eb49e6b82b8d0f068d5.bindPopup%28popup_ea66592d3f444ce1b6ee6335a7acbb90%29%0A%20%20%20%20%20%20%20%20%3B%0A%0A%20%20%20%20%20%20%20%20%0A%20%20%20%20%0A%20%20%20%20%0A%20%20%20%20%20%20%20%20%20%20%20%20var%20marker_1d61fbb745e040c3b58adeee1e111bc3%20%3D%20L.marker%28%0A%20%20%20%20%20%20%20%20%20%20%20%20%20%20%20%20%5B47.5933098%2C%20-122.341027%5D%2C%0A%20%20%20%20%20%20%20%20%20%20%20%20%20%20%20%20%7B%7D%0A%20%20%20%20%20%20%20%20%20%20%20%20%29.addTo%28map_9ecba5647bb748dbb7def5899b4e2f5f%29%3B%0A%20%20%20%20%20%20%20%20%0A%20%20%20%20%0A%20%20%20%20%20%20%20%20var%20popup_d1ce0532999545b694ab5585700fc909%20%3D%20L.popup%28%7B%22maxWidth%22%3A%20%22100%25%22%7D%29%3B%0A%0A%20%20%20%20%20%20%20%20%0A%20%20%20%20%20%20%20%20%20%20%20%20var%20html_5f0bccbc91bf444c91fd8148afbac5c1%20%3D%20%24%28%60%3Cdiv%20id%3D%22html_5f0bccbc91bf444c91fd8148afbac5c1%22%20style%3D%22width%3A%20100.0%25%3B%20height%3A%20100.0%25%3B%22%3E800%20Occidental%20Ave%20S%2C%20Seattle%2C%20WA%2098134%3C/div%3E%60%29%5B0%5D%3B%0A%20%20%20%20%20%20%20%20%20%20%20%20popup_d1ce0532999545b694ab5585700fc909.setContent%28html_5f0bccbc91bf444c91fd8148afbac5c1%29%3B%0A%20%20%20%20%20%20%20%20%0A%0A%20%20%20%20%20%20%20%20marker_1d61fbb745e040c3b58adeee1e111bc3.bindPopup%28popup_d1ce0532999545b694ab5585700fc909%29%0A%20%20%20%20%20%20%20%20%3B%0A%0A%20%20%20%20%20%20%20%20%0A%20%20%20%20%0A%20%20%20%20%0A%20%20%20%20%20%20%20%20%20%20%20%20var%20marker_d36731dae82e40368b1003e4e63db6d6%20%3D%20L.marker%28%0A%20%20%20%20%20%20%20%20%20%20%20%20%20%20%20%20%5B33.9530049%2C%20-118.3407129%5D%2C%0A%20%20%20%20%20%20%20%20%20%20%20%20%20%20%20%20%7B%7D%0A%20%20%20%20%20%20%20%20%20%20%20%20%29.addTo%28map_9ecba5647bb748dbb7def5899b4e2f5f%29%3B%0A%20%20%20%20%20%20%20%20%0A%20%20%20%20%0A%20%20%20%20%20%20%20%20var%20popup_922b3c3d1c5a4a97a0bdadda7f03df59%20%3D%20L.popup%28%7B%22maxWidth%22%3A%20%22100%25%22%7D%29%3B%0A%0A%20%20%20%20%20%20%20%20%0A%20%20%20%20%20%20%20%20%20%20%20%20var%20html_7fe2cc3cf7db40b7aad9db12df854dec%20%3D%20%24%28%60%3Cdiv%20id%3D%22html_7fe2cc3cf7db40b7aad9db12df854dec%22%20style%3D%22width%3A%20100.0%25%3B%20height%3A%20100.0%25%3B%22%3E1001%20Stadium%20Dr%2C%20Inglewood%2C%20CA%2090301%3C/div%3E%60%29%5B0%5D%3B%0A%20%20%20%20%20%20%20%20%20%20%20%20popup_922b3c3d1c5a4a97a0bdadda7f03df59.setContent%28html_7fe2cc3cf7db40b7aad9db12df854dec%29%3B%0A%20%20%20%20%20%20%20%20%0A%0A%20%20%20%20%20%20%20%20marker_d36731dae82e40368b1003e4e63db6d6.bindPopup%28popup_922b3c3d1c5a4a97a0bdadda7f03df59%29%0A%20%20%20%20%20%20%20%20%3B%0A%0A%20%20%20%20%20%20%20%20%0A%20%20%20%20%0A%20%20%20%20%0A%20%20%20%20%20%20%20%20%20%20%20%20var%20marker_13125b475f4449fe871eeb1072ec572d%20%3D%20L.marker%28%0A%20%20%20%20%20%20%20%20%20%20%20%20%20%20%20%20%5B44.0594287%2C%20-123.0710918%5D%2C%0A%20%20%20%20%20%20%20%20%20%20%20%20%20%20%20%20%7B%7D%0A%20%20%20%20%20%20%20%20%20%20%20%20%29.addTo%28map_9ecba5647bb748dbb7def5899b4e2f5f%29%3B%0A%20%20%20%20%20%20%20%20%0A%20%20%20%20%0A%20%20%20%20%20%20%20%20var%20popup_91154da019cc40a9ba9ac417134e4514%20%3D%20L.popup%28%7B%22maxWidth%22%3A%20%22100%25%22%7D%29%3B%0A%0A%20%20%20%20%20%20%20%20%0A%20%20%20%20%20%20%20%20%20%20%20%20var%20html_f4f89851f572431dac3fde596a8da525%20%3D%20%24%28%60%3Cdiv%20id%3D%22html_f4f89851f572431dac3fde596a8da525%22%20style%3D%22width%3A%20100.0%25%3B%20height%3A%20100.0%25%3B%22%3E2700%20Martin%20Luther%20King%20Jr%20Blvd%2C%20Eugene%2C%20OR%2097401%3C/div%3E%60%29%5B0%5D%3B%0A%20%20%20%20%20%20%20%20%20%20%20%20popup_91154da019cc40a9ba9ac417134e4514.setContent%28html_f4f89851f572431dac3fde596a8da525%29%3B%0A%20%20%20%20%20%20%20%20%0A%0A%20%20%20%20%20%20%20%20marker_13125b475f4449fe871eeb1072ec572d.bindPopup%28popup_91154da019cc40a9ba9ac417134e4514%29%0A%20%20%20%20%20%20%20%20%3B%0A%0A%20%20%20%20%20%20%20%20%0A%20%20%20%20%0A%3C/script%3E onload=\"this.contentDocument.open();this.contentDocument.write(    decodeURIComponent(this.getAttribute('data-html')));this.contentDocument.close();\" allowfullscreen webkitallowfullscreen mozallowfullscreen></iframe></div></div>"
            ],
            "text/plain": [
              "<folium.folium.Map at 0x7ff5d4af6550>"
            ]
          },
          "metadata": {},
          "execution_count": 61
        }
      ]
    },
    {
      "cell_type": "markdown",
      "source": [
        "---------------\n",
        "## Question 5 (10 points)\n",
        "\n",
        "* Which ski resort received **more** snowfall in 2020, Mount Ashland, Willammette Pass or Hoodoo? \n"
      ],
      "metadata": {
        "id": "xITbQqamvDkn"
      }
    },
    {
      "cell_type": "code",
      "source": [
        "from google.colab import drive\n",
        "drive.mount('/content/gdrive')"
      ],
      "metadata": {
        "colab": {
          "base_uri": "https://localhost:8080/",
          "height": 0
        },
        "id": "JdvoBRSv40rO",
        "outputId": "51f476df-fc47-4b65-9be5-6d29670421e3"
      },
      "execution_count": 8,
      "outputs": [
        {
          "output_type": "stream",
          "name": "stdout",
          "text": [
            "Mounted at /content/gdrive\n"
          ]
        }
      ]
    },
    {
      "cell_type": "code",
      "source": [
        "# Import package\n",
        "import xarray as xr\n",
        "\n",
        "# Define filepath\n",
        "fp = '/content/gdrive/My Drive/Colab Notebooks/data'\n",
        "\n",
        "# Read data\n",
        "xds = xr.open_dataset(fp + '/era_monthly_snowfall_2020.nc' , decode_coords='all')"
      ],
      "metadata": {
        "id": "UKO-delBvFvA"
      },
      "execution_count": 9,
      "outputs": []
    },
    {
      "cell_type": "code",
      "source": [
        "xds"
      ],
      "metadata": {
        "colab": {
          "base_uri": "https://localhost:8080/",
          "height": 331
        },
        "id": "pU4gg4Tf5F55",
        "outputId": "4feea348-ba36-476b-d5c2-e53bbdd2e01a"
      },
      "execution_count": 10,
      "outputs": [
        {
          "output_type": "execute_result",
          "data": {
            "text/html": [
              "<div><svg style=\"position: absolute; width: 0; height: 0; overflow: hidden\">\n",
              "<defs>\n",
              "<symbol id=\"icon-database\" viewBox=\"0 0 32 32\">\n",
              "<path d=\"M16 0c-8.837 0-16 2.239-16 5v4c0 2.761 7.163 5 16 5s16-2.239 16-5v-4c0-2.761-7.163-5-16-5z\"></path>\n",
              "<path d=\"M16 17c-8.837 0-16-2.239-16-5v6c0 2.761 7.163 5 16 5s16-2.239 16-5v-6c0 2.761-7.163 5-16 5z\"></path>\n",
              "<path d=\"M16 26c-8.837 0-16-2.239-16-5v6c0 2.761 7.163 5 16 5s16-2.239 16-5v-6c0 2.761-7.163 5-16 5z\"></path>\n",
              "</symbol>\n",
              "<symbol id=\"icon-file-text2\" viewBox=\"0 0 32 32\">\n",
              "<path d=\"M28.681 7.159c-0.694-0.947-1.662-2.053-2.724-3.116s-2.169-2.030-3.116-2.724c-1.612-1.182-2.393-1.319-2.841-1.319h-15.5c-1.378 0-2.5 1.121-2.5 2.5v27c0 1.378 1.122 2.5 2.5 2.5h23c1.378 0 2.5-1.122 2.5-2.5v-19.5c0-0.448-0.137-1.23-1.319-2.841zM24.543 5.457c0.959 0.959 1.712 1.825 2.268 2.543h-4.811v-4.811c0.718 0.556 1.584 1.309 2.543 2.268zM28 29.5c0 0.271-0.229 0.5-0.5 0.5h-23c-0.271 0-0.5-0.229-0.5-0.5v-27c0-0.271 0.229-0.5 0.5-0.5 0 0 15.499-0 15.5 0v7c0 0.552 0.448 1 1 1h7v19.5z\"></path>\n",
              "<path d=\"M23 26h-14c-0.552 0-1-0.448-1-1s0.448-1 1-1h14c0.552 0 1 0.448 1 1s-0.448 1-1 1z\"></path>\n",
              "<path d=\"M23 22h-14c-0.552 0-1-0.448-1-1s0.448-1 1-1h14c0.552 0 1 0.448 1 1s-0.448 1-1 1z\"></path>\n",
              "<path d=\"M23 18h-14c-0.552 0-1-0.448-1-1s0.448-1 1-1h14c0.552 0 1 0.448 1 1s-0.448 1-1 1z\"></path>\n",
              "</symbol>\n",
              "</defs>\n",
              "</svg>\n",
              "<style>/* CSS stylesheet for displaying xarray objects in jupyterlab.\n",
              " *\n",
              " */\n",
              "\n",
              ":root {\n",
              "  --xr-font-color0: var(--jp-content-font-color0, rgba(0, 0, 0, 1));\n",
              "  --xr-font-color2: var(--jp-content-font-color2, rgba(0, 0, 0, 0.54));\n",
              "  --xr-font-color3: var(--jp-content-font-color3, rgba(0, 0, 0, 0.38));\n",
              "  --xr-border-color: var(--jp-border-color2, #e0e0e0);\n",
              "  --xr-disabled-color: var(--jp-layout-color3, #bdbdbd);\n",
              "  --xr-background-color: var(--jp-layout-color0, white);\n",
              "  --xr-background-color-row-even: var(--jp-layout-color1, white);\n",
              "  --xr-background-color-row-odd: var(--jp-layout-color2, #eeeeee);\n",
              "}\n",
              "\n",
              "html[theme=dark],\n",
              "body.vscode-dark {\n",
              "  --xr-font-color0: rgba(255, 255, 255, 1);\n",
              "  --xr-font-color2: rgba(255, 255, 255, 0.54);\n",
              "  --xr-font-color3: rgba(255, 255, 255, 0.38);\n",
              "  --xr-border-color: #1F1F1F;\n",
              "  --xr-disabled-color: #515151;\n",
              "  --xr-background-color: #111111;\n",
              "  --xr-background-color-row-even: #111111;\n",
              "  --xr-background-color-row-odd: #313131;\n",
              "}\n",
              "\n",
              ".xr-wrap {\n",
              "  display: block;\n",
              "  min-width: 300px;\n",
              "  max-width: 700px;\n",
              "}\n",
              "\n",
              ".xr-text-repr-fallback {\n",
              "  /* fallback to plain text repr when CSS is not injected (untrusted notebook) */\n",
              "  display: none;\n",
              "}\n",
              "\n",
              ".xr-header {\n",
              "  padding-top: 6px;\n",
              "  padding-bottom: 6px;\n",
              "  margin-bottom: 4px;\n",
              "  border-bottom: solid 1px var(--xr-border-color);\n",
              "}\n",
              "\n",
              ".xr-header > div,\n",
              ".xr-header > ul {\n",
              "  display: inline;\n",
              "  margin-top: 0;\n",
              "  margin-bottom: 0;\n",
              "}\n",
              "\n",
              ".xr-obj-type,\n",
              ".xr-array-name {\n",
              "  margin-left: 2px;\n",
              "  margin-right: 10px;\n",
              "}\n",
              "\n",
              ".xr-obj-type {\n",
              "  color: var(--xr-font-color2);\n",
              "}\n",
              "\n",
              ".xr-sections {\n",
              "  padding-left: 0 !important;\n",
              "  display: grid;\n",
              "  grid-template-columns: 150px auto auto 1fr 20px 20px;\n",
              "}\n",
              "\n",
              ".xr-section-item {\n",
              "  display: contents;\n",
              "}\n",
              "\n",
              ".xr-section-item input {\n",
              "  display: none;\n",
              "}\n",
              "\n",
              ".xr-section-item input + label {\n",
              "  color: var(--xr-disabled-color);\n",
              "}\n",
              "\n",
              ".xr-section-item input:enabled + label {\n",
              "  cursor: pointer;\n",
              "  color: var(--xr-font-color2);\n",
              "}\n",
              "\n",
              ".xr-section-item input:enabled + label:hover {\n",
              "  color: var(--xr-font-color0);\n",
              "}\n",
              "\n",
              ".xr-section-summary {\n",
              "  grid-column: 1;\n",
              "  color: var(--xr-font-color2);\n",
              "  font-weight: 500;\n",
              "}\n",
              "\n",
              ".xr-section-summary > span {\n",
              "  display: inline-block;\n",
              "  padding-left: 0.5em;\n",
              "}\n",
              "\n",
              ".xr-section-summary-in:disabled + label {\n",
              "  color: var(--xr-font-color2);\n",
              "}\n",
              "\n",
              ".xr-section-summary-in + label:before {\n",
              "  display: inline-block;\n",
              "  content: '►';\n",
              "  font-size: 11px;\n",
              "  width: 15px;\n",
              "  text-align: center;\n",
              "}\n",
              "\n",
              ".xr-section-summary-in:disabled + label:before {\n",
              "  color: var(--xr-disabled-color);\n",
              "}\n",
              "\n",
              ".xr-section-summary-in:checked + label:before {\n",
              "  content: '▼';\n",
              "}\n",
              "\n",
              ".xr-section-summary-in:checked + label > span {\n",
              "  display: none;\n",
              "}\n",
              "\n",
              ".xr-section-summary,\n",
              ".xr-section-inline-details {\n",
              "  padding-top: 4px;\n",
              "  padding-bottom: 4px;\n",
              "}\n",
              "\n",
              ".xr-section-inline-details {\n",
              "  grid-column: 2 / -1;\n",
              "}\n",
              "\n",
              ".xr-section-details {\n",
              "  display: none;\n",
              "  grid-column: 1 / -1;\n",
              "  margin-bottom: 5px;\n",
              "}\n",
              "\n",
              ".xr-section-summary-in:checked ~ .xr-section-details {\n",
              "  display: contents;\n",
              "}\n",
              "\n",
              ".xr-array-wrap {\n",
              "  grid-column: 1 / -1;\n",
              "  display: grid;\n",
              "  grid-template-columns: 20px auto;\n",
              "}\n",
              "\n",
              ".xr-array-wrap > label {\n",
              "  grid-column: 1;\n",
              "  vertical-align: top;\n",
              "}\n",
              "\n",
              ".xr-preview {\n",
              "  color: var(--xr-font-color3);\n",
              "}\n",
              "\n",
              ".xr-array-preview,\n",
              ".xr-array-data {\n",
              "  padding: 0 5px !important;\n",
              "  grid-column: 2;\n",
              "}\n",
              "\n",
              ".xr-array-data,\n",
              ".xr-array-in:checked ~ .xr-array-preview {\n",
              "  display: none;\n",
              "}\n",
              "\n",
              ".xr-array-in:checked ~ .xr-array-data,\n",
              ".xr-array-preview {\n",
              "  display: inline-block;\n",
              "}\n",
              "\n",
              ".xr-dim-list {\n",
              "  display: inline-block !important;\n",
              "  list-style: none;\n",
              "  padding: 0 !important;\n",
              "  margin: 0;\n",
              "}\n",
              "\n",
              ".xr-dim-list li {\n",
              "  display: inline-block;\n",
              "  padding: 0;\n",
              "  margin: 0;\n",
              "}\n",
              "\n",
              ".xr-dim-list:before {\n",
              "  content: '(';\n",
              "}\n",
              "\n",
              ".xr-dim-list:after {\n",
              "  content: ')';\n",
              "}\n",
              "\n",
              ".xr-dim-list li:not(:last-child):after {\n",
              "  content: ',';\n",
              "  padding-right: 5px;\n",
              "}\n",
              "\n",
              ".xr-has-index {\n",
              "  font-weight: bold;\n",
              "}\n",
              "\n",
              ".xr-var-list,\n",
              ".xr-var-item {\n",
              "  display: contents;\n",
              "}\n",
              "\n",
              ".xr-var-item > div,\n",
              ".xr-var-item label,\n",
              ".xr-var-item > .xr-var-name span {\n",
              "  background-color: var(--xr-background-color-row-even);\n",
              "  margin-bottom: 0;\n",
              "}\n",
              "\n",
              ".xr-var-item > .xr-var-name:hover span {\n",
              "  padding-right: 5px;\n",
              "}\n",
              "\n",
              ".xr-var-list > li:nth-child(odd) > div,\n",
              ".xr-var-list > li:nth-child(odd) > label,\n",
              ".xr-var-list > li:nth-child(odd) > .xr-var-name span {\n",
              "  background-color: var(--xr-background-color-row-odd);\n",
              "}\n",
              "\n",
              ".xr-var-name {\n",
              "  grid-column: 1;\n",
              "}\n",
              "\n",
              ".xr-var-dims {\n",
              "  grid-column: 2;\n",
              "}\n",
              "\n",
              ".xr-var-dtype {\n",
              "  grid-column: 3;\n",
              "  text-align: right;\n",
              "  color: var(--xr-font-color2);\n",
              "}\n",
              "\n",
              ".xr-var-preview {\n",
              "  grid-column: 4;\n",
              "}\n",
              "\n",
              ".xr-var-name,\n",
              ".xr-var-dims,\n",
              ".xr-var-dtype,\n",
              ".xr-preview,\n",
              ".xr-attrs dt {\n",
              "  white-space: nowrap;\n",
              "  overflow: hidden;\n",
              "  text-overflow: ellipsis;\n",
              "  padding-right: 10px;\n",
              "}\n",
              "\n",
              ".xr-var-name:hover,\n",
              ".xr-var-dims:hover,\n",
              ".xr-var-dtype:hover,\n",
              ".xr-attrs dt:hover {\n",
              "  overflow: visible;\n",
              "  width: auto;\n",
              "  z-index: 1;\n",
              "}\n",
              "\n",
              ".xr-var-attrs,\n",
              ".xr-var-data {\n",
              "  display: none;\n",
              "  background-color: var(--xr-background-color) !important;\n",
              "  padding-bottom: 5px !important;\n",
              "}\n",
              "\n",
              ".xr-var-attrs-in:checked ~ .xr-var-attrs,\n",
              ".xr-var-data-in:checked ~ .xr-var-data {\n",
              "  display: block;\n",
              "}\n",
              "\n",
              ".xr-var-data > table {\n",
              "  float: right;\n",
              "}\n",
              "\n",
              ".xr-var-name span,\n",
              ".xr-var-data,\n",
              ".xr-attrs {\n",
              "  padding-left: 25px !important;\n",
              "}\n",
              "\n",
              ".xr-attrs,\n",
              ".xr-var-attrs,\n",
              ".xr-var-data {\n",
              "  grid-column: 1 / -1;\n",
              "}\n",
              "\n",
              "dl.xr-attrs {\n",
              "  padding: 0;\n",
              "  margin: 0;\n",
              "  display: grid;\n",
              "  grid-template-columns: 125px auto;\n",
              "}\n",
              "\n",
              ".xr-attrs dt,\n",
              ".xr-attrs dd {\n",
              "  padding: 0;\n",
              "  margin: 0;\n",
              "  float: left;\n",
              "  padding-right: 10px;\n",
              "  width: auto;\n",
              "}\n",
              "\n",
              ".xr-attrs dt {\n",
              "  font-weight: normal;\n",
              "  grid-column: 1;\n",
              "}\n",
              "\n",
              ".xr-attrs dt:hover span {\n",
              "  display: inline-block;\n",
              "  background: var(--xr-background-color);\n",
              "  padding-right: 10px;\n",
              "}\n",
              "\n",
              ".xr-attrs dd {\n",
              "  grid-column: 2;\n",
              "  white-space: pre-wrap;\n",
              "  word-break: break-all;\n",
              "}\n",
              "\n",
              ".xr-icon-database,\n",
              ".xr-icon-file-text2 {\n",
              "  display: inline-block;\n",
              "  vertical-align: middle;\n",
              "  width: 1em;\n",
              "  height: 1.5em !important;\n",
              "  stroke-width: 0;\n",
              "  stroke: currentColor;\n",
              "  fill: currentColor;\n",
              "}\n",
              "</style><pre class='xr-text-repr-fallback'>&lt;xarray.Dataset&gt;\n",
              "Dimensions:    (latitude: 25, longitude: 49, time: 12)\n",
              "Coordinates:\n",
              "  * longitude  (longitude) float32 -128.0 -127.8 -127.5 ... -116.5 -116.2 -116.0\n",
              "  * latitude   (latitude) float32 47.0 46.75 46.5 46.25 ... 41.5 41.25 41.0\n",
              "  * time       (time) datetime64[ns] 2020-01-01 2020-02-01 ... 2020-12-01\n",
              "Data variables:\n",
              "    sf         (time, latitude, longitude) float32 -4.657e-10 ... 0.0005956\n",
              "Attributes:\n",
              "    Conventions:  CF-1.6\n",
              "    history:      2022-01-30 21:04:05 GMT by grib_to_netcdf-2.23.0: /opt/ecmw...</pre><div class='xr-wrap' hidden><div class='xr-header'><div class='xr-obj-type'>xarray.Dataset</div></div><ul class='xr-sections'><li class='xr-section-item'><input id='section-7dd96a23-e981-4295-b2fc-0afca99255fb' class='xr-section-summary-in' type='checkbox' disabled ><label for='section-7dd96a23-e981-4295-b2fc-0afca99255fb' class='xr-section-summary'  title='Expand/collapse section'>Dimensions:</label><div class='xr-section-inline-details'><ul class='xr-dim-list'><li><span class='xr-has-index'>latitude</span>: 25</li><li><span class='xr-has-index'>longitude</span>: 49</li><li><span class='xr-has-index'>time</span>: 12</li></ul></div><div class='xr-section-details'></div></li><li class='xr-section-item'><input id='section-616ea5e1-520d-40d0-8ed3-b59337930e82' class='xr-section-summary-in' type='checkbox'  checked><label for='section-616ea5e1-520d-40d0-8ed3-b59337930e82' class='xr-section-summary' >Coordinates: <span>(3)</span></label><div class='xr-section-inline-details'></div><div class='xr-section-details'><ul class='xr-var-list'><li class='xr-var-item'><div class='xr-var-name'><span class='xr-has-index'>longitude</span></div><div class='xr-var-dims'>(longitude)</div><div class='xr-var-dtype'>float32</div><div class='xr-var-preview xr-preview'>-128.0 -127.8 ... -116.2 -116.0</div><input id='attrs-d8efe59a-ec7e-4bfc-848d-208d328db7da' class='xr-var-attrs-in' type='checkbox' ><label for='attrs-d8efe59a-ec7e-4bfc-848d-208d328db7da' title='Show/Hide attributes'><svg class='icon xr-icon-file-text2'><use xlink:href='#icon-file-text2'></use></svg></label><input id='data-18aa8855-4ed8-471b-b2bc-15a855ca16ca' class='xr-var-data-in' type='checkbox'><label for='data-18aa8855-4ed8-471b-b2bc-15a855ca16ca' title='Show/Hide data repr'><svg class='icon xr-icon-database'><use xlink:href='#icon-database'></use></svg></label><div class='xr-var-attrs'><dl class='xr-attrs'><dt><span>units :</span></dt><dd>degrees_east</dd><dt><span>long_name :</span></dt><dd>longitude</dd></dl></div><div class='xr-var-data'><pre>array([-128.  , -127.75, -127.5 , -127.25, -127.  , -126.75, -126.5 , -126.25,\n",
              "       -126.  , -125.75, -125.5 , -125.25, -125.  , -124.75, -124.5 , -124.25,\n",
              "       -124.  , -123.75, -123.5 , -123.25, -123.  , -122.75, -122.5 , -122.25,\n",
              "       -122.  , -121.75, -121.5 , -121.25, -121.  , -120.75, -120.5 , -120.25,\n",
              "       -120.  , -119.75, -119.5 , -119.25, -119.  , -118.75, -118.5 , -118.25,\n",
              "       -118.  , -117.75, -117.5 , -117.25, -117.  , -116.75, -116.5 , -116.25,\n",
              "       -116.  ], dtype=float32)</pre></div></li><li class='xr-var-item'><div class='xr-var-name'><span class='xr-has-index'>latitude</span></div><div class='xr-var-dims'>(latitude)</div><div class='xr-var-dtype'>float32</div><div class='xr-var-preview xr-preview'>47.0 46.75 46.5 ... 41.5 41.25 41.0</div><input id='attrs-60a4dd6e-334a-4217-94be-844220a9317a' class='xr-var-attrs-in' type='checkbox' ><label for='attrs-60a4dd6e-334a-4217-94be-844220a9317a' title='Show/Hide attributes'><svg class='icon xr-icon-file-text2'><use xlink:href='#icon-file-text2'></use></svg></label><input id='data-417a84c7-6f97-46c3-8350-4463452d8416' class='xr-var-data-in' type='checkbox'><label for='data-417a84c7-6f97-46c3-8350-4463452d8416' title='Show/Hide data repr'><svg class='icon xr-icon-database'><use xlink:href='#icon-database'></use></svg></label><div class='xr-var-attrs'><dl class='xr-attrs'><dt><span>units :</span></dt><dd>degrees_north</dd><dt><span>long_name :</span></dt><dd>latitude</dd></dl></div><div class='xr-var-data'><pre>array([47.  , 46.75, 46.5 , 46.25, 46.  , 45.75, 45.5 , 45.25, 45.  , 44.75,\n",
              "       44.5 , 44.25, 44.  , 43.75, 43.5 , 43.25, 43.  , 42.75, 42.5 , 42.25,\n",
              "       42.  , 41.75, 41.5 , 41.25, 41.  ], dtype=float32)</pre></div></li><li class='xr-var-item'><div class='xr-var-name'><span class='xr-has-index'>time</span></div><div class='xr-var-dims'>(time)</div><div class='xr-var-dtype'>datetime64[ns]</div><div class='xr-var-preview xr-preview'>2020-01-01 ... 2020-12-01</div><input id='attrs-6155f084-2a8e-40eb-905a-4adaa747f8db' class='xr-var-attrs-in' type='checkbox' ><label for='attrs-6155f084-2a8e-40eb-905a-4adaa747f8db' title='Show/Hide attributes'><svg class='icon xr-icon-file-text2'><use xlink:href='#icon-file-text2'></use></svg></label><input id='data-4ed02954-5884-44cb-a50a-a8f943b7ac97' class='xr-var-data-in' type='checkbox'><label for='data-4ed02954-5884-44cb-a50a-a8f943b7ac97' title='Show/Hide data repr'><svg class='icon xr-icon-database'><use xlink:href='#icon-database'></use></svg></label><div class='xr-var-attrs'><dl class='xr-attrs'><dt><span>long_name :</span></dt><dd>time</dd></dl></div><div class='xr-var-data'><pre>array([&#x27;2020-01-01T00:00:00.000000000&#x27;, &#x27;2020-02-01T00:00:00.000000000&#x27;,\n",
              "       &#x27;2020-03-01T00:00:00.000000000&#x27;, &#x27;2020-04-01T00:00:00.000000000&#x27;,\n",
              "       &#x27;2020-05-01T00:00:00.000000000&#x27;, &#x27;2020-06-01T00:00:00.000000000&#x27;,\n",
              "       &#x27;2020-07-01T00:00:00.000000000&#x27;, &#x27;2020-08-01T00:00:00.000000000&#x27;,\n",
              "       &#x27;2020-09-01T00:00:00.000000000&#x27;, &#x27;2020-10-01T00:00:00.000000000&#x27;,\n",
              "       &#x27;2020-11-01T00:00:00.000000000&#x27;, &#x27;2020-12-01T00:00:00.000000000&#x27;],\n",
              "      dtype=&#x27;datetime64[ns]&#x27;)</pre></div></li></ul></div></li><li class='xr-section-item'><input id='section-8934e817-fa88-4ead-86a1-4d262cd0557d' class='xr-section-summary-in' type='checkbox'  checked><label for='section-8934e817-fa88-4ead-86a1-4d262cd0557d' class='xr-section-summary' >Data variables: <span>(1)</span></label><div class='xr-section-inline-details'></div><div class='xr-section-details'><ul class='xr-var-list'><li class='xr-var-item'><div class='xr-var-name'><span>sf</span></div><div class='xr-var-dims'>(time, latitude, longitude)</div><div class='xr-var-dtype'>float32</div><div class='xr-var-preview xr-preview'>...</div><input id='attrs-dc5b0a6a-7e85-473b-bb39-98dbfc87629a' class='xr-var-attrs-in' type='checkbox' ><label for='attrs-dc5b0a6a-7e85-473b-bb39-98dbfc87629a' title='Show/Hide attributes'><svg class='icon xr-icon-file-text2'><use xlink:href='#icon-file-text2'></use></svg></label><input id='data-f1cb6a9c-689c-4b0f-8fea-c7520213177d' class='xr-var-data-in' type='checkbox'><label for='data-f1cb6a9c-689c-4b0f-8fea-c7520213177d' title='Show/Hide data repr'><svg class='icon xr-icon-database'><use xlink:href='#icon-database'></use></svg></label><div class='xr-var-attrs'><dl class='xr-attrs'><dt><span>units :</span></dt><dd>m of water equivalent</dd><dt><span>long_name :</span></dt><dd>Snowfall</dd><dt><span>standard_name :</span></dt><dd>lwe_thickness_of_snowfall_amount</dd></dl></div><div class='xr-var-data'><pre>array([[[-4.656613e-10,  3.797468e-06, ...,  7.095437e-03,  9.166803e-03],\n",
              "        [-4.656613e-10, -4.656613e-10, ...,  4.137035e-03,  5.899501e-03],\n",
              "        ...,\n",
              "        [-4.656613e-10, -4.656613e-10, ...,  1.813949e-03,  1.599364e-03],\n",
              "        [-4.656613e-10, -4.656613e-10, ...,  1.411364e-03,  1.196780e-03]],\n",
              "\n",
              "       [[-4.656613e-10, -4.656613e-10, ...,  3.826657e-03,  4.766864e-03],\n",
              "        [-4.656613e-10, -4.656613e-10, ...,  2.944053e-03,  4.072259e-03],\n",
              "        ...,\n",
              "        [-4.656613e-10, -4.656613e-10, ...,  7.391251e-04,  6.332044e-04],\n",
              "        [-4.656613e-10, -4.656613e-10, ...,  5.055508e-04,  4.511131e-04]],\n",
              "\n",
              "       ...,\n",
              "\n",
              "       [[-4.656613e-10, -4.656613e-10, ...,  2.967896e-03,  3.781293e-03],\n",
              "        [-4.656613e-10, -4.656613e-10, ...,  1.843066e-03,  2.307472e-03],\n",
              "        ...,\n",
              "        [-4.656613e-10, -4.656613e-10, ...,  9.575081e-04,  7.925075e-04],\n",
              "        [-4.656613e-10, -4.656613e-10, ...,  7.357490e-04,  6.175903e-04]],\n",
              "\n",
              "       [[-4.656613e-10, -4.656613e-10, ...,  3.699214e-03,  4.183666e-03],\n",
              "        [-4.656613e-10, -4.656613e-10, ...,  2.190580e-03,  2.953970e-03],\n",
              "        ...,\n",
              "        [-4.656613e-10, -4.656613e-10, ...,  7.872325e-04,  6.532492e-04],\n",
              "        [-4.656613e-10, -4.656613e-10, ...,  7.032556e-04,  5.956464e-04]]],\n",
              "      dtype=float32)</pre></div></li></ul></div></li><li class='xr-section-item'><input id='section-0bc86149-6a8c-41bd-8b87-d72e4d7f9231' class='xr-section-summary-in' type='checkbox'  checked><label for='section-0bc86149-6a8c-41bd-8b87-d72e4d7f9231' class='xr-section-summary' >Attributes: <span>(2)</span></label><div class='xr-section-inline-details'></div><div class='xr-section-details'><dl class='xr-attrs'><dt><span>Conventions :</span></dt><dd>CF-1.6</dd><dt><span>history :</span></dt><dd>2022-01-30 21:04:05 GMT by grib_to_netcdf-2.23.0: /opt/ecmwf/mars-client/bin/grib_to_netcdf -S param -o /cache/data6/adaptor.mars.internal-1643576645.547142-29574-12-6e006e1c-6452-4b43-8b38-b506dd10f98b.nc /cache/tmp/6e006e1c-6452-4b43-8b38-b506dd10f98b-adaptor.mars.internal-1643576640.5525317-29574-17-tmp.grib</dd></dl></div></li></ul></div></div>"
            ],
            "text/plain": [
              "<xarray.Dataset>\n",
              "Dimensions:    (latitude: 25, longitude: 49, time: 12)\n",
              "Coordinates:\n",
              "  * longitude  (longitude) float32 -128.0 -127.8 -127.5 ... -116.5 -116.2 -116.0\n",
              "  * latitude   (latitude) float32 47.0 46.75 46.5 46.25 ... 41.5 41.25 41.0\n",
              "  * time       (time) datetime64[ns] 2020-01-01 2020-02-01 ... 2020-12-01\n",
              "Data variables:\n",
              "    sf         (time, latitude, longitude) float32 ...\n",
              "Attributes:\n",
              "    Conventions:  CF-1.6\n",
              "    history:      2022-01-30 21:04:05 GMT by grib_to_netcdf-2.23.0: /opt/ecmw..."
            ]
          },
          "metadata": {},
          "execution_count": 10
        }
      ]
    },
    {
      "cell_type": "code",
      "source": [
        "xds.info"
      ],
      "metadata": {
        "colab": {
          "base_uri": "https://localhost:8080/",
          "height": 0
        },
        "id": "g2LnAV6P5gL6",
        "outputId": "3312e4b5-894b-45d8-d99f-514baa9d94f5"
      },
      "execution_count": 11,
      "outputs": [
        {
          "output_type": "execute_result",
          "data": {
            "text/plain": [
              "<bound method Dataset.info of <xarray.Dataset>\n",
              "Dimensions:    (latitude: 25, longitude: 49, time: 12)\n",
              "Coordinates:\n",
              "  * longitude  (longitude) float32 -128.0 -127.8 -127.5 ... -116.5 -116.2 -116.0\n",
              "  * latitude   (latitude) float32 47.0 46.75 46.5 46.25 ... 41.5 41.25 41.0\n",
              "  * time       (time) datetime64[ns] 2020-01-01 2020-02-01 ... 2020-12-01\n",
              "Data variables:\n",
              "    sf         (time, latitude, longitude) float32 -4.657e-10 ... 0.0005956\n",
              "Attributes:\n",
              "    Conventions:  CF-1.6\n",
              "    history:      2022-01-30 21:04:05 GMT by grib_to_netcdf-2.23.0: /opt/ecmw...>"
            ]
          },
          "metadata": {},
          "execution_count": 11
        }
      ]
    },
    {
      "cell_type": "code",
      "source": [
        "# Prints data time period \n",
        "print('The data ranges from %s to %s' %(xds['sf']['time'].values.min(), xds['sf']['time'].values.max()))"
      ],
      "metadata": {
        "colab": {
          "base_uri": "https://localhost:8080/",
          "height": 0
        },
        "id": "aZyp6-Jtnghd",
        "outputId": "27a74a1c-36e6-4b5b-a239-f9aa9f11f7ec"
      },
      "execution_count": 13,
      "outputs": [
        {
          "output_type": "stream",
          "name": "stdout",
          "text": [
            "The data ranges from 2020-01-01T00:00:00.000000000 to 2020-12-01T00:00:00.000000000\n"
          ]
        }
      ]
    },
    {
      "cell_type": "code",
      "source": [
        "ashland = xds.sel(latitude=42.0817, longitude=-122.7048, method='nearest')\n",
        "willamette =  xds.sel(latitude=43.6001, longitude=-122.0365, method='nearest')\n",
        "hoodoo =  xds.sel(latitude=44.4086, longitude=-121.8714, method='nearest')"
      ],
      "metadata": {
        "id": "pWpgI39UnqN2"
      },
      "execution_count": 14,
      "outputs": []
    },
    {
      "cell_type": "code",
      "source": [
        "ashland_waterm = ashland['sf'].values.sum()\n",
        "print('ashland',ashland_waterm)\n",
        "\n",
        "willamette_waterm = willamette['sf'].values.sum()\n",
        "print('willamette', willamette_waterm)\n",
        "\n",
        "hoodoo_waterm = hoodoo['sf'].values.sum()\n",
        "print('hoodoo', hoodoo_waterm)\n"
      ],
      "metadata": {
        "colab": {
          "base_uri": "https://localhost:8080/",
          "height": 0
        },
        "id": "a5-SLVUMnlqu",
        "outputId": "391fe531-3155-46d1-a897-35ce4529caf9"
      },
      "execution_count": 17,
      "outputs": [
        {
          "output_type": "stream",
          "name": "stdout",
          "text": [
            "ashland 0.009228621\n",
            "willamette 0.019636936\n",
            "hoodoo 0.018596929\n"
          ]
        }
      ]
    },
    {
      "cell_type": "markdown",
      "source": [
        "According to the sum of equivalent water in meters, Willamette Pass area had the most snow fall for the year with .0196 meters.  "
      ],
      "metadata": {
        "id": "PLEDJGDYpy_T"
      }
    }
  ]
}