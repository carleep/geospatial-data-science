{
 "cells": [
  {
   "cell_type": "code",
   "execution_count": 1,
   "id": "0f8dbfb3",
   "metadata": {},
   "outputs": [],
   "source": [
    "# Import libraries\n",
    "import pandas as pd\n",
    "import numpy as np\n",
    "import geopandas as gpd\n",
    "import matplotlib.pyplot as plt\n",
    "from sklearn.preprocessing import StandardScaler\n",
    "from sklearn.preprocessing import LabelEncoder\n",
    "from sklearn.model_selection import train_test_split\n",
    "from sklearn.ensemble import RandomForestRegressor\n",
    "from sklearn.metrics import mean_squared_error"
   ]
  },
  {
   "cell_type": "code",
   "execution_count": 2,
   "id": "c5295f87",
   "metadata": {},
   "outputs": [
    {
     "data": {
      "text/html": [
       "<div>\n",
       "<style scoped>\n",
       "    .dataframe tbody tr th:only-of-type {\n",
       "        vertical-align: middle;\n",
       "    }\n",
       "\n",
       "    .dataframe tbody tr th {\n",
       "        vertical-align: top;\n",
       "    }\n",
       "\n",
       "    .dataframe thead th {\n",
       "        text-align: right;\n",
       "    }\n",
       "</style>\n",
       "<table border=\"1\" class=\"dataframe\">\n",
       "  <thead>\n",
       "    <tr style=\"text-align: right;\">\n",
       "      <th></th>\n",
       "      <th>price</th>\n",
       "      <th>bedrooms</th>\n",
       "      <th>bathrooms</th>\n",
       "      <th>sqft_living</th>\n",
       "      <th>sqft_lot</th>\n",
       "      <th>yr_built</th>\n",
       "      <th>lat</th>\n",
       "      <th>long</th>\n",
       "    </tr>\n",
       "  </thead>\n",
       "  <tbody>\n",
       "    <tr>\n",
       "      <th>0</th>\n",
       "      <td>538000</td>\n",
       "      <td>3</td>\n",
       "      <td>2.25</td>\n",
       "      <td>2570</td>\n",
       "      <td>7242</td>\n",
       "      <td>1951</td>\n",
       "      <td>47.7210</td>\n",
       "      <td>-122.319</td>\n",
       "    </tr>\n",
       "    <tr>\n",
       "      <th>1</th>\n",
       "      <td>180000</td>\n",
       "      <td>2</td>\n",
       "      <td>1.00</td>\n",
       "      <td>770</td>\n",
       "      <td>10000</td>\n",
       "      <td>1933</td>\n",
       "      <td>47.7379</td>\n",
       "      <td>-122.233</td>\n",
       "    </tr>\n",
       "    <tr>\n",
       "      <th>2</th>\n",
       "      <td>604000</td>\n",
       "      <td>4</td>\n",
       "      <td>3.00</td>\n",
       "      <td>1960</td>\n",
       "      <td>5000</td>\n",
       "      <td>1965</td>\n",
       "      <td>47.5208</td>\n",
       "      <td>-122.393</td>\n",
       "    </tr>\n",
       "    <tr>\n",
       "      <th>3</th>\n",
       "      <td>510000</td>\n",
       "      <td>3</td>\n",
       "      <td>2.00</td>\n",
       "      <td>1680</td>\n",
       "      <td>8080</td>\n",
       "      <td>1987</td>\n",
       "      <td>47.6168</td>\n",
       "      <td>-122.045</td>\n",
       "    </tr>\n",
       "    <tr>\n",
       "      <th>4</th>\n",
       "      <td>1230000</td>\n",
       "      <td>4</td>\n",
       "      <td>4.50</td>\n",
       "      <td>5420</td>\n",
       "      <td>101930</td>\n",
       "      <td>2001</td>\n",
       "      <td>47.6561</td>\n",
       "      <td>-122.005</td>\n",
       "    </tr>\n",
       "  </tbody>\n",
       "</table>\n",
       "</div>"
      ],
      "text/plain": [
       "     price  bedrooms  bathrooms  sqft_living  sqft_lot  yr_built      lat  \\\n",
       "0   538000         3       2.25         2570      7242      1951  47.7210   \n",
       "1   180000         2       1.00          770     10000      1933  47.7379   \n",
       "2   604000         4       3.00         1960      5000      1965  47.5208   \n",
       "3   510000         3       2.00         1680      8080      1987  47.6168   \n",
       "4  1230000         4       4.50         5420    101930      2001  47.6561   \n",
       "\n",
       "      long  \n",
       "0 -122.319  \n",
       "1 -122.233  \n",
       "2 -122.393  \n",
       "3 -122.045  \n",
       "4 -122.005  "
      ]
     },
     "execution_count": 2,
     "metadata": {},
     "output_type": "execute_result"
    }
   ],
   "source": [
    "# Import data\n",
    "df = pd.read_csv('C:/Users/clynn/Documents/GitHub/geospatial-data-science/labs/lab5/seattle_house_prices.csv')\n",
    "coast = gpd.read_file(\"C:/Users/clynn/Documents/GitHub/geospatial-data-science/labs/lab5/washington_coastline.shp\")\n",
    "waterbodies = gpd.read_file (\"C:/Users/clynn/Documents/GitHub/geospatial-data-science/labs/lab5/Waterbodies_with_History_and_Jurisdictional_detail___wtrbdy_det_area.shp\")\n",
    "# Examine dataset (each row represents one block group)\n",
    "df.head()"
   ]
  },
  {
   "cell_type": "code",
   "execution_count": 3,
   "id": "a3c01ac9",
   "metadata": {},
   "outputs": [],
   "source": [
    "# Convert DataFrame to GeoDataFrame\n",
    "gdf = gpd.GeoDataFrame(df, geometry=gpd.points_from_xy(df['long'], df['lat']))\n",
    "gdf = gdf.set_crs(4326, allow_override=True)\n",
    "\n",
    "# Reproject everything to UTM 10N (EPSG:32610)\n",
    "gdf_utm = gdf.to_crs('EPSG:32610')\n",
    "coast_utm = coast.to_crs('EPSG:32610')\n",
    "waterbodies_utm = waterbodies.to_crs('EPSG:32610')"
   ]
  },
  {
   "cell_type": "code",
   "execution_count": 7,
   "id": "96560b72",
   "metadata": {},
   "outputs": [
    {
     "data": {
      "text/html": [
       "<div>\n",
       "<style scoped>\n",
       "    .dataframe tbody tr th:only-of-type {\n",
       "        vertical-align: middle;\n",
       "    }\n",
       "\n",
       "    .dataframe tbody tr th {\n",
       "        vertical-align: top;\n",
       "    }\n",
       "\n",
       "    .dataframe thead th {\n",
       "        text-align: right;\n",
       "    }\n",
       "</style>\n",
       "<table border=\"1\" class=\"dataframe\">\n",
       "  <thead>\n",
       "    <tr style=\"text-align: right;\">\n",
       "      <th></th>\n",
       "      <th>price</th>\n",
       "      <th>bedrooms</th>\n",
       "      <th>bathrooms</th>\n",
       "      <th>sqft_living</th>\n",
       "      <th>sqft_lot</th>\n",
       "      <th>yr_built</th>\n",
       "      <th>lat</th>\n",
       "      <th>long</th>\n",
       "    </tr>\n",
       "  </thead>\n",
       "  <tbody>\n",
       "    <tr>\n",
       "      <th>count</th>\n",
       "      <td>1.945100e+04</td>\n",
       "      <td>19451.000000</td>\n",
       "      <td>19451.000000</td>\n",
       "      <td>19451.000000</td>\n",
       "      <td>1.945100e+04</td>\n",
       "      <td>19451.000000</td>\n",
       "      <td>19451.000000</td>\n",
       "      <td>19451.000000</td>\n",
       "    </tr>\n",
       "    <tr>\n",
       "      <th>mean</th>\n",
       "      <td>5.404634e+05</td>\n",
       "      <td>3.369955</td>\n",
       "      <td>2.114943</td>\n",
       "      <td>2081.149967</td>\n",
       "      <td>1.508406e+04</td>\n",
       "      <td>1971.021438</td>\n",
       "      <td>47.559780</td>\n",
       "      <td>-122.213896</td>\n",
       "    </tr>\n",
       "    <tr>\n",
       "      <th>std</th>\n",
       "      <td>3.685123e+05</td>\n",
       "      <td>0.906639</td>\n",
       "      <td>0.769818</td>\n",
       "      <td>918.160494</td>\n",
       "      <td>4.160157e+04</td>\n",
       "      <td>29.363143</td>\n",
       "      <td>0.138783</td>\n",
       "      <td>0.140694</td>\n",
       "    </tr>\n",
       "    <tr>\n",
       "      <th>min</th>\n",
       "      <td>7.500000e+04</td>\n",
       "      <td>0.000000</td>\n",
       "      <td>0.000000</td>\n",
       "      <td>290.000000</td>\n",
       "      <td>5.200000e+02</td>\n",
       "      <td>1900.000000</td>\n",
       "      <td>47.155900</td>\n",
       "      <td>-122.519000</td>\n",
       "    </tr>\n",
       "    <tr>\n",
       "      <th>25%</th>\n",
       "      <td>3.210000e+05</td>\n",
       "      <td>3.000000</td>\n",
       "      <td>1.750000</td>\n",
       "      <td>1420.000000</td>\n",
       "      <td>5.042500e+03</td>\n",
       "      <td>1952.000000</td>\n",
       "      <td>47.469500</td>\n",
       "      <td>-122.328000</td>\n",
       "    </tr>\n",
       "    <tr>\n",
       "      <th>50%</th>\n",
       "      <td>4.500000e+05</td>\n",
       "      <td>3.000000</td>\n",
       "      <td>2.250000</td>\n",
       "      <td>1920.000000</td>\n",
       "      <td>7.620000e+03</td>\n",
       "      <td>1975.000000</td>\n",
       "      <td>47.571700</td>\n",
       "      <td>-122.231000</td>\n",
       "    </tr>\n",
       "    <tr>\n",
       "      <th>75%</th>\n",
       "      <td>6.450000e+05</td>\n",
       "      <td>4.000000</td>\n",
       "      <td>2.500000</td>\n",
       "      <td>2550.000000</td>\n",
       "      <td>1.066550e+04</td>\n",
       "      <td>1997.000000</td>\n",
       "      <td>47.677900</td>\n",
       "      <td>-122.125000</td>\n",
       "    </tr>\n",
       "    <tr>\n",
       "      <th>max</th>\n",
       "      <td>7.700000e+06</td>\n",
       "      <td>11.000000</td>\n",
       "      <td>8.000000</td>\n",
       "      <td>13540.000000</td>\n",
       "      <td>1.651359e+06</td>\n",
       "      <td>2015.000000</td>\n",
       "      <td>47.777600</td>\n",
       "      <td>-121.315000</td>\n",
       "    </tr>\n",
       "  </tbody>\n",
       "</table>\n",
       "</div>"
      ],
      "text/plain": [
       "              price      bedrooms     bathrooms   sqft_living      sqft_lot  \\\n",
       "count  1.945100e+04  19451.000000  19451.000000  19451.000000  1.945100e+04   \n",
       "mean   5.404634e+05      3.369955      2.114943   2081.149967  1.508406e+04   \n",
       "std    3.685123e+05      0.906639      0.769818    918.160494  4.160157e+04   \n",
       "min    7.500000e+04      0.000000      0.000000    290.000000  5.200000e+02   \n",
       "25%    3.210000e+05      3.000000      1.750000   1420.000000  5.042500e+03   \n",
       "50%    4.500000e+05      3.000000      2.250000   1920.000000  7.620000e+03   \n",
       "75%    6.450000e+05      4.000000      2.500000   2550.000000  1.066550e+04   \n",
       "max    7.700000e+06     11.000000      8.000000  13540.000000  1.651359e+06   \n",
       "\n",
       "           yr_built           lat          long  \n",
       "count  19451.000000  19451.000000  19451.000000  \n",
       "mean    1971.021438     47.559780   -122.213896  \n",
       "std       29.363143      0.138783      0.140694  \n",
       "min     1900.000000     47.155900   -122.519000  \n",
       "25%     1952.000000     47.469500   -122.328000  \n",
       "50%     1975.000000     47.571700   -122.231000  \n",
       "75%     1997.000000     47.677900   -122.125000  \n",
       "max     2015.000000     47.777600   -121.315000  "
      ]
     },
     "execution_count": 7,
     "metadata": {},
     "output_type": "execute_result"
    }
   ],
   "source": [
    "# Check summary statistics\n",
    "df.describe()"
   ]
  },
  {
   "cell_type": "code",
   "execution_count": 9,
   "id": "a3bb5898",
   "metadata": {},
   "outputs": [
    {
     "data": {
      "text/plain": [
       "price          19451\n",
       "bedrooms       19451\n",
       "bathrooms      19451\n",
       "sqft_living    19451\n",
       "sqft_lot       19451\n",
       "yr_built       19451\n",
       "lat            19451\n",
       "long           19451\n",
       "geometry       19451\n",
       "dtype: int64"
      ]
     },
     "execution_count": 9,
     "metadata": {},
     "output_type": "execute_result"
    }
   ],
   "source": [
    "df.count()"
   ]
  },
  {
   "cell_type": "markdown",
   "id": "2ea73ce7",
   "metadata": {},
   "source": [
    "1) There are 19,451 houses in the seattle database. "
   ]
  },
  {
   "cell_type": "code",
   "execution_count": 10,
   "id": "15e4415d",
   "metadata": {},
   "outputs": [
    {
     "data": {
      "text/html": [
       "<div>\n",
       "<style scoped>\n",
       "    .dataframe tbody tr th:only-of-type {\n",
       "        vertical-align: middle;\n",
       "    }\n",
       "\n",
       "    .dataframe tbody tr th {\n",
       "        vertical-align: top;\n",
       "    }\n",
       "\n",
       "    .dataframe thead th {\n",
       "        text-align: right;\n",
       "    }\n",
       "</style>\n",
       "<table border=\"1\" class=\"dataframe\">\n",
       "  <thead>\n",
       "    <tr style=\"text-align: right;\">\n",
       "      <th></th>\n",
       "      <th>price</th>\n",
       "      <th>bedrooms</th>\n",
       "      <th>bathrooms</th>\n",
       "      <th>sqft_living</th>\n",
       "      <th>sqft_lot</th>\n",
       "      <th>yr_built</th>\n",
       "      <th>lat</th>\n",
       "      <th>long</th>\n",
       "      <th>geometry</th>\n",
       "    </tr>\n",
       "  </thead>\n",
       "  <tbody>\n",
       "    <tr>\n",
       "      <th>0</th>\n",
       "      <td>538000</td>\n",
       "      <td>3</td>\n",
       "      <td>2.25</td>\n",
       "      <td>2570</td>\n",
       "      <td>7242</td>\n",
       "      <td>1951</td>\n",
       "      <td>47.7210</td>\n",
       "      <td>-122.319</td>\n",
       "      <td>POINT (-122.31900 47.72100)</td>\n",
       "    </tr>\n",
       "    <tr>\n",
       "      <th>1</th>\n",
       "      <td>180000</td>\n",
       "      <td>2</td>\n",
       "      <td>1.00</td>\n",
       "      <td>770</td>\n",
       "      <td>10000</td>\n",
       "      <td>1933</td>\n",
       "      <td>47.7379</td>\n",
       "      <td>-122.233</td>\n",
       "      <td>POINT (-122.23300 47.73790)</td>\n",
       "    </tr>\n",
       "    <tr>\n",
       "      <th>2</th>\n",
       "      <td>604000</td>\n",
       "      <td>4</td>\n",
       "      <td>3.00</td>\n",
       "      <td>1960</td>\n",
       "      <td>5000</td>\n",
       "      <td>1965</td>\n",
       "      <td>47.5208</td>\n",
       "      <td>-122.393</td>\n",
       "      <td>POINT (-122.39300 47.52080)</td>\n",
       "    </tr>\n",
       "    <tr>\n",
       "      <th>3</th>\n",
       "      <td>510000</td>\n",
       "      <td>3</td>\n",
       "      <td>2.00</td>\n",
       "      <td>1680</td>\n",
       "      <td>8080</td>\n",
       "      <td>1987</td>\n",
       "      <td>47.6168</td>\n",
       "      <td>-122.045</td>\n",
       "      <td>POINT (-122.04500 47.61680)</td>\n",
       "    </tr>\n",
       "    <tr>\n",
       "      <th>4</th>\n",
       "      <td>1230000</td>\n",
       "      <td>4</td>\n",
       "      <td>4.50</td>\n",
       "      <td>5420</td>\n",
       "      <td>101930</td>\n",
       "      <td>2001</td>\n",
       "      <td>47.6561</td>\n",
       "      <td>-122.005</td>\n",
       "      <td>POINT (-122.00500 47.65610)</td>\n",
       "    </tr>\n",
       "  </tbody>\n",
       "</table>\n",
       "</div>"
      ],
      "text/plain": [
       "     price  bedrooms  bathrooms  sqft_living  sqft_lot  yr_built      lat  \\\n",
       "0   538000         3       2.25         2570      7242      1951  47.7210   \n",
       "1   180000         2       1.00          770     10000      1933  47.7379   \n",
       "2   604000         4       3.00         1960      5000      1965  47.5208   \n",
       "3   510000         3       2.00         1680      8080      1987  47.6168   \n",
       "4  1230000         4       4.50         5420    101930      2001  47.6561   \n",
       "\n",
       "      long                     geometry  \n",
       "0 -122.319  POINT (-122.31900 47.72100)  \n",
       "1 -122.233  POINT (-122.23300 47.73790)  \n",
       "2 -122.393  POINT (-122.39300 47.52080)  \n",
       "3 -122.045  POINT (-122.04500 47.61680)  \n",
       "4 -122.005  POINT (-122.00500 47.65610)  "
      ]
     },
     "execution_count": 10,
     "metadata": {},
     "output_type": "execute_result"
    }
   ],
   "source": [
    "# Examine dataset (each row represents one block group)\n",
    "df.head()"
   ]
  },
  {
   "cell_type": "markdown",
   "id": "c819fd4d",
   "metadata": {},
   "source": [
    "2) There are 7 features to potentially use for predicting housing prices. We do not use price because it is what we are trying to predict. "
   ]
  },
  {
   "cell_type": "code",
   "execution_count": 13,
   "id": "c85a5258",
   "metadata": {},
   "outputs": [
    {
     "name": "stdout",
     "output_type": "stream",
     "text": [
      "<class 'pandas.core.frame.DataFrame'>\n",
      "RangeIndex: 19451 entries, 0 to 19450\n",
      "Data columns (total 9 columns):\n",
      " #   Column       Non-Null Count  Dtype   \n",
      "---  ------       --------------  -----   \n",
      " 0   price        19451 non-null  int64   \n",
      " 1   bedrooms     19451 non-null  int64   \n",
      " 2   bathrooms    19451 non-null  float64 \n",
      " 3   sqft_living  19451 non-null  int64   \n",
      " 4   sqft_lot     19451 non-null  int64   \n",
      " 5   yr_built     19451 non-null  int64   \n",
      " 6   lat          19451 non-null  float64 \n",
      " 7   long         19451 non-null  float64 \n",
      " 8   geometry     19451 non-null  geometry\n",
      "dtypes: float64(3), geometry(1), int64(5)\n",
      "memory usage: 1.3 MB\n"
     ]
    }
   ],
   "source": [
    "# Check for NaN values and data types\n",
    "df.info()"
   ]
  },
  {
   "cell_type": "code",
   "execution_count": 14,
   "id": "d4d9b6c9",
   "metadata": {},
   "outputs": [
    {
     "data": {
      "text/plain": [
       "price          0\n",
       "bedrooms       0\n",
       "bathrooms      0\n",
       "sqft_living    0\n",
       "sqft_lot       0\n",
       "yr_built       0\n",
       "lat            0\n",
       "long           0\n",
       "geometry       0\n",
       "dtype: int64"
      ]
     },
     "execution_count": 14,
     "metadata": {},
     "output_type": "execute_result"
    }
   ],
   "source": [
    "df.isnull().sum(axis=0)"
   ]
  },
  {
   "cell_type": "markdown",
   "id": "dafa83ba",
   "metadata": {},
   "source": [
    "3) There are 0 null values."
   ]
  },
  {
   "cell_type": "code",
   "execution_count": 71,
   "id": "95161679",
   "metadata": {},
   "outputs": [
    {
     "data": {
      "text/plain": [
       "price          1.000000\n",
       "sqft_living    0.702296\n",
       "bathrooms      0.524395\n",
       "bedrooms       0.315804\n",
       "lat            0.308082\n",
       "sqft_lot       0.090125\n",
       "yr_built       0.052453\n",
       "long           0.020092\n",
       "Name: price, dtype: float64"
      ]
     },
     "execution_count": 71,
     "metadata": {},
     "output_type": "execute_result"
    }
   ],
   "source": [
    "# Compute correlation matrix\n",
    "corr_matrix = df.corr()\n",
    "\n",
    "# Display just house value correlations\n",
    "corr_matrix[\"price\"].sort_values(ascending= False)"
   ]
  },
  {
   "cell_type": "markdown",
   "id": "54a4d4e7",
   "metadata": {},
   "source": [
    "4) The three best correlated with house prices are squared feet living with 0.702, bathrooms with 0.524, and bedrooms with 0.3158."
   ]
  },
  {
   "cell_type": "markdown",
   "id": "3ae0e561",
   "metadata": {},
   "source": [
    "5) The three lowest correlated features with the house prices is long with 0.02, year built with 0.052, and squared feet lot with 0.09. The lat feature is in the middle of best correlated and lowest correlated with 0.308."
   ]
  },
  {
   "cell_type": "markdown",
   "id": "086ccb3b",
   "metadata": {},
   "source": [
    "Part 2"
   ]
  },
  {
   "cell_type": "code",
   "execution_count": 1,
   "id": "95250dcd",
   "metadata": {},
   "outputs": [],
   "source": [
    "# Import libraries\n",
    "import pandas as pd\n",
    "import numpy as np\n",
    "import geopandas as gpd\n",
    "import matplotlib.pyplot as plt\n",
    "from sklearn.preprocessing import StandardScaler\n",
    "from sklearn.preprocessing import LabelEncoder\n",
    "from sklearn.model_selection import train_test_split\n",
    "from sklearn.ensemble import RandomForestRegressor\n",
    "from sklearn.metrics import mean_squared_error"
   ]
  },
  {
   "cell_type": "code",
   "execution_count": 3,
   "id": "90a821b1",
   "metadata": {},
   "outputs": [
    {
     "data": {
      "text/html": [
       "<div>\n",
       "<style scoped>\n",
       "    .dataframe tbody tr th:only-of-type {\n",
       "        vertical-align: middle;\n",
       "    }\n",
       "\n",
       "    .dataframe tbody tr th {\n",
       "        vertical-align: top;\n",
       "    }\n",
       "\n",
       "    .dataframe thead th {\n",
       "        text-align: right;\n",
       "    }\n",
       "</style>\n",
       "<table border=\"1\" class=\"dataframe\">\n",
       "  <thead>\n",
       "    <tr style=\"text-align: right;\">\n",
       "      <th></th>\n",
       "      <th>price</th>\n",
       "      <th>bedrooms</th>\n",
       "      <th>bathrooms</th>\n",
       "      <th>sqft_living</th>\n",
       "      <th>sqft_lot</th>\n",
       "      <th>yr_built</th>\n",
       "      <th>lat</th>\n",
       "      <th>long</th>\n",
       "    </tr>\n",
       "  </thead>\n",
       "  <tbody>\n",
       "    <tr>\n",
       "      <th>0</th>\n",
       "      <td>538000</td>\n",
       "      <td>3</td>\n",
       "      <td>2.25</td>\n",
       "      <td>2570</td>\n",
       "      <td>7242</td>\n",
       "      <td>1951</td>\n",
       "      <td>47.7210</td>\n",
       "      <td>-122.319</td>\n",
       "    </tr>\n",
       "    <tr>\n",
       "      <th>1</th>\n",
       "      <td>180000</td>\n",
       "      <td>2</td>\n",
       "      <td>1.00</td>\n",
       "      <td>770</td>\n",
       "      <td>10000</td>\n",
       "      <td>1933</td>\n",
       "      <td>47.7379</td>\n",
       "      <td>-122.233</td>\n",
       "    </tr>\n",
       "    <tr>\n",
       "      <th>2</th>\n",
       "      <td>604000</td>\n",
       "      <td>4</td>\n",
       "      <td>3.00</td>\n",
       "      <td>1960</td>\n",
       "      <td>5000</td>\n",
       "      <td>1965</td>\n",
       "      <td>47.5208</td>\n",
       "      <td>-122.393</td>\n",
       "    </tr>\n",
       "    <tr>\n",
       "      <th>3</th>\n",
       "      <td>510000</td>\n",
       "      <td>3</td>\n",
       "      <td>2.00</td>\n",
       "      <td>1680</td>\n",
       "      <td>8080</td>\n",
       "      <td>1987</td>\n",
       "      <td>47.6168</td>\n",
       "      <td>-122.045</td>\n",
       "    </tr>\n",
       "    <tr>\n",
       "      <th>4</th>\n",
       "      <td>1230000</td>\n",
       "      <td>4</td>\n",
       "      <td>4.50</td>\n",
       "      <td>5420</td>\n",
       "      <td>101930</td>\n",
       "      <td>2001</td>\n",
       "      <td>47.6561</td>\n",
       "      <td>-122.005</td>\n",
       "    </tr>\n",
       "  </tbody>\n",
       "</table>\n",
       "</div>"
      ],
      "text/plain": [
       "     price  bedrooms  bathrooms  sqft_living  sqft_lot  yr_built      lat  \\\n",
       "0   538000         3       2.25         2570      7242      1951  47.7210   \n",
       "1   180000         2       1.00          770     10000      1933  47.7379   \n",
       "2   604000         4       3.00         1960      5000      1965  47.5208   \n",
       "3   510000         3       2.00         1680      8080      1987  47.6168   \n",
       "4  1230000         4       4.50         5420    101930      2001  47.6561   \n",
       "\n",
       "      long  \n",
       "0 -122.319  \n",
       "1 -122.233  \n",
       "2 -122.393  \n",
       "3 -122.045  \n",
       "4 -122.005  "
      ]
     },
     "execution_count": 3,
     "metadata": {},
     "output_type": "execute_result"
    }
   ],
   "source": [
    "# Import data\n",
    "df = pd.read_csv('C:/Users/clynn/Documents/GitHub/geospatial-data-science/labs/lab5/seattle_house_prices.csv')\n",
    "coast = gpd.read_file(\"C:/Users/clynn/Documents/GitHub/geospatial-data-science/labs/lab5/washington_coastline.shp\")\n",
    "# Examine dataset (each row represents one block group)\n",
    "df.head()"
   ]
  },
  {
   "cell_type": "code",
   "execution_count": 4,
   "id": "87a39464",
   "metadata": {},
   "outputs": [],
   "source": [
    "# Convert DataFrame to GeoDataFrame\n",
    "gdf = gpd.GeoDataFrame(df, geometry=gpd.points_from_xy(df['long'], df['lat']))\n",
    "gdf = gdf.set_crs(4326, allow_override=True)\n",
    "\n",
    "# Reproject everything to UTM 10N (EPSG:32610)\n",
    "gdf_utm = gdf.to_crs('EPSG:32610')\n",
    "coast_utm = coast.to_crs('EPSG:32610')"
   ]
  },
  {
   "cell_type": "code",
   "execution_count": 5,
   "id": "66c4ede2",
   "metadata": {},
   "outputs": [],
   "source": [
    "# Define feature list\n",
    "feature_list =  ['sqft_living', 'bathrooms', 'bedrooms', 'lat',\n",
    "                 'sqft_lot', 'yr_built', 'long', ]\n",
    "\n",
    "# Define features and labels \n",
    "X = gdf_utm[feature_list]\n",
    "y = gdf_utm['price']\n",
    "\n",
    "# Standarize data\n",
    "scaler = StandardScaler()  \n",
    "X_scaled = scaler.fit_transform(X)"
   ]
  },
  {
   "cell_type": "code",
   "execution_count": 28,
   "id": "428db178",
   "metadata": {},
   "outputs": [
    {
     "data": {
      "text/plain": [
       "price                 1.000000\n",
       "sqftl_per_yr_built    0.708089\n",
       "sqft_living           0.702296\n",
       "sqftl_per_lat         0.700293\n",
       "sqft_liv_per_bed      0.580062\n",
       "bathrooms             0.524395\n",
       "bedrooms              0.315804\n",
       "long_lat              0.309133\n",
       "lat                   0.308082\n",
       "sqft_lot              0.090125\n",
       "sqft_lot_per_lat      0.089649\n",
       "yr_built              0.052453\n",
       "sqft_lot_per_room     0.048319\n",
       "distance_to_coast     0.027830\n",
       "long                  0.020092\n",
       "Name: price, dtype: float64"
      ]
     },
     "execution_count": 28,
     "metadata": {},
     "output_type": "execute_result"
    }
   ],
   "source": [
    "# Compute correlation matrix\n",
    "corr_matrix = gdf_utm.corr()\n",
    "\n",
    "# Display just house value correlations\n",
    "corr_matrix[\"price\"].sort_values(ascending= False)"
   ]
  },
  {
   "cell_type": "code",
   "execution_count": 7,
   "id": "52bda365",
   "metadata": {},
   "outputs": [],
   "source": [
    "gdf_utm['sqftl_per_yr_built'] = gdf_utm['sqft_living'] / gdf_utm['yr_built']"
   ]
  },
  {
   "cell_type": "code",
   "execution_count": 8,
   "id": "51aaef1f",
   "metadata": {},
   "outputs": [],
   "source": [
    "gdf_utm['sqft_liv_per_bed'] = gdf_utm['sqft_living'] / gdf_utm['bedrooms']"
   ]
  },
  {
   "cell_type": "code",
   "execution_count": 9,
   "id": "eed7d68a",
   "metadata": {},
   "outputs": [],
   "source": [
    "gdf_utm['sqft_lot_per_room'] = gdf_utm['sqft_lot'] / gdf_utm['bedrooms']"
   ]
  },
  {
   "cell_type": "code",
   "execution_count": 10,
   "id": "58bc6af6",
   "metadata": {},
   "outputs": [],
   "source": [
    "gdf_utm['long_lat'] = gdf_utm['long'] / gdf_utm['lat']"
   ]
  },
  {
   "cell_type": "code",
   "execution_count": 11,
   "id": "a60e3b2f",
   "metadata": {},
   "outputs": [],
   "source": [
    "gdf_utm['sqftl_per_lat'] = gdf_utm['sqft_living'] / gdf_utm['lat']"
   ]
  },
  {
   "cell_type": "code",
   "execution_count": 13,
   "id": "61fa7f12",
   "metadata": {},
   "outputs": [],
   "source": [
    "# Compute distance to coast\n",
    "distance_to_coast = []\n",
    "for i in range(gdf_utm.shape[0]):\n",
    "    distance_to_coast.append(coast_utm.distance(gdf_utm['geometry'].iloc[i]).min())\n",
    "    \n",
    "# Add to DataFrame\n",
    "gdf_utm['distance_to_coast'] = distance_to_coast"
   ]
  },
  {
   "cell_type": "code",
   "execution_count": 48,
   "id": "e8ee2a21",
   "metadata": {},
   "outputs": [],
   "source": [
    "# Split data \n",
    "X_train, X_test, y_train, y_test = train_test_split(X_scaled, y, test_size=0.2, random_state=42)"
   ]
  },
  {
   "cell_type": "code",
   "execution_count": 49,
   "id": "958d54c0",
   "metadata": {},
   "outputs": [
    {
     "data": {
      "text/plain": [
       "RandomForestRegressor(n_estimators=30)"
      ]
     },
     "execution_count": 49,
     "metadata": {},
     "output_type": "execute_result"
    }
   ],
   "source": [
    "# Define model\n",
    "forest_reg = RandomForestRegressor(n_estimators = 30)\n",
    "\n",
    "# Fit model\n",
    "forest_reg.fit(X_train, y_train)"
   ]
  },
  {
   "cell_type": "code",
   "execution_count": 50,
   "id": "7885a7be",
   "metadata": {},
   "outputs": [
    {
     "data": {
      "text/plain": [
       "153666.61591451074"
      ]
     },
     "execution_count": 50,
     "metadata": {},
     "output_type": "execute_result"
    }
   ],
   "source": [
    "# Predict test labels predictions\n",
    "predictions = forest_reg.predict(X_test)\n",
    "\n",
    "# Compute mean-squared-error\n",
    "final_mse = mean_squared_error(y_test , predictions)\n",
    "final_rmse = np.sqrt(final_mse)\n",
    "final_rmse\n",
    "# output is the number of errors. Lower the number the better"
   ]
  }
 ],
 "metadata": {
  "kernelspec": {
   "display_name": "Python 3 (ipykernel)",
   "language": "python",
   "name": "python3"
  },
  "language_info": {
   "codemirror_mode": {
    "name": "ipython",
    "version": 3
   },
   "file_extension": ".py",
   "mimetype": "text/x-python",
   "name": "python",
   "nbconvert_exporter": "python",
   "pygments_lexer": "ipython3",
   "version": "3.8.12"
  }
 },
 "nbformat": 4,
 "nbformat_minor": 5
}
